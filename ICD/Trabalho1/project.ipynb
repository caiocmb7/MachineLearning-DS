{
 "cells": [
  {
   "cell_type": "code",
   "execution_count": 10,
   "id": "45c040ba-f0ca-4ba5-8445-bb962e2af1e7",
   "metadata": {},
   "outputs": [
    {
     "name": "stdout",
     "output_type": "stream",
     "text": [
      "The lab_black extension is already loaded. To reload it, use:\n",
      "  %reload_ext lab_black\n"
     ]
    }
   ],
   "source": [
    "# from ScrapZAP.scrap_zap_v2 import scrap_dataframe\n",
    "import pandas as pd\n",
    "import numpy as np\n",
    "import nb_black\n",
    "import os\n",
    "import warnings\n",
    "\n",
    "warnings.filterwarnings(\"ignore\")\n",
    "\n",
    "\n",
    "%load_ext lab_black"
   ]
  },
  {
   "cell_type": "markdown",
   "id": "f9c127da-7690-42d5-8437-6e9bf8065499",
   "metadata": {},
   "source": [
    "### Pre-Incrementação\n",
    "\n",
    "Essa análise abaixo foi necessária para que nosso script de webscraping tenha as mesmas colunas e formato do dataset que está no kaggle, então abaixo foi feito uma análise sobre o shape deles e também sobre quais colunas tem em um e que não tem no outro, até que se chegou no ponto final, que é quando as duas tem o mesmo shape e colunas iguais, que é o output dessa parte.\n",
    "\n",
    "Isso impactou no código scrap_zap_v3 (nossa versão), pois tive que modificar as colunas que são filtradas e consequentemente criadas o dataframe.\n",
    "\n",
    "dfc = dataset do kaggle\n",
    "\n",
    "dfx = um dos datasets que o webscraping cria"
   ]
  },
  {
   "cell_type": "code",
   "execution_count": 17,
   "id": "9af0e055-25de-4ea1-ab63-eef81fd0bb81",
   "metadata": {},
   "outputs": [
    {
     "data": {
      "text/plain": [
       "(35772, 78)"
      ]
     },
     "execution_count": 17,
     "metadata": {},
     "output_type": "execute_result"
    }
   ],
   "source": [
    "df = pd.read_csv(\"dataZAP.csv\", delimiter=\";\")\n",
    "df.shape"
   ]
  },
  {
   "cell_type": "code",
   "execution_count": 19,
   "id": "72882602-59ed-438c-af08-6be941499184",
   "metadata": {},
   "outputs": [
    {
     "data": {
      "text/plain": [
       "(352, 78)"
      ]
     },
     "execution_count": 19,
     "metadata": {},
     "output_type": "execute_result"
    }
   ],
   "source": [
    "df_aux = pd.read_csv(\n",
    "    \"webscraping-datasets/dataZap_ce_aluguel_casas_TODOS_3.csv\", delimiter=\";\"\n",
    ")\n",
    "df_aux.shape"
   ]
  },
  {
   "cell_type": "code",
   "execution_count": 20,
   "id": "3a3693c5-0d95-42c8-b692-ad22fdb4f2c8",
   "metadata": {},
   "outputs": [],
   "source": [
    "dfc = []\n",
    "for i in df.columns:\n",
    "    dfc.append(i)\n",
    "\n",
    "dfx = []\n",
    "for i in df_aux.columns:\n",
    "    dfx.append(i)\n",
    "\n",
    "dfc = set(dfc)\n",
    "dfx = set(dfx)"
   ]
  },
  {
   "cell_type": "code",
   "execution_count": 21,
   "id": "5d7581fa-7682-4a4c-87da-a30ebb4c67d2",
   "metadata": {},
   "outputs": [
    {
     "data": {
      "text/plain": [
       "78"
      ]
     },
     "execution_count": 21,
     "metadata": {},
     "output_type": "execute_result"
    }
   ],
   "source": [
    "len(dfc.intersection(dfx))"
   ]
  },
  {
   "cell_type": "code",
   "execution_count": 22,
   "id": "ca4d2d65-68e5-4193-8306-e0dd8ca360b5",
   "metadata": {},
   "outputs": [
    {
     "data": {
      "text/plain": [
       "[]"
      ]
     },
     "execution_count": 22,
     "metadata": {},
     "output_type": "execute_result"
    }
   ],
   "source": [
    "list(dfc - dfx)"
   ]
  },
  {
   "cell_type": "code",
   "execution_count": 23,
   "id": "f279c21c-c571-4dac-8a6c-fafa1af5978d",
   "metadata": {},
   "outputs": [
    {
     "data": {
      "text/plain": [
       "[]"
      ]
     },
     "execution_count": 23,
     "metadata": {},
     "output_type": "execute_result"
    }
   ],
   "source": [
    "list(dfx - dfc)"
   ]
  },
  {
   "cell_type": "markdown",
   "id": "1429f4cf-7300-4df0-a209-63412233a51d",
   "metadata": {},
   "source": [
    "### Utilização do Script de WebScraping"
   ]
  },
  {
   "cell_type": "code",
   "execution_count": 1,
   "id": "50569f51-25dd-4c7c-bfbc-e49e65b3bb71",
   "metadata": {
    "tags": []
   },
   "outputs": [
    {
     "name": "stdout",
     "output_type": "stream",
     "text": [
      "TODOS -> TODOS -> es -> casas -> 3\n",
      "\n",
      "Criando o arquivo dataZAP_aluguel_casas_TODOS.csv com os dados\n",
      "\n",
      "Arquivo criado\n",
      "\n",
      "Webscraping finalizado!\n"
     ]
    }
   ],
   "source": [
    "!python ./webscraping/scrap_zap_v3.py"
   ]
  },
  {
   "cell_type": "markdown",
   "id": "6bdb6211-7a3b-42e8-84ab-1996c40ccead",
   "metadata": {},
   "source": [
    "### Incrementação do Dataset"
   ]
  },
  {
   "cell_type": "code",
   "execution_count": 24,
   "id": "16d64a21-71d2-4682-b227-02a63dc81a00",
   "metadata": {},
   "outputs": [],
   "source": [
    "def print_shape_dfs(folder_path):\n",
    "    files = os.listdir(folder_path)\n",
    "    csv_files = [f for f in files if f.endswith(\".csv\")]\n",
    "\n",
    "    for file in csv_files:\n",
    "        filepath = os.path.join(folder_path, file)\n",
    "        df = pd.read_csv(filepath, delimiter=\";\")\n",
    "        print(f\"{file} -> {df.shape}\")"
   ]
  },
  {
   "cell_type": "code",
   "execution_count": 25,
   "id": "0c55ac2b-0183-4ec5-b5c0-b91c568268ab",
   "metadata": {},
   "outputs": [],
   "source": [
    "def concat_csv_files(folder_path):\n",
    "    files = os.listdir(folder_path)\n",
    "    csv_files = [f for f in files if f.endswith(\".csv\")]\n",
    "    print_shape_dfs(folder_path)\n",
    "    # Criar uma lista de dfs\n",
    "    dfs = []\n",
    "    for file in csv_files:\n",
    "        filepath = os.path.join(folder_path, file)\n",
    "        temp_df = pd.read_csv(filepath, delimiter=\";\")\n",
    "        dfs.append(temp_df)\n",
    "\n",
    "    # Adicionar o df do kaggle na lista de dfs do webscraping\n",
    "    df_kaggle = pd.read_csv(\"dataZAP.csv\", delimiter=\";\")\n",
    "    dfs.append(df_kaggle)\n",
    "\n",
    "    # Obter todas as colunas presentes em todos os dfs\n",
    "    all_columns = set().union(*[set(df.columns) for df in dfs])\n",
    "\n",
    "    # Reindexar as colunas em todos os dfs para garantir que eles tenham as mesmas colunas e na mesma ordem\n",
    "    dfs = [df.reindex(columns=all_columns) for df in dfs]\n",
    "\n",
    "    result = pd.concat(dfs, ignore_index=True)\n",
    "    output_file = os.path.join(\"./\", \"dataZap_concatenated.csv\")\n",
    "    result.to_csv(output_file, sep=\";\", index=False)\n",
    "    print(f\"Shape do df inicial: {df_kaggle.shape}\\nShape do df final: {result.shape}\")"
   ]
  },
  {
   "cell_type": "code",
   "execution_count": 26,
   "id": "ad853f2c-ac07-4113-a69f-f737292963f4",
   "metadata": {},
   "outputs": [
    {
     "name": "stdout",
     "output_type": "stream",
     "text": [
      "dataZap_ba_aluguel_casas_TODOS_3.csv -> (495, 78)\n",
      "dataZap_ce_aluguel_casas_TODOS_3.csv -> (352, 78)\n",
      "dataZap_es_aluguel_casas_TODOS_3.csv -> (106, 78)\n",
      "dataZap_mg_aluguel_casas_TODOS_3.csv -> (1727, 78)\n",
      "dataZap_rj_aluguel_casas_TODOS_3.csv -> (1227, 78)\n",
      "dataZap_sp_aluguel_casas_TODOS_3.csv -> (8900, 78)\n",
      "Shape do df inicial: (35772, 78)\n",
      "Shape do df final: (48579, 78)\n"
     ]
    }
   ],
   "source": [
    "concat_csv_files(\"webscraping-datasets\")"
   ]
  }
 ],
 "metadata": {
  "kernelspec": {
   "display_name": "Python 3 (ipykernel)",
   "language": "python",
   "name": "python3"
  },
  "language_info": {
   "codemirror_mode": {
    "name": "ipython",
    "version": 3
   },
   "file_extension": ".py",
   "mimetype": "text/x-python",
   "name": "python",
   "nbconvert_exporter": "python",
   "pygments_lexer": "ipython3",
   "version": "3.10.9"
  }
 },
 "nbformat": 4,
 "nbformat_minor": 5
}
