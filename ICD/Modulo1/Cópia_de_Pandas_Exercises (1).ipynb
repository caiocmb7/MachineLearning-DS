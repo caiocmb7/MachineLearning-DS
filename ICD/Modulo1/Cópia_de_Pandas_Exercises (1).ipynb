{
 "cells": [
  {
   "cell_type": "markdown",
   "metadata": {},
   "source": [
    "Nome: Caio Martim Barros\n",
    "\n",
    "Matrícula: 472713"
   ]
  },
  {
   "cell_type": "markdown",
   "metadata": {
    "id": "o76oqqepEiqb"
   },
   "source": [
    "# Pandas Exercises"
   ]
  },
  {
   "cell_type": "markdown",
   "metadata": {
    "id": "wjzxNIWlEiqd"
   },
   "source": [
    "### 1. Import pandas and read in the banklist.csv file into a dataframe called banks. "
   ]
  },
  {
   "cell_type": "code",
   "execution_count": 25,
   "metadata": {
    "id": "rr8Fg7SCEiqd",
    "tags": []
   },
   "outputs": [],
   "source": [
    "import pandas as pd\n",
    "import numpy as np"
   ]
  },
  {
   "cell_type": "code",
   "execution_count": 2,
   "metadata": {
    "id": "CKBlKrEcEiqe",
    "tags": []
   },
   "outputs": [],
   "source": [
    "df = pd.read_csv('banklist.csv')"
   ]
  },
  {
   "cell_type": "markdown",
   "metadata": {
    "id": "9pOA5uv5Eiqe"
   },
   "source": [
    "** Show the head of the dataframe **"
   ]
  },
  {
   "cell_type": "code",
   "execution_count": 6,
   "metadata": {
    "colab": {
     "base_uri": "https://localhost:8080/",
     "height": 206
    },
    "id": "NCBErF-LEiqe",
    "outputId": "7b960621-8489-4c33-9aa9-4dfef0e41f4e"
   },
   "outputs": [
    {
     "data": {
      "text/html": [
       "\n",
       "  <div id=\"df-4831df14-a614-4e56-8615-409742815458\">\n",
       "    <div class=\"colab-df-container\">\n",
       "      <div>\n",
       "<style scoped>\n",
       "    .dataframe tbody tr th:only-of-type {\n",
       "        vertical-align: middle;\n",
       "    }\n",
       "\n",
       "    .dataframe tbody tr th {\n",
       "        vertical-align: top;\n",
       "    }\n",
       "\n",
       "    .dataframe thead th {\n",
       "        text-align: right;\n",
       "    }\n",
       "</style>\n",
       "<table border=\"1\" class=\"dataframe\">\n",
       "  <thead>\n",
       "    <tr style=\"text-align: right;\">\n",
       "      <th></th>\n",
       "      <th>Bank Name</th>\n",
       "      <th>City</th>\n",
       "      <th>ST</th>\n",
       "      <th>CERT</th>\n",
       "      <th>Acquiring Institution</th>\n",
       "      <th>Closing Date</th>\n",
       "      <th>Updated Date</th>\n",
       "    </tr>\n",
       "  </thead>\n",
       "  <tbody>\n",
       "    <tr>\n",
       "      <th>0</th>\n",
       "      <td>Fayette County Bank</td>\n",
       "      <td>Saint Elmo</td>\n",
       "      <td>IL</td>\n",
       "      <td>1802</td>\n",
       "      <td>United Fidelity Bank, fsb</td>\n",
       "      <td>26-May-17</td>\n",
       "      <td>1-Jun-17</td>\n",
       "    </tr>\n",
       "    <tr>\n",
       "      <th>1</th>\n",
       "      <td>Guaranty Bank, (d/b/a BestBank in Georgia &amp; Mi...</td>\n",
       "      <td>Milwaukee</td>\n",
       "      <td>WI</td>\n",
       "      <td>30003</td>\n",
       "      <td>First-Citizens Bank &amp; Trust Company</td>\n",
       "      <td>5-May-17</td>\n",
       "      <td>1-Jun-17</td>\n",
       "    </tr>\n",
       "    <tr>\n",
       "      <th>2</th>\n",
       "      <td>First NBC Bank</td>\n",
       "      <td>New Orleans</td>\n",
       "      <td>LA</td>\n",
       "      <td>58302</td>\n",
       "      <td>Whitney Bank</td>\n",
       "      <td>28-Apr-17</td>\n",
       "      <td>23-May-17</td>\n",
       "    </tr>\n",
       "    <tr>\n",
       "      <th>3</th>\n",
       "      <td>Proficio Bank</td>\n",
       "      <td>Cottonwood Heights</td>\n",
       "      <td>UT</td>\n",
       "      <td>35495</td>\n",
       "      <td>Cache Valley Bank</td>\n",
       "      <td>3-Mar-17</td>\n",
       "      <td>18-May-17</td>\n",
       "    </tr>\n",
       "    <tr>\n",
       "      <th>4</th>\n",
       "      <td>Seaway Bank and Trust Company</td>\n",
       "      <td>Chicago</td>\n",
       "      <td>IL</td>\n",
       "      <td>19328</td>\n",
       "      <td>State Bank of Texas</td>\n",
       "      <td>27-Jan-17</td>\n",
       "      <td>18-May-17</td>\n",
       "    </tr>\n",
       "  </tbody>\n",
       "</table>\n",
       "</div>\n",
       "      <button class=\"colab-df-convert\" onclick=\"convertToInteractive('df-4831df14-a614-4e56-8615-409742815458')\"\n",
       "              title=\"Convert this dataframe to an interactive table.\"\n",
       "              style=\"display:none;\">\n",
       "        \n",
       "  <svg xmlns=\"http://www.w3.org/2000/svg\" height=\"24px\"viewBox=\"0 0 24 24\"\n",
       "       width=\"24px\">\n",
       "    <path d=\"M0 0h24v24H0V0z\" fill=\"none\"/>\n",
       "    <path d=\"M18.56 5.44l.94 2.06.94-2.06 2.06-.94-2.06-.94-.94-2.06-.94 2.06-2.06.94zm-11 1L8.5 8.5l.94-2.06 2.06-.94-2.06-.94L8.5 2.5l-.94 2.06-2.06.94zm10 10l.94 2.06.94-2.06 2.06-.94-2.06-.94-.94-2.06-.94 2.06-2.06.94z\"/><path d=\"M17.41 7.96l-1.37-1.37c-.4-.4-.92-.59-1.43-.59-.52 0-1.04.2-1.43.59L10.3 9.45l-7.72 7.72c-.78.78-.78 2.05 0 2.83L4 21.41c.39.39.9.59 1.41.59.51 0 1.02-.2 1.41-.59l7.78-7.78 2.81-2.81c.8-.78.8-2.07 0-2.86zM5.41 20L4 18.59l7.72-7.72 1.47 1.35L5.41 20z\"/>\n",
       "  </svg>\n",
       "      </button>\n",
       "      \n",
       "  <style>\n",
       "    .colab-df-container {\n",
       "      display:flex;\n",
       "      flex-wrap:wrap;\n",
       "      gap: 12px;\n",
       "    }\n",
       "\n",
       "    .colab-df-convert {\n",
       "      background-color: #E8F0FE;\n",
       "      border: none;\n",
       "      border-radius: 50%;\n",
       "      cursor: pointer;\n",
       "      display: none;\n",
       "      fill: #1967D2;\n",
       "      height: 32px;\n",
       "      padding: 0 0 0 0;\n",
       "      width: 32px;\n",
       "    }\n",
       "\n",
       "    .colab-df-convert:hover {\n",
       "      background-color: #E2EBFA;\n",
       "      box-shadow: 0px 1px 2px rgba(60, 64, 67, 0.3), 0px 1px 3px 1px rgba(60, 64, 67, 0.15);\n",
       "      fill: #174EA6;\n",
       "    }\n",
       "\n",
       "    [theme=dark] .colab-df-convert {\n",
       "      background-color: #3B4455;\n",
       "      fill: #D2E3FC;\n",
       "    }\n",
       "\n",
       "    [theme=dark] .colab-df-convert:hover {\n",
       "      background-color: #434B5C;\n",
       "      box-shadow: 0px 1px 3px 1px rgba(0, 0, 0, 0.15);\n",
       "      filter: drop-shadow(0px 1px 2px rgba(0, 0, 0, 0.3));\n",
       "      fill: #FFFFFF;\n",
       "    }\n",
       "  </style>\n",
       "\n",
       "      <script>\n",
       "        const buttonEl =\n",
       "          document.querySelector('#df-4831df14-a614-4e56-8615-409742815458 button.colab-df-convert');\n",
       "        buttonEl.style.display =\n",
       "          google.colab.kernel.accessAllowed ? 'block' : 'none';\n",
       "\n",
       "        async function convertToInteractive(key) {\n",
       "          const element = document.querySelector('#df-4831df14-a614-4e56-8615-409742815458');\n",
       "          const dataTable =\n",
       "            await google.colab.kernel.invokeFunction('convertToInteractive',\n",
       "                                                     [key], {});\n",
       "          if (!dataTable) return;\n",
       "\n",
       "          const docLinkHtml = 'Like what you see? Visit the ' +\n",
       "            '<a target=\"_blank\" href=https://colab.research.google.com/notebooks/data_table.ipynb>data table notebook</a>'\n",
       "            + ' to learn more about interactive tables.';\n",
       "          element.innerHTML = '';\n",
       "          dataTable['output_type'] = 'display_data';\n",
       "          await google.colab.output.renderOutput(dataTable, element);\n",
       "          const docLink = document.createElement('div');\n",
       "          docLink.innerHTML = docLinkHtml;\n",
       "          element.appendChild(docLink);\n",
       "        }\n",
       "      </script>\n",
       "    </div>\n",
       "  </div>\n",
       "  "
      ],
      "text/plain": [
       "                                           Bank Name                City  ST  \\\n",
       "0                                Fayette County Bank          Saint Elmo  IL   \n",
       "1  Guaranty Bank, (d/b/a BestBank in Georgia & Mi...           Milwaukee  WI   \n",
       "2                                     First NBC Bank         New Orleans  LA   \n",
       "3                                      Proficio Bank  Cottonwood Heights  UT   \n",
       "4                      Seaway Bank and Trust Company             Chicago  IL   \n",
       "\n",
       "    CERT                Acquiring Institution Closing Date Updated Date  \n",
       "0   1802            United Fidelity Bank, fsb    26-May-17     1-Jun-17  \n",
       "1  30003  First-Citizens Bank & Trust Company     5-May-17     1-Jun-17  \n",
       "2  58302                         Whitney Bank    28-Apr-17    23-May-17  \n",
       "3  35495                    Cache Valley Bank     3-Mar-17    18-May-17  \n",
       "4  19328                  State Bank of Texas    27-Jan-17    18-May-17  "
      ]
     },
     "execution_count": 6,
     "metadata": {},
     "output_type": "execute_result"
    }
   ],
   "source": [
    "df.head()"
   ]
  },
  {
   "cell_type": "markdown",
   "metadata": {
    "id": "44nh4YXTEiqf"
   },
   "source": [
    "### 2. What are the column names? "
   ]
  },
  {
   "cell_type": "code",
   "execution_count": 3,
   "metadata": {
    "colab": {
     "base_uri": "https://localhost:8080/"
    },
    "id": "1W9T58rKEiqf",
    "outputId": "9744543c-6b82-4153-9a76-c4659e6aee8e",
    "tags": []
   },
   "outputs": [
    {
     "data": {
      "text/plain": [
       "Index(['Bank Name', 'City', 'ST', 'CERT', 'Acquiring Institution',\n",
       "       'Closing Date', 'Updated Date'],\n",
       "      dtype='object')"
      ]
     },
     "execution_count": 3,
     "metadata": {},
     "output_type": "execute_result"
    }
   ],
   "source": [
    "df.columns"
   ]
  },
  {
   "cell_type": "code",
   "execution_count": null,
   "metadata": {
    "id": "pc7423usEiqf",
    "outputId": "c36ce222-3dee-4dde-ce63-a2200a88ae15"
   },
   "outputs": [
    {
     "data": {
      "text/plain": [
       "Index(['Bank Name', 'City', 'ST', 'CERT', 'Acquiring Institution',\n",
       "       'Closing Date', 'Updated Date'],\n",
       "      dtype='object')"
      ]
     },
     "execution_count": 29,
     "metadata": {},
     "output_type": "execute_result"
    }
   ],
   "source": []
  },
  {
   "cell_type": "markdown",
   "metadata": {
    "id": "qyAksMooEiqf"
   },
   "source": [
    "### 3. How many States (ST) are represented in this data set? "
   ]
  },
  {
   "cell_type": "code",
   "execution_count": 4,
   "metadata": {
    "colab": {
     "base_uri": "https://localhost:8080/"
    },
    "id": "ncQqTiwIEiqf",
    "outputId": "c5a21a14-ad62-4136-9907-5b2fab881477",
    "tags": []
   },
   "outputs": [
    {
     "data": {
      "text/plain": [
       "44"
      ]
     },
     "execution_count": 4,
     "metadata": {},
     "output_type": "execute_result"
    }
   ],
   "source": [
    "len(df.ST.value_counts())"
   ]
  },
  {
   "cell_type": "code",
   "execution_count": null,
   "metadata": {
    "id": "lys-5cLgEiqf",
    "outputId": "7aa0226c-ce04-40a8-cf64-c3bdf38371cb"
   },
   "outputs": [
    {
     "data": {
      "text/plain": [
       "44"
      ]
     },
     "execution_count": 33,
     "metadata": {},
     "output_type": "execute_result"
    }
   ],
   "source": []
  },
  {
   "cell_type": "markdown",
   "metadata": {
    "id": "I9Yprk7yEiqf"
   },
   "source": [
    "### 4. Get a list or array of all the states in the data set. "
   ]
  },
  {
   "cell_type": "code",
   "execution_count": 5,
   "metadata": {
    "colab": {
     "base_uri": "https://localhost:8080/"
    },
    "id": "aYtQIsHREiqf",
    "outputId": "8920c93d-baf6-47fc-a240-f23a0df50842",
    "tags": []
   },
   "outputs": [
    {
     "data": {
      "text/plain": [
       "array(['IL', 'WI', 'LA', 'UT', 'NJ', 'AR', 'GA', 'PA', 'TN', 'WA', 'CO',\n",
       "       'PR', 'FL', 'MN', 'CA', 'MD', 'OK', 'OH', 'SC', 'VA', 'ID', 'TX',\n",
       "       'CT', 'AZ', 'NV', 'NC', 'KY', 'MO', 'KS', 'AL', 'MI', 'IN', 'IA',\n",
       "       'NE', 'MS', 'NM', 'OR', 'NY', 'MA', 'SD', 'WY', 'WV', 'NH', 'HI'],\n",
       "      dtype=object)"
      ]
     },
     "execution_count": 5,
     "metadata": {},
     "output_type": "execute_result"
    }
   ],
   "source": [
    "df.ST.unique()"
   ]
  },
  {
   "cell_type": "code",
   "execution_count": null,
   "metadata": {
    "id": "-lRT0Aw5Eiqf",
    "outputId": "487bd62a-9c06-4986-9d03-77078328c16c"
   },
   "outputs": [
    {
     "data": {
      "text/plain": [
       "array(['IL', 'WI', 'LA', 'UT', 'NJ', 'AR', 'GA', 'PA', 'TN', 'WA', 'CO',\n",
       "       'PR', 'FL', 'MN', 'CA', 'MD', 'OK', 'OH', 'SC', 'VA', 'ID', 'TX',\n",
       "       'CT', 'AZ', 'NV', 'NC', 'KY', 'MO', 'KS', 'AL', 'MI', 'IN', 'IA',\n",
       "       'NE', 'MS', 'NM', 'OR', 'NY', 'MA', 'SD', 'WY', 'WV', 'NH', 'HI'], dtype=object)"
      ]
     },
     "execution_count": 32,
     "metadata": {},
     "output_type": "execute_result"
    }
   ],
   "source": []
  },
  {
   "cell_type": "markdown",
   "metadata": {
    "id": "G7cAMQgSEiqg"
   },
   "source": [
    "### 5. What are the top 5 states with the most failed banks? "
   ]
  },
  {
   "cell_type": "code",
   "execution_count": 6,
   "metadata": {
    "colab": {
     "base_uri": "https://localhost:8080/"
    },
    "id": "em1BwwhOEiqg",
    "outputId": "403906e7-be31-4c40-f244-ae99835dccae",
    "scrolled": true,
    "tags": []
   },
   "outputs": [
    {
     "data": {
      "text/plain": [
       "GA    93\n",
       "FL    75\n",
       "IL    67\n",
       "CA    41\n",
       "MN    23\n",
       "Name: ST, dtype: int64"
      ]
     },
     "execution_count": 6,
     "metadata": {},
     "output_type": "execute_result"
    }
   ],
   "source": [
    "df.ST.value_counts().head()"
   ]
  },
  {
   "cell_type": "code",
   "execution_count": null,
   "metadata": {
    "id": "mGgQBRj5Eiqg",
    "outputId": "6467effe-2dfe-428c-cfdd-9e73d9bd1dfd"
   },
   "outputs": [
    {
     "data": {
      "text/plain": [
       "ST\n",
       "GA    93\n",
       "FL    75\n",
       "IL    67\n",
       "CA    41\n",
       "MN    23\n",
       "Name: Bank Name, dtype: int64"
      ]
     },
     "execution_count": 35,
     "metadata": {},
     "output_type": "execute_result"
    }
   ],
   "source": []
  },
  {
   "cell_type": "markdown",
   "metadata": {
    "id": "Qk05etB2Eiqg"
   },
   "source": [
    "### 6. What are the top 5 acquiring institutions? "
   ]
  },
  {
   "cell_type": "code",
   "execution_count": 7,
   "metadata": {
    "colab": {
     "base_uri": "https://localhost:8080/"
    },
    "id": "4bHwWzOEEiqg",
    "outputId": "63668ab0-a2db-463b-d493-43ec1af941c5",
    "tags": []
   },
   "outputs": [
    {
     "data": {
      "text/plain": [
       "No Acquirer                            31\n",
       "State Bank and Trust Company           12\n",
       "First-Citizens Bank & Trust Company    11\n",
       "Ameris Bank                            10\n",
       "U.S. Bank N.A.                          9\n",
       "Name: Acquiring Institution, dtype: int64"
      ]
     },
     "execution_count": 7,
     "metadata": {},
     "output_type": "execute_result"
    }
   ],
   "source": [
    "df[\"Acquiring Institution\"].value_counts().head()"
   ]
  },
  {
   "cell_type": "code",
   "execution_count": null,
   "metadata": {
    "id": "jEKK5U_rEiqg",
    "outputId": "9fbcb227-5867-46ed-973e-e4d2d49ab255"
   },
   "outputs": [
    {
     "data": {
      "text/plain": [
       "No Acquirer                            31\n",
       "State Bank and Trust Company           12\n",
       "First-Citizens Bank & Trust Company    11\n",
       "Ameris Bank                            10\n",
       "U.S. Bank N.A.                          9\n",
       "Name: Acquiring Institution, dtype: int64"
      ]
     },
     "execution_count": 14,
     "metadata": {},
     "output_type": "execute_result"
    }
   ],
   "source": []
  },
  {
   "cell_type": "markdown",
   "metadata": {
    "id": "FoqiPQ7qEiqg"
   },
   "source": [
    "### 7. How many banks has the State Bank of Texas acquired? How many of them were actually in Texas?"
   ]
  },
  {
   "cell_type": "code",
   "execution_count": 8,
   "metadata": {
    "colab": {
     "base_uri": "https://localhost:8080/",
     "height": 143
    },
    "id": "zHKACffgEiqg",
    "outputId": "96e3cec8-7674-460f-ccab-72ed8ac159a2",
    "tags": []
   },
   "outputs": [
    {
     "data": {
      "text/html": [
       "<div>\n",
       "<style scoped>\n",
       "    .dataframe tbody tr th:only-of-type {\n",
       "        vertical-align: middle;\n",
       "    }\n",
       "\n",
       "    .dataframe tbody tr th {\n",
       "        vertical-align: top;\n",
       "    }\n",
       "\n",
       "    .dataframe thead th {\n",
       "        text-align: right;\n",
       "    }\n",
       "</style>\n",
       "<table border=\"1\" class=\"dataframe\">\n",
       "  <thead>\n",
       "    <tr style=\"text-align: right;\">\n",
       "      <th></th>\n",
       "      <th>Bank Name</th>\n",
       "      <th>City</th>\n",
       "      <th>ST</th>\n",
       "      <th>CERT</th>\n",
       "      <th>Acquiring Institution</th>\n",
       "      <th>Closing Date</th>\n",
       "      <th>Updated Date</th>\n",
       "    </tr>\n",
       "  </thead>\n",
       "  <tbody>\n",
       "    <tr>\n",
       "      <th>4</th>\n",
       "      <td>Seaway Bank and Trust Company</td>\n",
       "      <td>Chicago</td>\n",
       "      <td>IL</td>\n",
       "      <td>19328</td>\n",
       "      <td>State Bank of Texas</td>\n",
       "      <td>27-Jan-17</td>\n",
       "      <td>18-May-17</td>\n",
       "    </tr>\n",
       "    <tr>\n",
       "      <th>21</th>\n",
       "      <td>The National Republic Bank of Chicago</td>\n",
       "      <td>Chicago</td>\n",
       "      <td>IL</td>\n",
       "      <td>916</td>\n",
       "      <td>State Bank of Texas</td>\n",
       "      <td>24-Oct-14</td>\n",
       "      <td>6-Jan-16</td>\n",
       "    </tr>\n",
       "    <tr>\n",
       "      <th>450</th>\n",
       "      <td>Millennium State Bank of Texas</td>\n",
       "      <td>Dallas</td>\n",
       "      <td>TX</td>\n",
       "      <td>57667</td>\n",
       "      <td>State Bank of Texas</td>\n",
       "      <td>2-Jul-09</td>\n",
       "      <td>26-Oct-12</td>\n",
       "    </tr>\n",
       "  </tbody>\n",
       "</table>\n",
       "</div>"
      ],
      "text/plain": [
       "                                 Bank Name     City  ST   CERT  \\\n",
       "4            Seaway Bank and Trust Company  Chicago  IL  19328   \n",
       "21   The National Republic Bank of Chicago  Chicago  IL    916   \n",
       "450         Millennium State Bank of Texas   Dallas  TX  57667   \n",
       "\n",
       "    Acquiring Institution Closing Date Updated Date  \n",
       "4     State Bank of Texas    27-Jan-17    18-May-17  \n",
       "21    State Bank of Texas    24-Oct-14     6-Jan-16  \n",
       "450   State Bank of Texas     2-Jul-09    26-Oct-12  "
      ]
     },
     "execution_count": 8,
     "metadata": {},
     "output_type": "execute_result"
    }
   ],
   "source": [
    "# How many banks has the State Bank of Texas acquired\n",
    "df[df[\"Acquiring Institution\"] == \"State Bank of Texas\"]"
   ]
  },
  {
   "cell_type": "code",
   "execution_count": 9,
   "metadata": {
    "colab": {
     "base_uri": "https://localhost:8080/",
     "height": 81
    },
    "id": "2-CaARXP-n_G",
    "outputId": "858435ac-755c-45f9-879b-160ca13be3ff"
   },
   "outputs": [
    {
     "data": {
      "text/html": [
       "<div>\n",
       "<style scoped>\n",
       "    .dataframe tbody tr th:only-of-type {\n",
       "        vertical-align: middle;\n",
       "    }\n",
       "\n",
       "    .dataframe tbody tr th {\n",
       "        vertical-align: top;\n",
       "    }\n",
       "\n",
       "    .dataframe thead th {\n",
       "        text-align: right;\n",
       "    }\n",
       "</style>\n",
       "<table border=\"1\" class=\"dataframe\">\n",
       "  <thead>\n",
       "    <tr style=\"text-align: right;\">\n",
       "      <th></th>\n",
       "      <th>Bank Name</th>\n",
       "      <th>City</th>\n",
       "      <th>ST</th>\n",
       "      <th>CERT</th>\n",
       "      <th>Acquiring Institution</th>\n",
       "      <th>Closing Date</th>\n",
       "      <th>Updated Date</th>\n",
       "    </tr>\n",
       "  </thead>\n",
       "  <tbody>\n",
       "    <tr>\n",
       "      <th>450</th>\n",
       "      <td>Millennium State Bank of Texas</td>\n",
       "      <td>Dallas</td>\n",
       "      <td>TX</td>\n",
       "      <td>57667</td>\n",
       "      <td>State Bank of Texas</td>\n",
       "      <td>2-Jul-09</td>\n",
       "      <td>26-Oct-12</td>\n",
       "    </tr>\n",
       "  </tbody>\n",
       "</table>\n",
       "</div>"
      ],
      "text/plain": [
       "                          Bank Name    City  ST   CERT Acquiring Institution  \\\n",
       "450  Millennium State Bank of Texas  Dallas  TX  57667   State Bank of Texas   \n",
       "\n",
       "    Closing Date Updated Date  \n",
       "450     2-Jul-09    26-Oct-12  "
      ]
     },
     "execution_count": 9,
     "metadata": {},
     "output_type": "execute_result"
    }
   ],
   "source": [
    "# How many of them were actually in Texas\n",
    "df[(df[\"Acquiring Institution\"] == \"State Bank of Texas\") & (df[\"ST\"] == \"TX\")]"
   ]
  },
  {
   "cell_type": "code",
   "execution_count": null,
   "metadata": {
    "id": "5Wm5FFuEEiqg",
    "outputId": "d0bf0ab2-855c-40bf-ab20-d911a2cd8e2c"
   },
   "outputs": [
    {
     "data": {
      "text/html": [
       "<div>\n",
       "<style>\n",
       "    .dataframe thead tr:only-child th {\n",
       "        text-align: right;\n",
       "    }\n",
       "\n",
       "    .dataframe thead th {\n",
       "        text-align: left;\n",
       "    }\n",
       "\n",
       "    .dataframe tbody tr th {\n",
       "        vertical-align: top;\n",
       "    }\n",
       "</style>\n",
       "<table border=\"1\" class=\"dataframe\">\n",
       "  <thead>\n",
       "    <tr style=\"text-align: right;\">\n",
       "      <th></th>\n",
       "      <th>Bank Name</th>\n",
       "      <th>City</th>\n",
       "      <th>ST</th>\n",
       "      <th>CERT</th>\n",
       "      <th>Acquiring Institution</th>\n",
       "      <th>Closing Date</th>\n",
       "      <th>Updated Date</th>\n",
       "    </tr>\n",
       "  </thead>\n",
       "  <tbody>\n",
       "    <tr>\n",
       "      <th>4</th>\n",
       "      <td>Seaway Bank and Trust Company</td>\n",
       "      <td>Chicago</td>\n",
       "      <td>IL</td>\n",
       "      <td>19328</td>\n",
       "      <td>State Bank of Texas</td>\n",
       "      <td>27-Jan-17</td>\n",
       "      <td>18-May-17</td>\n",
       "    </tr>\n",
       "    <tr>\n",
       "      <th>21</th>\n",
       "      <td>The National Republic Bank of Chicago</td>\n",
       "      <td>Chicago</td>\n",
       "      <td>IL</td>\n",
       "      <td>916</td>\n",
       "      <td>State Bank of Texas</td>\n",
       "      <td>24-Oct-14</td>\n",
       "      <td>6-Jan-16</td>\n",
       "    </tr>\n",
       "    <tr>\n",
       "      <th>450</th>\n",
       "      <td>Millennium State Bank of Texas</td>\n",
       "      <td>Dallas</td>\n",
       "      <td>TX</td>\n",
       "      <td>57667</td>\n",
       "      <td>State Bank of Texas</td>\n",
       "      <td>2-Jul-09</td>\n",
       "      <td>26-Oct-12</td>\n",
       "    </tr>\n",
       "  </tbody>\n",
       "</table>\n",
       "</div>"
      ],
      "text/plain": [
       "                                 Bank Name     City  ST   CERT  \\\n",
       "4            Seaway Bank and Trust Company  Chicago  IL  19328   \n",
       "21   The National Republic Bank of Chicago  Chicago  IL    916   \n",
       "450         Millennium State Bank of Texas   Dallas  TX  57667   \n",
       "\n",
       "    Acquiring Institution Closing Date Updated Date  \n",
       "4     State Bank of Texas    27-Jan-17    18-May-17  \n",
       "21    State Bank of Texas    24-Oct-14     6-Jan-16  \n",
       "450   State Bank of Texas     2-Jul-09    26-Oct-12  "
      ]
     },
     "execution_count": 15,
     "metadata": {},
     "output_type": "execute_result"
    }
   ],
   "source": []
  },
  {
   "cell_type": "markdown",
   "metadata": {
    "id": "VgyocboOEiqg"
   },
   "source": [
    "### 8. What is the most common city in California for a bank to fail in?"
   ]
  },
  {
   "cell_type": "code",
   "execution_count": 12,
   "metadata": {
    "colab": {
     "base_uri": "https://localhost:8080/",
     "height": 175
    },
    "id": "5GgUfFq5Eiqg",
    "outputId": "227c4e7b-4dd2-4260-80c0-fb9465a8a71f",
    "tags": []
   },
   "outputs": [
    {
     "data": {
      "text/html": [
       "<div>\n",
       "<style scoped>\n",
       "    .dataframe tbody tr th:only-of-type {\n",
       "        vertical-align: middle;\n",
       "    }\n",
       "\n",
       "    .dataframe tbody tr th {\n",
       "        vertical-align: top;\n",
       "    }\n",
       "\n",
       "    .dataframe thead th {\n",
       "        text-align: right;\n",
       "    }\n",
       "</style>\n",
       "<table border=\"1\" class=\"dataframe\">\n",
       "  <thead>\n",
       "    <tr style=\"text-align: right;\">\n",
       "      <th></th>\n",
       "      <th>Bank Name</th>\n",
       "      <th>City</th>\n",
       "      <th>ST</th>\n",
       "      <th>CERT</th>\n",
       "      <th>Acquiring Institution</th>\n",
       "      <th>Closing Date</th>\n",
       "      <th>Updated Date</th>\n",
       "    </tr>\n",
       "  </thead>\n",
       "  <tbody>\n",
       "    <tr>\n",
       "      <th>20</th>\n",
       "      <td>Frontier Bank, FSB D/B/A El Paseo Bank</td>\n",
       "      <td>Palm Desert</td>\n",
       "      <td>CA</td>\n",
       "      <td>34738</td>\n",
       "      <td>Bank of Southern California, N.A.</td>\n",
       "      <td>7-Nov-14</td>\n",
       "      <td>10-Nov-16</td>\n",
       "    </tr>\n",
       "    <tr>\n",
       "      <th>90</th>\n",
       "      <td>Palm Desert National Bank</td>\n",
       "      <td>Palm Desert</td>\n",
       "      <td>CA</td>\n",
       "      <td>23632</td>\n",
       "      <td>Pacific Premier Bank</td>\n",
       "      <td>27-Apr-12</td>\n",
       "      <td>7-Dec-15</td>\n",
       "    </tr>\n",
       "    <tr>\n",
       "      <th>131</th>\n",
       "      <td>Citizens Bank of Northern California</td>\n",
       "      <td>Nevada City</td>\n",
       "      <td>CA</td>\n",
       "      <td>33983</td>\n",
       "      <td>Tri Counties Bank</td>\n",
       "      <td>23-Sep-11</td>\n",
       "      <td>9-Oct-12</td>\n",
       "    </tr>\n",
       "    <tr>\n",
       "      <th>182</th>\n",
       "      <td>San Luis Trust Bank, FSB</td>\n",
       "      <td>San Luis Obispo</td>\n",
       "      <td>CA</td>\n",
       "      <td>34783</td>\n",
       "      <td>First California Bank</td>\n",
       "      <td>18-Feb-11</td>\n",
       "      <td>12-Sep-16</td>\n",
       "    </tr>\n",
       "    <tr>\n",
       "      <th>183</th>\n",
       "      <td>Charter Oak Bank</td>\n",
       "      <td>Napa</td>\n",
       "      <td>CA</td>\n",
       "      <td>57855</td>\n",
       "      <td>Bank of Marin</td>\n",
       "      <td>18-Feb-11</td>\n",
       "      <td>12-Sep-12</td>\n",
       "    </tr>\n",
       "    <tr>\n",
       "      <th>186</th>\n",
       "      <td>Canyon National Bank</td>\n",
       "      <td>Palm Springs</td>\n",
       "      <td>CA</td>\n",
       "      <td>34692</td>\n",
       "      <td>Pacific Premier Bank</td>\n",
       "      <td>11-Feb-11</td>\n",
       "      <td>19-Aug-14</td>\n",
       "    </tr>\n",
       "    <tr>\n",
       "      <th>218</th>\n",
       "      <td>First Vietnamese American Bank</td>\n",
       "      <td>Westminster</td>\n",
       "      <td>CA</td>\n",
       "      <td>57885</td>\n",
       "      <td>Grandpoint Bank</td>\n",
       "      <td>5-Nov-10</td>\n",
       "      <td>12-Sep-12</td>\n",
       "    </tr>\n",
       "    <tr>\n",
       "      <th>220</th>\n",
       "      <td>Western Commercial Bank</td>\n",
       "      <td>Woodland Hills</td>\n",
       "      <td>CA</td>\n",
       "      <td>58087</td>\n",
       "      <td>First California Bank</td>\n",
       "      <td>5-Nov-10</td>\n",
       "      <td>12-Sep-16</td>\n",
       "    </tr>\n",
       "    <tr>\n",
       "      <th>243</th>\n",
       "      <td>Sonoma Valley Bank</td>\n",
       "      <td>Sonoma</td>\n",
       "      <td>CA</td>\n",
       "      <td>27259</td>\n",
       "      <td>Westamerica Bank</td>\n",
       "      <td>20-Aug-10</td>\n",
       "      <td>12-Sep-12</td>\n",
       "    </tr>\n",
       "    <tr>\n",
       "      <th>244</th>\n",
       "      <td>Los Padres Bank</td>\n",
       "      <td>Solvang</td>\n",
       "      <td>CA</td>\n",
       "      <td>32165</td>\n",
       "      <td>Pacific Western Bank</td>\n",
       "      <td>20-Aug-10</td>\n",
       "      <td>12-Sep-12</td>\n",
       "    </tr>\n",
       "    <tr>\n",
       "      <th>245</th>\n",
       "      <td>Butte Community Bank</td>\n",
       "      <td>Chico</td>\n",
       "      <td>CA</td>\n",
       "      <td>33219</td>\n",
       "      <td>Rabobank, N.A.</td>\n",
       "      <td>20-Aug-10</td>\n",
       "      <td>12-Sep-12</td>\n",
       "    </tr>\n",
       "    <tr>\n",
       "      <th>246</th>\n",
       "      <td>Pacific State Bank</td>\n",
       "      <td>Stockton</td>\n",
       "      <td>CA</td>\n",
       "      <td>27090</td>\n",
       "      <td>Rabobank, N.A.</td>\n",
       "      <td>20-Aug-10</td>\n",
       "      <td>12-Sep-12</td>\n",
       "    </tr>\n",
       "    <tr>\n",
       "      <th>284</th>\n",
       "      <td>Granite Community Bank, NA</td>\n",
       "      <td>Granite Bay</td>\n",
       "      <td>CA</td>\n",
       "      <td>57315</td>\n",
       "      <td>Tri Counties Bank</td>\n",
       "      <td>28-May-10</td>\n",
       "      <td>14-Sep-12</td>\n",
       "    </tr>\n",
       "    <tr>\n",
       "      <th>293</th>\n",
       "      <td>1st Pacific Bank of California</td>\n",
       "      <td>San Diego</td>\n",
       "      <td>CA</td>\n",
       "      <td>35517</td>\n",
       "      <td>City National Bank</td>\n",
       "      <td>7-May-10</td>\n",
       "      <td>13-Dec-12</td>\n",
       "    </tr>\n",
       "    <tr>\n",
       "      <th>312</th>\n",
       "      <td>Tamalpais Bank</td>\n",
       "      <td>San Rafael</td>\n",
       "      <td>CA</td>\n",
       "      <td>33493</td>\n",
       "      <td>Union Bank, N.A.</td>\n",
       "      <td>16-Apr-10</td>\n",
       "      <td>23-Aug-12</td>\n",
       "    </tr>\n",
       "    <tr>\n",
       "      <th>313</th>\n",
       "      <td>Innovative Bank</td>\n",
       "      <td>Oakland</td>\n",
       "      <td>CA</td>\n",
       "      <td>23876</td>\n",
       "      <td>Center Bank</td>\n",
       "      <td>16-Apr-10</td>\n",
       "      <td>23-Aug-12</td>\n",
       "    </tr>\n",
       "    <tr>\n",
       "      <th>341</th>\n",
       "      <td>La Jolla Bank, FSB</td>\n",
       "      <td>La Jolla</td>\n",
       "      <td>CA</td>\n",
       "      <td>32423</td>\n",
       "      <td>OneWest Bank, FSB</td>\n",
       "      <td>19-Feb-10</td>\n",
       "      <td>24-Aug-12</td>\n",
       "    </tr>\n",
       "    <tr>\n",
       "      <th>347</th>\n",
       "      <td>First Regional Bank</td>\n",
       "      <td>Los Angeles</td>\n",
       "      <td>CA</td>\n",
       "      <td>23011</td>\n",
       "      <td>First-Citizens Bank &amp; Trust Company</td>\n",
       "      <td>29-Jan-10</td>\n",
       "      <td>4-Mar-16</td>\n",
       "    </tr>\n",
       "    <tr>\n",
       "      <th>361</th>\n",
       "      <td>First Federal Bank of California, F.S.B.</td>\n",
       "      <td>Santa Monica</td>\n",
       "      <td>CA</td>\n",
       "      <td>28536</td>\n",
       "      <td>OneWest Bank, FSB</td>\n",
       "      <td>18-Dec-09</td>\n",
       "      <td>23-Aug-12</td>\n",
       "    </tr>\n",
       "    <tr>\n",
       "      <th>362</th>\n",
       "      <td>Imperial Capital Bank</td>\n",
       "      <td>La Jolla</td>\n",
       "      <td>CA</td>\n",
       "      <td>26348</td>\n",
       "      <td>City National Bank</td>\n",
       "      <td>18-Dec-09</td>\n",
       "      <td>5-Sep-12</td>\n",
       "    </tr>\n",
       "    <tr>\n",
       "      <th>378</th>\n",
       "      <td>Pacific Coast National Bank</td>\n",
       "      <td>San Clemente</td>\n",
       "      <td>CA</td>\n",
       "      <td>57914</td>\n",
       "      <td>Sunwest Bank</td>\n",
       "      <td>13-Nov-09</td>\n",
       "      <td>10-Apr-17</td>\n",
       "    </tr>\n",
       "    <tr>\n",
       "      <th>381</th>\n",
       "      <td>United Commercial Bank</td>\n",
       "      <td>San Francisco</td>\n",
       "      <td>CA</td>\n",
       "      <td>32469</td>\n",
       "      <td>East West Bank</td>\n",
       "      <td>6-Nov-09</td>\n",
       "      <td>5-Nov-12</td>\n",
       "    </tr>\n",
       "    <tr>\n",
       "      <th>390</th>\n",
       "      <td>Pacific National Bank</td>\n",
       "      <td>San Francisco</td>\n",
       "      <td>CA</td>\n",
       "      <td>30006</td>\n",
       "      <td>U.S. Bank N.A.</td>\n",
       "      <td>30-Oct-09</td>\n",
       "      <td>22-Aug-12</td>\n",
       "    </tr>\n",
       "    <tr>\n",
       "      <th>391</th>\n",
       "      <td>California National Bank</td>\n",
       "      <td>Los Angeles</td>\n",
       "      <td>CA</td>\n",
       "      <td>34659</td>\n",
       "      <td>U.S. Bank N.A.</td>\n",
       "      <td>30-Oct-09</td>\n",
       "      <td>5-Sep-12</td>\n",
       "    </tr>\n",
       "    <tr>\n",
       "      <th>392</th>\n",
       "      <td>San Diego National Bank</td>\n",
       "      <td>San Diego</td>\n",
       "      <td>CA</td>\n",
       "      <td>23594</td>\n",
       "      <td>U.S. Bank N.A.</td>\n",
       "      <td>30-Oct-09</td>\n",
       "      <td>22-Aug-12</td>\n",
       "    </tr>\n",
       "    <tr>\n",
       "      <th>402</th>\n",
       "      <td>San Joaquin Bank</td>\n",
       "      <td>Bakersfield</td>\n",
       "      <td>CA</td>\n",
       "      <td>23266</td>\n",
       "      <td>Citizens Business Bank</td>\n",
       "      <td>16-Oct-09</td>\n",
       "      <td>22-Aug-12</td>\n",
       "    </tr>\n",
       "    <tr>\n",
       "      <th>417</th>\n",
       "      <td>Affinity Bank</td>\n",
       "      <td>Ventura</td>\n",
       "      <td>CA</td>\n",
       "      <td>27197</td>\n",
       "      <td>Pacific Western Bank</td>\n",
       "      <td>28-Aug-09</td>\n",
       "      <td>21-Aug-12</td>\n",
       "    </tr>\n",
       "    <tr>\n",
       "      <th>444</th>\n",
       "      <td>Temecula Valley Bank</td>\n",
       "      <td>Temecula</td>\n",
       "      <td>CA</td>\n",
       "      <td>34341</td>\n",
       "      <td>First-Citizens Bank &amp; Trust Company</td>\n",
       "      <td>17-Jul-09</td>\n",
       "      <td>20-Oct-16</td>\n",
       "    </tr>\n",
       "    <tr>\n",
       "      <th>445</th>\n",
       "      <td>Vineyard Bank</td>\n",
       "      <td>Rancho Cucamonga</td>\n",
       "      <td>CA</td>\n",
       "      <td>23556</td>\n",
       "      <td>California Bank &amp; Trust</td>\n",
       "      <td>17-Jul-09</td>\n",
       "      <td>20-Aug-12</td>\n",
       "    </tr>\n",
       "    <tr>\n",
       "      <th>456</th>\n",
       "      <td>Mirae Bank</td>\n",
       "      <td>Los Angeles</td>\n",
       "      <td>CA</td>\n",
       "      <td>57332</td>\n",
       "      <td>Wilshire State Bank</td>\n",
       "      <td>26-Jun-09</td>\n",
       "      <td>20-Aug-12</td>\n",
       "    </tr>\n",
       "    <tr>\n",
       "      <th>457</th>\n",
       "      <td>MetroPacific Bank</td>\n",
       "      <td>Irvine</td>\n",
       "      <td>CA</td>\n",
       "      <td>57893</td>\n",
       "      <td>Sunwest Bank</td>\n",
       "      <td>26-Jun-09</td>\n",
       "      <td>5-Feb-15</td>\n",
       "    </tr>\n",
       "    <tr>\n",
       "      <th>473</th>\n",
       "      <td>First Bank of Beverly Hills</td>\n",
       "      <td>Calabasas</td>\n",
       "      <td>CA</td>\n",
       "      <td>32069</td>\n",
       "      <td>No Acquirer</td>\n",
       "      <td>24-Apr-09</td>\n",
       "      <td>4-Sep-12</td>\n",
       "    </tr>\n",
       "    <tr>\n",
       "      <th>492</th>\n",
       "      <td>County Bank</td>\n",
       "      <td>Merced</td>\n",
       "      <td>CA</td>\n",
       "      <td>22574</td>\n",
       "      <td>Westamerica Bank</td>\n",
       "      <td>6-Feb-09</td>\n",
       "      <td>4-Sep-12</td>\n",
       "    </tr>\n",
       "    <tr>\n",
       "      <th>493</th>\n",
       "      <td>Alliance Bank</td>\n",
       "      <td>Culver City</td>\n",
       "      <td>CA</td>\n",
       "      <td>23124</td>\n",
       "      <td>California Bank &amp; Trust</td>\n",
       "      <td>6-Feb-09</td>\n",
       "      <td>16-Aug-12</td>\n",
       "    </tr>\n",
       "    <tr>\n",
       "      <th>498</th>\n",
       "      <td>1st Centennial Bank</td>\n",
       "      <td>Redlands</td>\n",
       "      <td>CA</td>\n",
       "      <td>33025</td>\n",
       "      <td>First California Bank</td>\n",
       "      <td>23-Jan-09</td>\n",
       "      <td>13-Apr-16</td>\n",
       "    </tr>\n",
       "    <tr>\n",
       "      <th>504</th>\n",
       "      <td>PFF Bank &amp; Trust</td>\n",
       "      <td>Pomona</td>\n",
       "      <td>CA</td>\n",
       "      <td>28344</td>\n",
       "      <td>U.S. Bank, N.A.</td>\n",
       "      <td>21-Nov-08</td>\n",
       "      <td>4-Jan-13</td>\n",
       "    </tr>\n",
       "    <tr>\n",
       "      <th>505</th>\n",
       "      <td>Downey Savings &amp; Loan</td>\n",
       "      <td>Newport Beach</td>\n",
       "      <td>CA</td>\n",
       "      <td>30968</td>\n",
       "      <td>U.S. Bank, N.A.</td>\n",
       "      <td>21-Nov-08</td>\n",
       "      <td>4-Jan-13</td>\n",
       "    </tr>\n",
       "    <tr>\n",
       "      <th>507</th>\n",
       "      <td>Security Pacific Bank</td>\n",
       "      <td>Los Angeles</td>\n",
       "      <td>CA</td>\n",
       "      <td>23595</td>\n",
       "      <td>Pacific Western Bank</td>\n",
       "      <td>7-Nov-08</td>\n",
       "      <td>28-Aug-12</td>\n",
       "    </tr>\n",
       "    <tr>\n",
       "      <th>519</th>\n",
       "      <td>First Heritage Bank, NA</td>\n",
       "      <td>Newport Beach</td>\n",
       "      <td>CA</td>\n",
       "      <td>57961</td>\n",
       "      <td>Mutual of Omaha Bank</td>\n",
       "      <td>25-Jul-08</td>\n",
       "      <td>12-Sep-16</td>\n",
       "    </tr>\n",
       "    <tr>\n",
       "      <th>521</th>\n",
       "      <td>IndyMac Bank</td>\n",
       "      <td>Pasadena</td>\n",
       "      <td>CA</td>\n",
       "      <td>29730</td>\n",
       "      <td>OneWest Bank, FSB</td>\n",
       "      <td>11-Jul-08</td>\n",
       "      <td>22-Apr-15</td>\n",
       "    </tr>\n",
       "    <tr>\n",
       "      <th>535</th>\n",
       "      <td>Southern Pacific Bank</td>\n",
       "      <td>Torrance</td>\n",
       "      <td>CA</td>\n",
       "      <td>27094</td>\n",
       "      <td>Beal Bank</td>\n",
       "      <td>7-Feb-03</td>\n",
       "      <td>20-Oct-08</td>\n",
       "    </tr>\n",
       "  </tbody>\n",
       "</table>\n",
       "</div>"
      ],
      "text/plain": [
       "                                    Bank Name              City  ST   CERT  \\\n",
       "20     Frontier Bank, FSB D/B/A El Paseo Bank       Palm Desert  CA  34738   \n",
       "90                  Palm Desert National Bank       Palm Desert  CA  23632   \n",
       "131      Citizens Bank of Northern California       Nevada City  CA  33983   \n",
       "182                  San Luis Trust Bank, FSB   San Luis Obispo  CA  34783   \n",
       "183                          Charter Oak Bank              Napa  CA  57855   \n",
       "186                      Canyon National Bank      Palm Springs  CA  34692   \n",
       "218            First Vietnamese American Bank       Westminster  CA  57885   \n",
       "220                   Western Commercial Bank    Woodland Hills  CA  58087   \n",
       "243                        Sonoma Valley Bank            Sonoma  CA  27259   \n",
       "244                           Los Padres Bank           Solvang  CA  32165   \n",
       "245                      Butte Community Bank             Chico  CA  33219   \n",
       "246                        Pacific State Bank          Stockton  CA  27090   \n",
       "284                Granite Community Bank, NA       Granite Bay  CA  57315   \n",
       "293            1st Pacific Bank of California         San Diego  CA  35517   \n",
       "312                            Tamalpais Bank        San Rafael  CA  33493   \n",
       "313                           Innovative Bank           Oakland  CA  23876   \n",
       "341                        La Jolla Bank, FSB          La Jolla  CA  32423   \n",
       "347                       First Regional Bank       Los Angeles  CA  23011   \n",
       "361  First Federal Bank of California, F.S.B.      Santa Monica  CA  28536   \n",
       "362                     Imperial Capital Bank          La Jolla  CA  26348   \n",
       "378               Pacific Coast National Bank      San Clemente  CA  57914   \n",
       "381                    United Commercial Bank     San Francisco  CA  32469   \n",
       "390                     Pacific National Bank     San Francisco  CA  30006   \n",
       "391                  California National Bank       Los Angeles  CA  34659   \n",
       "392                   San Diego National Bank         San Diego  CA  23594   \n",
       "402                          San Joaquin Bank       Bakersfield  CA  23266   \n",
       "417                             Affinity Bank           Ventura  CA  27197   \n",
       "444                      Temecula Valley Bank          Temecula  CA  34341   \n",
       "445                             Vineyard Bank  Rancho Cucamonga  CA  23556   \n",
       "456                                Mirae Bank       Los Angeles  CA  57332   \n",
       "457                         MetroPacific Bank            Irvine  CA  57893   \n",
       "473               First Bank of Beverly Hills         Calabasas  CA  32069   \n",
       "492                               County Bank            Merced  CA  22574   \n",
       "493                             Alliance Bank       Culver City  CA  23124   \n",
       "498                       1st Centennial Bank          Redlands  CA  33025   \n",
       "504                          PFF Bank & Trust            Pomona  CA  28344   \n",
       "505                     Downey Savings & Loan     Newport Beach  CA  30968   \n",
       "507                     Security Pacific Bank       Los Angeles  CA  23595   \n",
       "519                   First Heritage Bank, NA     Newport Beach  CA  57961   \n",
       "521                              IndyMac Bank          Pasadena  CA  29730   \n",
       "535                     Southern Pacific Bank          Torrance  CA  27094   \n",
       "\n",
       "                   Acquiring Institution Closing Date Updated Date  \n",
       "20     Bank of Southern California, N.A.     7-Nov-14    10-Nov-16  \n",
       "90                  Pacific Premier Bank    27-Apr-12     7-Dec-15  \n",
       "131                    Tri Counties Bank    23-Sep-11     9-Oct-12  \n",
       "182                First California Bank    18-Feb-11    12-Sep-16  \n",
       "183                        Bank of Marin    18-Feb-11    12-Sep-12  \n",
       "186                 Pacific Premier Bank    11-Feb-11    19-Aug-14  \n",
       "218                      Grandpoint Bank     5-Nov-10    12-Sep-12  \n",
       "220                First California Bank     5-Nov-10    12-Sep-16  \n",
       "243                     Westamerica Bank    20-Aug-10    12-Sep-12  \n",
       "244                 Pacific Western Bank    20-Aug-10    12-Sep-12  \n",
       "245                       Rabobank, N.A.    20-Aug-10    12-Sep-12  \n",
       "246                       Rabobank, N.A.    20-Aug-10    12-Sep-12  \n",
       "284                    Tri Counties Bank    28-May-10    14-Sep-12  \n",
       "293                   City National Bank     7-May-10    13-Dec-12  \n",
       "312                     Union Bank, N.A.    16-Apr-10    23-Aug-12  \n",
       "313                          Center Bank    16-Apr-10    23-Aug-12  \n",
       "341                    OneWest Bank, FSB    19-Feb-10    24-Aug-12  \n",
       "347  First-Citizens Bank & Trust Company    29-Jan-10     4-Mar-16  \n",
       "361                    OneWest Bank, FSB    18-Dec-09    23-Aug-12  \n",
       "362                   City National Bank    18-Dec-09     5-Sep-12  \n",
       "378                         Sunwest Bank    13-Nov-09    10-Apr-17  \n",
       "381                       East West Bank     6-Nov-09     5-Nov-12  \n",
       "390                       U.S. Bank N.A.    30-Oct-09    22-Aug-12  \n",
       "391                       U.S. Bank N.A.    30-Oct-09     5-Sep-12  \n",
       "392                       U.S. Bank N.A.    30-Oct-09    22-Aug-12  \n",
       "402               Citizens Business Bank    16-Oct-09    22-Aug-12  \n",
       "417                 Pacific Western Bank    28-Aug-09    21-Aug-12  \n",
       "444  First-Citizens Bank & Trust Company    17-Jul-09    20-Oct-16  \n",
       "445              California Bank & Trust    17-Jul-09    20-Aug-12  \n",
       "456                  Wilshire State Bank    26-Jun-09    20-Aug-12  \n",
       "457                         Sunwest Bank    26-Jun-09     5-Feb-15  \n",
       "473                          No Acquirer    24-Apr-09     4-Sep-12  \n",
       "492                     Westamerica Bank     6-Feb-09     4-Sep-12  \n",
       "493              California Bank & Trust     6-Feb-09    16-Aug-12  \n",
       "498                First California Bank    23-Jan-09    13-Apr-16  \n",
       "504                      U.S. Bank, N.A.    21-Nov-08     4-Jan-13  \n",
       "505                      U.S. Bank, N.A.    21-Nov-08     4-Jan-13  \n",
       "507                 Pacific Western Bank     7-Nov-08    28-Aug-12  \n",
       "519                 Mutual of Omaha Bank    25-Jul-08    12-Sep-16  \n",
       "521                    OneWest Bank, FSB    11-Jul-08    22-Apr-15  \n",
       "535                            Beal Bank     7-Feb-03    20-Oct-08  "
      ]
     },
     "execution_count": 12,
     "metadata": {},
     "output_type": "execute_result"
    }
   ],
   "source": [
    "df_ca = df[df.ST == \"CA\"]\n",
    "df_ca"
   ]
  },
  {
   "cell_type": "code",
   "execution_count": 16,
   "metadata": {
    "id": "UyPSC9S3Eiqg",
    "outputId": "ed06194c-b0cf-4367-fa2e-981562608376"
   },
   "outputs": [
    {
     "data": {
      "text/plain": [
       "'Los Angeles'"
      ]
     },
     "execution_count": 16,
     "metadata": {},
     "output_type": "execute_result"
    }
   ],
   "source": [
    "df_ca.groupby(\"City\")[\"ST\"].count().sort_values(ascending = False).index[0]"
   ]
  },
  {
   "cell_type": "code",
   "execution_count": 17,
   "metadata": {},
   "outputs": [
    {
     "data": {
      "text/plain": [
       "City\n",
       "Los Angeles    4\n",
       "Name: ST, dtype: int64"
      ]
     },
     "execution_count": 17,
     "metadata": {},
     "output_type": "execute_result"
    }
   ],
   "source": [
    "df_ca.groupby(\"City\")[\"ST\"].count().sort_values(ascending = False).head(1)"
   ]
  },
  {
   "cell_type": "markdown",
   "metadata": {
    "id": "83gPjFNAEiqg"
   },
   "source": [
    "### 9. How many failed banks don't have the word \"Bank\" in their name? "
   ]
  },
  {
   "cell_type": "code",
   "execution_count": 18,
   "metadata": {
    "colab": {
     "base_uri": "https://localhost:8080/"
    },
    "id": "SZB783fUEiqg",
    "outputId": "aae26bc0-01a8-46cd-caf9-8067b1d8e723",
    "tags": []
   },
   "outputs": [
    {
     "name": "stdout",
     "output_type": "stream",
     "text": [
      "14\n"
     ]
    }
   ],
   "source": [
    "count = 0\n",
    "for _, row in df.iterrows():\n",
    "  if \"Bank\" not in row[\"Bank Name\"]:\n",
    "    count += 1\n",
    "\n",
    "print(count)"
   ]
  },
  {
   "cell_type": "code",
   "execution_count": null,
   "metadata": {
    "id": "IK_a1UXTEiqg",
    "outputId": "9b551c73-76ed-44da-8e9d-2feeb4a5043a"
   },
   "outputs": [
    {
     "data": {
      "text/plain": [
       "14"
      ]
     },
     "execution_count": 55,
     "metadata": {},
     "output_type": "execute_result"
    }
   ],
   "source": []
  },
  {
   "cell_type": "markdown",
   "metadata": {
    "id": "Jf1LMP2oEiqg"
   },
   "source": [
    "### 10. How many bank names start with the letter 's' ? "
   ]
  },
  {
   "cell_type": "code",
   "execution_count": 19,
   "metadata": {
    "colab": {
     "base_uri": "https://localhost:8080/"
    },
    "id": "fkVzc0tXEiqg",
    "outputId": "daed46af-86b2-4db1-bb2a-d1d2b5ff9bfb",
    "tags": []
   },
   "outputs": [
    {
     "name": "stdout",
     "output_type": "stream",
     "text": [
      "53\n"
     ]
    }
   ],
   "source": [
    "count = 0\n",
    "for _, row in df.iterrows():\n",
    "  if row[\"Bank Name\"][0].lower() == \"s\":\n",
    "    count += 1\n",
    "\n",
    "print(count)"
   ]
  },
  {
   "cell_type": "code",
   "execution_count": null,
   "metadata": {
    "id": "UFxIK1CwEiqg",
    "outputId": "7117bef4-d50c-491f-ea73-4be483989694"
   },
   "outputs": [
    {
     "data": {
      "text/plain": [
       "53"
      ]
     },
     "execution_count": 58,
     "metadata": {},
     "output_type": "execute_result"
    }
   ],
   "source": []
  },
  {
   "cell_type": "markdown",
   "metadata": {
    "id": "xspNf4ZaEiqh"
   },
   "source": [
    "### 11. How many CERT values are above 20000?"
   ]
  },
  {
   "cell_type": "code",
   "execution_count": 20,
   "metadata": {
    "colab": {
     "base_uri": "https://localhost:8080/"
    },
    "id": "6M_s07GOEiqh",
    "outputId": "af4cc2f7-73ff-4490-e7ae-b1be15ee3a33",
    "tags": []
   },
   "outputs": [
    {
     "data": {
      "text/plain": [
       "417"
      ]
     },
     "execution_count": 20,
     "metadata": {},
     "output_type": "execute_result"
    }
   ],
   "source": [
    "len(df[df.CERT > 20000])"
   ]
  },
  {
   "cell_type": "code",
   "execution_count": null,
   "metadata": {
    "id": "Rw66LBifEiqh",
    "outputId": "8a144a04-59ec-438a-f97c-e209ffff1d6e"
   },
   "outputs": [
    {
     "data": {
      "text/plain": [
       "417"
      ]
     },
     "execution_count": 64,
     "metadata": {},
     "output_type": "execute_result"
    }
   ],
   "source": []
  },
  {
   "cell_type": "markdown",
   "metadata": {
    "id": "SygRmYRPEiqh"
   },
   "source": [
    "### 12. How many bank names consist of just two words? (e.g. \"First Bank\" , \"Bank Georgia\")"
   ]
  },
  {
   "cell_type": "code",
   "execution_count": 21,
   "metadata": {
    "colab": {
     "base_uri": "https://localhost:8080/"
    },
    "id": "tE9mCwHvEiqh",
    "outputId": "37ee190e-3d8b-4a8d-d4db-f57126a81ffb",
    "tags": []
   },
   "outputs": [
    {
     "name": "stdout",
     "output_type": "stream",
     "text": [
      "114\n"
     ]
    }
   ],
   "source": [
    "count = 0\n",
    "for _, row in df.iterrows():\n",
    "    name_words = row[\"Bank Name\"].split()\n",
    "    if len(name_words) == 2:\n",
    "        count += 1\n",
    "        \n",
    "print(count)"
   ]
  },
  {
   "cell_type": "code",
   "execution_count": null,
   "metadata": {
    "id": "A5a2qADmEiqh",
    "outputId": "3c68fa70-7161-4afe-9442-72e39381d2dc"
   },
   "outputs": [
    {
     "data": {
      "text/plain": [
       "114"
      ]
     },
     "execution_count": 67,
     "metadata": {},
     "output_type": "execute_result"
    }
   ],
   "source": []
  },
  {
   "cell_type": "markdown",
   "metadata": {
    "id": "EqrtNszPEiqh"
   },
   "source": [
    "**Bonus: How many banks closed in the year 2008? (this is hard because we technically haven't learned about time series with pandas yet! Feel free to skip this one!**"
   ]
  },
  {
   "cell_type": "code",
   "execution_count": 23,
   "metadata": {
    "colab": {
     "base_uri": "https://localhost:8080/",
     "height": 424
    },
    "id": "2Uv1GG4IBEjD",
    "outputId": "585d4923-f1dc-4d39-df80-cc99089b11b9"
   },
   "outputs": [
    {
     "data": {
      "text/html": [
       "<div>\n",
       "<style scoped>\n",
       "    .dataframe tbody tr th:only-of-type {\n",
       "        vertical-align: middle;\n",
       "    }\n",
       "\n",
       "    .dataframe tbody tr th {\n",
       "        vertical-align: top;\n",
       "    }\n",
       "\n",
       "    .dataframe thead th {\n",
       "        text-align: right;\n",
       "    }\n",
       "</style>\n",
       "<table border=\"1\" class=\"dataframe\">\n",
       "  <thead>\n",
       "    <tr style=\"text-align: right;\">\n",
       "      <th></th>\n",
       "      <th>Bank Name</th>\n",
       "      <th>City</th>\n",
       "      <th>ST</th>\n",
       "      <th>CERT</th>\n",
       "      <th>Acquiring Institution</th>\n",
       "      <th>Closing Date</th>\n",
       "      <th>Updated Date</th>\n",
       "      <th>closed_year</th>\n",
       "    </tr>\n",
       "  </thead>\n",
       "  <tbody>\n",
       "    <tr>\n",
       "      <th>0</th>\n",
       "      <td>Fayette County Bank</td>\n",
       "      <td>Saint Elmo</td>\n",
       "      <td>IL</td>\n",
       "      <td>1802</td>\n",
       "      <td>United Fidelity Bank, fsb</td>\n",
       "      <td>26-May-17</td>\n",
       "      <td>1-Jun-17</td>\n",
       "      <td>2017</td>\n",
       "    </tr>\n",
       "    <tr>\n",
       "      <th>1</th>\n",
       "      <td>Guaranty Bank, (d/b/a BestBank in Georgia &amp; Mi...</td>\n",
       "      <td>Milwaukee</td>\n",
       "      <td>WI</td>\n",
       "      <td>30003</td>\n",
       "      <td>First-Citizens Bank &amp; Trust Company</td>\n",
       "      <td>5-May-17</td>\n",
       "      <td>1-Jun-17</td>\n",
       "      <td>2017</td>\n",
       "    </tr>\n",
       "    <tr>\n",
       "      <th>2</th>\n",
       "      <td>First NBC Bank</td>\n",
       "      <td>New Orleans</td>\n",
       "      <td>LA</td>\n",
       "      <td>58302</td>\n",
       "      <td>Whitney Bank</td>\n",
       "      <td>28-Apr-17</td>\n",
       "      <td>23-May-17</td>\n",
       "      <td>2017</td>\n",
       "    </tr>\n",
       "    <tr>\n",
       "      <th>3</th>\n",
       "      <td>Proficio Bank</td>\n",
       "      <td>Cottonwood Heights</td>\n",
       "      <td>UT</td>\n",
       "      <td>35495</td>\n",
       "      <td>Cache Valley Bank</td>\n",
       "      <td>3-Mar-17</td>\n",
       "      <td>18-May-17</td>\n",
       "      <td>2017</td>\n",
       "    </tr>\n",
       "    <tr>\n",
       "      <th>4</th>\n",
       "      <td>Seaway Bank and Trust Company</td>\n",
       "      <td>Chicago</td>\n",
       "      <td>IL</td>\n",
       "      <td>19328</td>\n",
       "      <td>State Bank of Texas</td>\n",
       "      <td>27-Jan-17</td>\n",
       "      <td>18-May-17</td>\n",
       "      <td>2017</td>\n",
       "    </tr>\n",
       "    <tr>\n",
       "      <th>...</th>\n",
       "      <td>...</td>\n",
       "      <td>...</td>\n",
       "      <td>...</td>\n",
       "      <td>...</td>\n",
       "      <td>...</td>\n",
       "      <td>...</td>\n",
       "      <td>...</td>\n",
       "      <td>...</td>\n",
       "    </tr>\n",
       "    <tr>\n",
       "      <th>546</th>\n",
       "      <td>Superior Bank, FSB</td>\n",
       "      <td>Hinsdale</td>\n",
       "      <td>IL</td>\n",
       "      <td>32646</td>\n",
       "      <td>Superior Federal, FSB</td>\n",
       "      <td>27-Jul-01</td>\n",
       "      <td>19-Aug-14</td>\n",
       "      <td>2001</td>\n",
       "    </tr>\n",
       "    <tr>\n",
       "      <th>547</th>\n",
       "      <td>Malta National Bank</td>\n",
       "      <td>Malta</td>\n",
       "      <td>OH</td>\n",
       "      <td>6629</td>\n",
       "      <td>North Valley Bank</td>\n",
       "      <td>3-May-01</td>\n",
       "      <td>18-Nov-02</td>\n",
       "      <td>2001</td>\n",
       "    </tr>\n",
       "    <tr>\n",
       "      <th>548</th>\n",
       "      <td>First Alliance Bank &amp; Trust Co.</td>\n",
       "      <td>Manchester</td>\n",
       "      <td>NH</td>\n",
       "      <td>34264</td>\n",
       "      <td>Southern New Hampshire Bank &amp; Trust</td>\n",
       "      <td>2-Feb-01</td>\n",
       "      <td>18-Feb-03</td>\n",
       "      <td>2001</td>\n",
       "    </tr>\n",
       "    <tr>\n",
       "      <th>549</th>\n",
       "      <td>National State Bank of Metropolis</td>\n",
       "      <td>Metropolis</td>\n",
       "      <td>IL</td>\n",
       "      <td>3815</td>\n",
       "      <td>Banterra Bank of Marion</td>\n",
       "      <td>14-Dec-00</td>\n",
       "      <td>17-Mar-05</td>\n",
       "      <td>2000</td>\n",
       "    </tr>\n",
       "    <tr>\n",
       "      <th>550</th>\n",
       "      <td>Bank of Honolulu</td>\n",
       "      <td>Honolulu</td>\n",
       "      <td>HI</td>\n",
       "      <td>21029</td>\n",
       "      <td>Bank of the Orient</td>\n",
       "      <td>13-Oct-00</td>\n",
       "      <td>17-Mar-05</td>\n",
       "      <td>2000</td>\n",
       "    </tr>\n",
       "  </tbody>\n",
       "</table>\n",
       "<p>551 rows × 8 columns</p>\n",
       "</div>"
      ],
      "text/plain": [
       "                                             Bank Name                City  \\\n",
       "0                                  Fayette County Bank          Saint Elmo   \n",
       "1    Guaranty Bank, (d/b/a BestBank in Georgia & Mi...           Milwaukee   \n",
       "2                                       First NBC Bank         New Orleans   \n",
       "3                                        Proficio Bank  Cottonwood Heights   \n",
       "4                        Seaway Bank and Trust Company             Chicago   \n",
       "..                                                 ...                 ...   \n",
       "546                                 Superior Bank, FSB            Hinsdale   \n",
       "547                                Malta National Bank               Malta   \n",
       "548                    First Alliance Bank & Trust Co.          Manchester   \n",
       "549                  National State Bank of Metropolis          Metropolis   \n",
       "550                                   Bank of Honolulu            Honolulu   \n",
       "\n",
       "     ST   CERT                Acquiring Institution Closing Date Updated Date  \\\n",
       "0    IL   1802            United Fidelity Bank, fsb    26-May-17     1-Jun-17   \n",
       "1    WI  30003  First-Citizens Bank & Trust Company     5-May-17     1-Jun-17   \n",
       "2    LA  58302                         Whitney Bank    28-Apr-17    23-May-17   \n",
       "3    UT  35495                    Cache Valley Bank     3-Mar-17    18-May-17   \n",
       "4    IL  19328                  State Bank of Texas    27-Jan-17    18-May-17   \n",
       "..   ..    ...                                  ...          ...          ...   \n",
       "546  IL  32646                Superior Federal, FSB    27-Jul-01    19-Aug-14   \n",
       "547  OH   6629                    North Valley Bank     3-May-01    18-Nov-02   \n",
       "548  NH  34264  Southern New Hampshire Bank & Trust     2-Feb-01    18-Feb-03   \n",
       "549  IL   3815              Banterra Bank of Marion    14-Dec-00    17-Mar-05   \n",
       "550  HI  21029                   Bank of the Orient    13-Oct-00    17-Mar-05   \n",
       "\n",
       "     closed_year  \n",
       "0           2017  \n",
       "1           2017  \n",
       "2           2017  \n",
       "3           2017  \n",
       "4           2017  \n",
       "..           ...  \n",
       "546         2001  \n",
       "547         2001  \n",
       "548         2001  \n",
       "549         2000  \n",
       "550         2000  \n",
       "\n",
       "[551 rows x 8 columns]"
      ]
     },
     "execution_count": 23,
     "metadata": {},
     "output_type": "execute_result"
    }
   ],
   "source": [
    "df"
   ]
  },
  {
   "cell_type": "code",
   "execution_count": 24,
   "metadata": {
    "colab": {
     "base_uri": "https://localhost:8080/",
     "height": 424
    },
    "id": "JU6be4utEiqh",
    "outputId": "0d15228d-6a78-43be-85ec-789dd7437945",
    "tags": []
   },
   "outputs": [
    {
     "data": {
      "text/html": [
       "<div>\n",
       "<style scoped>\n",
       "    .dataframe tbody tr th:only-of-type {\n",
       "        vertical-align: middle;\n",
       "    }\n",
       "\n",
       "    .dataframe tbody tr th {\n",
       "        vertical-align: top;\n",
       "    }\n",
       "\n",
       "    .dataframe thead th {\n",
       "        text-align: right;\n",
       "    }\n",
       "</style>\n",
       "<table border=\"1\" class=\"dataframe\">\n",
       "  <thead>\n",
       "    <tr style=\"text-align: right;\">\n",
       "      <th></th>\n",
       "      <th>Bank Name</th>\n",
       "      <th>City</th>\n",
       "      <th>ST</th>\n",
       "      <th>CERT</th>\n",
       "      <th>Acquiring Institution</th>\n",
       "      <th>Closing Date</th>\n",
       "      <th>Updated Date</th>\n",
       "      <th>closed_year</th>\n",
       "    </tr>\n",
       "  </thead>\n",
       "  <tbody>\n",
       "    <tr>\n",
       "      <th>0</th>\n",
       "      <td>Fayette County Bank</td>\n",
       "      <td>Saint Elmo</td>\n",
       "      <td>IL</td>\n",
       "      <td>1802</td>\n",
       "      <td>United Fidelity Bank, fsb</td>\n",
       "      <td>26-May-17</td>\n",
       "      <td>1-Jun-17</td>\n",
       "      <td>2017</td>\n",
       "    </tr>\n",
       "    <tr>\n",
       "      <th>1</th>\n",
       "      <td>Guaranty Bank, (d/b/a BestBank in Georgia &amp; Mi...</td>\n",
       "      <td>Milwaukee</td>\n",
       "      <td>WI</td>\n",
       "      <td>30003</td>\n",
       "      <td>First-Citizens Bank &amp; Trust Company</td>\n",
       "      <td>5-May-17</td>\n",
       "      <td>1-Jun-17</td>\n",
       "      <td>2017</td>\n",
       "    </tr>\n",
       "    <tr>\n",
       "      <th>2</th>\n",
       "      <td>First NBC Bank</td>\n",
       "      <td>New Orleans</td>\n",
       "      <td>LA</td>\n",
       "      <td>58302</td>\n",
       "      <td>Whitney Bank</td>\n",
       "      <td>28-Apr-17</td>\n",
       "      <td>23-May-17</td>\n",
       "      <td>2017</td>\n",
       "    </tr>\n",
       "    <tr>\n",
       "      <th>3</th>\n",
       "      <td>Proficio Bank</td>\n",
       "      <td>Cottonwood Heights</td>\n",
       "      <td>UT</td>\n",
       "      <td>35495</td>\n",
       "      <td>Cache Valley Bank</td>\n",
       "      <td>3-Mar-17</td>\n",
       "      <td>18-May-17</td>\n",
       "      <td>2017</td>\n",
       "    </tr>\n",
       "    <tr>\n",
       "      <th>4</th>\n",
       "      <td>Seaway Bank and Trust Company</td>\n",
       "      <td>Chicago</td>\n",
       "      <td>IL</td>\n",
       "      <td>19328</td>\n",
       "      <td>State Bank of Texas</td>\n",
       "      <td>27-Jan-17</td>\n",
       "      <td>18-May-17</td>\n",
       "      <td>2017</td>\n",
       "    </tr>\n",
       "    <tr>\n",
       "      <th>...</th>\n",
       "      <td>...</td>\n",
       "      <td>...</td>\n",
       "      <td>...</td>\n",
       "      <td>...</td>\n",
       "      <td>...</td>\n",
       "      <td>...</td>\n",
       "      <td>...</td>\n",
       "      <td>...</td>\n",
       "    </tr>\n",
       "    <tr>\n",
       "      <th>546</th>\n",
       "      <td>Superior Bank, FSB</td>\n",
       "      <td>Hinsdale</td>\n",
       "      <td>IL</td>\n",
       "      <td>32646</td>\n",
       "      <td>Superior Federal, FSB</td>\n",
       "      <td>27-Jul-01</td>\n",
       "      <td>19-Aug-14</td>\n",
       "      <td>2001</td>\n",
       "    </tr>\n",
       "    <tr>\n",
       "      <th>547</th>\n",
       "      <td>Malta National Bank</td>\n",
       "      <td>Malta</td>\n",
       "      <td>OH</td>\n",
       "      <td>6629</td>\n",
       "      <td>North Valley Bank</td>\n",
       "      <td>3-May-01</td>\n",
       "      <td>18-Nov-02</td>\n",
       "      <td>2001</td>\n",
       "    </tr>\n",
       "    <tr>\n",
       "      <th>548</th>\n",
       "      <td>First Alliance Bank &amp; Trust Co.</td>\n",
       "      <td>Manchester</td>\n",
       "      <td>NH</td>\n",
       "      <td>34264</td>\n",
       "      <td>Southern New Hampshire Bank &amp; Trust</td>\n",
       "      <td>2-Feb-01</td>\n",
       "      <td>18-Feb-03</td>\n",
       "      <td>2001</td>\n",
       "    </tr>\n",
       "    <tr>\n",
       "      <th>549</th>\n",
       "      <td>National State Bank of Metropolis</td>\n",
       "      <td>Metropolis</td>\n",
       "      <td>IL</td>\n",
       "      <td>3815</td>\n",
       "      <td>Banterra Bank of Marion</td>\n",
       "      <td>14-Dec-00</td>\n",
       "      <td>17-Mar-05</td>\n",
       "      <td>2000</td>\n",
       "    </tr>\n",
       "    <tr>\n",
       "      <th>550</th>\n",
       "      <td>Bank of Honolulu</td>\n",
       "      <td>Honolulu</td>\n",
       "      <td>HI</td>\n",
       "      <td>21029</td>\n",
       "      <td>Bank of the Orient</td>\n",
       "      <td>13-Oct-00</td>\n",
       "      <td>17-Mar-05</td>\n",
       "      <td>2000</td>\n",
       "    </tr>\n",
       "  </tbody>\n",
       "</table>\n",
       "<p>551 rows × 8 columns</p>\n",
       "</div>"
      ],
      "text/plain": [
       "                                             Bank Name                City  \\\n",
       "0                                  Fayette County Bank          Saint Elmo   \n",
       "1    Guaranty Bank, (d/b/a BestBank in Georgia & Mi...           Milwaukee   \n",
       "2                                       First NBC Bank         New Orleans   \n",
       "3                                        Proficio Bank  Cottonwood Heights   \n",
       "4                        Seaway Bank and Trust Company             Chicago   \n",
       "..                                                 ...                 ...   \n",
       "546                                 Superior Bank, FSB            Hinsdale   \n",
       "547                                Malta National Bank               Malta   \n",
       "548                    First Alliance Bank & Trust Co.          Manchester   \n",
       "549                  National State Bank of Metropolis          Metropolis   \n",
       "550                                   Bank of Honolulu            Honolulu   \n",
       "\n",
       "     ST   CERT                Acquiring Institution Closing Date Updated Date  \\\n",
       "0    IL   1802            United Fidelity Bank, fsb    26-May-17     1-Jun-17   \n",
       "1    WI  30003  First-Citizens Bank & Trust Company     5-May-17     1-Jun-17   \n",
       "2    LA  58302                         Whitney Bank    28-Apr-17    23-May-17   \n",
       "3    UT  35495                    Cache Valley Bank     3-Mar-17    18-May-17   \n",
       "4    IL  19328                  State Bank of Texas    27-Jan-17    18-May-17   \n",
       "..   ..    ...                                  ...          ...          ...   \n",
       "546  IL  32646                Superior Federal, FSB    27-Jul-01    19-Aug-14   \n",
       "547  OH   6629                    North Valley Bank     3-May-01    18-Nov-02   \n",
       "548  NH  34264  Southern New Hampshire Bank & Trust     2-Feb-01    18-Feb-03   \n",
       "549  IL   3815              Banterra Bank of Marion    14-Dec-00    17-Mar-05   \n",
       "550  HI  21029                   Bank of the Orient    13-Oct-00    17-Mar-05   \n",
       "\n",
       "     closed_year  \n",
       "0           2017  \n",
       "1           2017  \n",
       "2           2017  \n",
       "3           2017  \n",
       "4           2017  \n",
       "..           ...  \n",
       "546         2001  \n",
       "547         2001  \n",
       "548         2001  \n",
       "549         2000  \n",
       "550         2000  \n",
       "\n",
       "[551 rows x 8 columns]"
      ]
     },
     "execution_count": 24,
     "metadata": {},
     "output_type": "execute_result"
    }
   ],
   "source": [
    "df[\"closed_year\"] = df[\"Closing Date\"]\n",
    "df[\"closed_year\"] = pd.to_datetime(df[\"closed_year\"]).dt.year\n",
    "df"
   ]
  },
  {
   "cell_type": "code",
   "execution_count": 26,
   "metadata": {
    "colab": {
     "base_uri": "https://localhost:8080/"
    },
    "id": "7Co4PUOxCIBx",
    "outputId": "cce6cfbd-ad2e-4166-e8bb-66ccb3de145e"
   },
   "outputs": [
    {
     "data": {
      "text/plain": [
       "25"
      ]
     },
     "execution_count": 26,
     "metadata": {},
     "output_type": "execute_result"
    }
   ],
   "source": [
    "len(df[df.closed_year == 2008])"
   ]
  },
  {
   "cell_type": "code",
   "execution_count": null,
   "metadata": {
    "id": "53gjyw0TEiqh",
    "outputId": "470c59ea-de7b-4ba1-c5f1-4f72af4e4e2f"
   },
   "outputs": [
    {
     "data": {
      "text/plain": [
       "25"
      ]
     },
     "execution_count": 54,
     "metadata": {},
     "output_type": "execute_result"
    }
   ],
   "source": []
  },
  {
   "cell_type": "markdown",
   "metadata": {
    "id": "5SpPk5wZHMII"
   },
   "source": [
    "# Numpy Exercises"
   ]
  },
  {
   "cell_type": "markdown",
   "metadata": {
    "id": "PPmdEoLrHO9V"
   },
   "source": [
    "### 1. Create a null vector of size 10"
   ]
  },
  {
   "cell_type": "code",
   "execution_count": 32,
   "metadata": {
    "id": "bhhP4wNkHYvH"
   },
   "outputs": [
    {
     "data": {
      "text/plain": [
       "array([0., 0., 0., 0., 0., 0., 0., 0., 0., 0.])"
      ]
     },
     "execution_count": 32,
     "metadata": {},
     "output_type": "execute_result"
    }
   ],
   "source": [
    "vector = np.zeros(10)\n",
    "vector"
   ]
  },
  {
   "cell_type": "markdown",
   "metadata": {
    "id": "yiw_bPlcHb6a"
   },
   "source": [
    "### 2. Create the 3x3 matrix with values in a range from 0 to 8"
   ]
  },
  {
   "cell_type": "code",
   "execution_count": 28,
   "metadata": {
    "id": "MznvazZDHnTI"
   },
   "outputs": [
    {
     "data": {
      "text/plain": [
       "array([[0, 1, 2],\n",
       "       [3, 4, 5],\n",
       "       [6, 7, 8]])"
      ]
     },
     "execution_count": 28,
     "metadata": {},
     "output_type": "execute_result"
    }
   ],
   "source": [
    "matrix = np.arange(0, 9).reshape(3, 3)\n",
    "matrix"
   ]
  },
  {
   "cell_type": "markdown",
   "metadata": {
    "id": "K-iIAGR9H1ZK"
   },
   "source": [
    "### 3. Create a random vector of size 30 and calculate the mean"
   ]
  },
  {
   "cell_type": "code",
   "execution_count": 37,
   "metadata": {
    "id": "_G5CHfqMH9jE"
   },
   "outputs": [
    {
     "data": {
      "text/plain": [
       "array([33, 48, 92, 19, 69, 88, 20, 10,  6, 90, 51, 67, 28, 65, 24, 64, 23,\n",
       "       30, 43, 37, 75, 72, 64, 49, 25, 91, 46, 51, 59, 25])"
      ]
     },
     "execution_count": 37,
     "metadata": {},
     "output_type": "execute_result"
    }
   ],
   "source": [
    "random_vector = np.random.randint(1, 101, size = 30)\n",
    "random_vector"
   ]
  },
  {
   "cell_type": "code",
   "execution_count": 38,
   "metadata": {},
   "outputs": [
    {
     "data": {
      "text/plain": [
       "48.8"
      ]
     },
     "execution_count": 38,
     "metadata": {},
     "output_type": "execute_result"
    }
   ],
   "source": [
    "np.mean(random_vector)"
   ]
  },
  {
   "cell_type": "markdown",
   "metadata": {
    "id": "iSM2k0e9IB4m"
   },
   "source": [
    "#### 100 exercícios de NumPy\n",
    "\n",
    "https://github.com/rougier/numpy-100"
   ]
  },
  {
   "cell_type": "markdown",
   "metadata": {
    "id": "gWPUt0K1Eiqi"
   },
   "source": [
    "# GREAT JOB!"
   ]
  }
 ],
 "metadata": {
  "colab": {
   "provenance": []
  },
  "kernelspec": {
   "display_name": "Python 3 (ipykernel)",
   "language": "python",
   "name": "python3"
  },
  "language_info": {
   "codemirror_mode": {
    "name": "ipython",
    "version": 3
   },
   "file_extension": ".py",
   "mimetype": "text/x-python",
   "name": "python",
   "nbconvert_exporter": "python",
   "pygments_lexer": "ipython3",
   "version": "3.9.13"
  }
 },
 "nbformat": 4,
 "nbformat_minor": 4
}
