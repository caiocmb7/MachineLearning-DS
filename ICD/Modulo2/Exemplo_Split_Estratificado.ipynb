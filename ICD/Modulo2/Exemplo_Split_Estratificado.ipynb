{
 "cells": [
  {
   "cell_type": "code",
   "execution_count": 26,
   "metadata": {
    "id": "z-bC3S9W5QO8",
    "tags": []
   },
   "outputs": [
    {
     "name": "stdout",
     "output_type": "stream",
     "text": [
      "The lab_black extension is already loaded. To reload it, use:\n",
      "  %reload_ext lab_black\n"
     ]
    }
   ],
   "source": [
    "from sklearn.model_selection import train_test_split\n",
    "import numpy as np\n",
    "\n",
    "%load_ext lab_black"
   ]
  },
  {
   "cell_type": "code",
   "execution_count": 33,
   "metadata": {
    "colab": {
     "base_uri": "https://localhost:8080/"
    },
    "id": "186p3OlL509A",
    "outputId": "06695f36-8656-4f4b-be16-ee0dd4cf08eb",
    "tags": []
   },
   "outputs": [
    {
     "data": {
      "text/plain": [
       "array([ 0,  1,  2,  3,  4,  5,  6,  7,  8,  9, 10, 11, 12, 13, 14, 15, 16,\n",
       "       17, 18, 19])"
      ]
     },
     "execution_count": 33,
     "metadata": {},
     "output_type": "execute_result"
    }
   ],
   "source": [
    "# columns\n",
    "X = np.arange(20)\n",
    "X"
   ]
  },
  {
   "cell_type": "code",
   "execution_count": 34,
   "metadata": {
    "colab": {
     "base_uri": "https://localhost:8080/"
    },
    "id": "9mM1W24q59fm",
    "outputId": "9a0c386d-cea4-453d-914b-03197263f89f",
    "tags": []
   },
   "outputs": [
    {
     "data": {
      "text/plain": [
       "array([0., 0., 0., 0., 0., 0., 0., 0., 0., 0., 1., 1., 1., 1., 1., 1., 1.,\n",
       "       1., 1., 1.])"
      ]
     },
     "execution_count": 34,
     "metadata": {},
     "output_type": "execute_result"
    }
   ],
   "source": [
    "# target\n",
    "y = np.concatenate((np.zeros((1, 10)), np.ones((1, 10))), axis=1)[0]\n",
    "y"
   ]
  },
  {
   "cell_type": "code",
   "execution_count": 35,
   "metadata": {
    "colab": {
     "base_uri": "https://localhost:8080/"
    },
    "id": "I-buf4rL69q1",
    "outputId": "527e01c5-ae7a-48d6-feaa-334c91f33f32",
    "tags": []
   },
   "outputs": [
    {
     "data": {
      "text/plain": [
       "(array([ 0, 16, 19, 11, 15,  4,  5,  9,  2,  8,  7, 12, 10]),\n",
       " array([ 6,  1, 13, 17, 14, 18,  3]),\n",
       " array([0., 1., 1., 1., 1., 0., 0., 0., 0., 0., 0., 1., 1.]),\n",
       " array([0., 0., 1., 1., 1., 1., 0.]))"
      ]
     },
     "execution_count": 35,
     "metadata": {},
     "output_type": "execute_result"
    }
   ],
   "source": [
    "X_train, X_test, y_train, y_test = train_test_split(X, y, test_size=0.33)\n",
    "X_train, X_test, y_train, y_test"
   ]
  },
  {
   "cell_type": "code",
   "execution_count": 36,
   "metadata": {
    "colab": {
     "base_uri": "https://localhost:8080/"
    },
    "id": "pAO8iq_S8LZj",
    "outputId": "b920c9ff-e30b-4770-c6f0-7fc319d54ed0",
    "tags": []
   },
   "outputs": [
    {
     "data": {
      "text/plain": [
       "(array([ 3, 18, 16, 13,  2,  9, 19,  4, 12,  7, 10, 14,  6]),\n",
       " array([ 0, 17, 15,  1,  8,  5, 11]),\n",
       " array([0., 1., 1., 1., 0., 0., 1., 0., 1., 0., 1., 1., 0.]),\n",
       " array([0., 1., 1., 0., 0., 0., 1.]))"
      ]
     },
     "execution_count": 36,
     "metadata": {},
     "output_type": "execute_result"
    }
   ],
   "source": [
    "X_train, X_test, y_train, y_test = train_test_split(\n",
    "    X, y, test_size=0.33, random_state=42\n",
    ")\n",
    "X_train, X_test, y_train, y_test"
   ]
  },
  {
   "cell_type": "code",
   "execution_count": 37,
   "metadata": {
    "colab": {
     "base_uri": "https://localhost:8080/"
    },
    "id": "EfytAnst8MJt",
    "outputId": "cc17a48c-b166-4100-a4fb-68c9eb69762f",
    "tags": []
   },
   "outputs": [
    {
     "data": {
      "text/plain": [
       "(array([14,  4, 13, 16, 11, 17,  9, 10, 12,  0,  3,  7,  5]),\n",
       " array([ 2,  6, 15,  1,  8, 19, 18]),\n",
       " array([1., 0., 1., 1., 1., 1., 0., 1., 1., 0., 0., 0., 0.]),\n",
       " array([0., 0., 1., 0., 0., 1., 1.]))"
      ]
     },
     "execution_count": 37,
     "metadata": {},
     "output_type": "execute_result"
    }
   ],
   "source": [
    "X_train, X_test, y_train, y_test = train_test_split(X, y, test_size=0.33, stratify=y)\n",
    "X_train, X_test, y_train, y_test"
   ]
  },
  {
   "cell_type": "code",
   "execution_count": 38,
   "metadata": {
    "colab": {
     "base_uri": "https://localhost:8080/"
    },
    "id": "3RnxXCTRCd9C",
    "outputId": "725a98bf-ee4a-4946-c7cc-d5fb2a4ec824",
    "tags": []
   },
   "outputs": [
    {
     "data": {
      "text/plain": [
       "(array([12, 16, 10,  9, 19, 11,  6, 18,  1,  5,  2, 15,  0]),\n",
       " array([ 8, 17,  7, 13, 14,  3,  4]),\n",
       " array([1., 1., 1., 0., 1., 1., 0., 1., 0., 0., 0., 1., 0.]),\n",
       " array([0., 1., 0., 1., 1., 0., 0.]))"
      ]
     },
     "execution_count": 38,
     "metadata": {},
     "output_type": "execute_result"
    }
   ],
   "source": [
    "X_train, X_test, y_train, y_test = train_test_split(\n",
    "    X, y, test_size=0.33, stratify=y, random_state=42\n",
    ")\n",
    "X_train, X_test, y_train, y_test"
   ]
  }
 ],
 "metadata": {
  "colab": {
   "provenance": []
  },
  "kernelspec": {
   "display_name": "Python 3 (ipykernel)",
   "language": "python",
   "name": "python3"
  },
  "language_info": {
   "codemirror_mode": {
    "name": "ipython",
    "version": 3
   },
   "file_extension": ".py",
   "mimetype": "text/x-python",
   "name": "python",
   "nbconvert_exporter": "python",
   "pygments_lexer": "ipython3",
   "version": "3.7.16"
  }
 },
 "nbformat": 4,
 "nbformat_minor": 4
}
