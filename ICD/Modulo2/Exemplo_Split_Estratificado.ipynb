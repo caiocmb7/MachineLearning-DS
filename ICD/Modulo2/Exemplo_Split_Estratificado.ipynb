{
 "cells": [
  {
   "cell_type": "code",
   "execution_count": 3,
   "metadata": {
    "id": "z-bC3S9W5QO8",
    "tags": []
   },
   "outputs": [],
   "source": [
    "from sklearn.model_selection import train_test_split\n",
    "import numpy as np\n",
    "\n",
    "%load_ext lab_black"
   ]
  },
  {
   "cell_type": "code",
   "execution_count": 4,
   "metadata": {
    "colab": {
     "base_uri": "https://localhost:8080/"
    },
    "id": "186p3OlL509A",
    "outputId": "06695f36-8656-4f4b-be16-ee0dd4cf08eb",
    "tags": []
   },
   "outputs": [
    {
     "data": {
      "text/plain": [
       "array([0, 1, 2, 3, 4, 5, 6, 7, 8, 9])"
      ]
     },
     "execution_count": 4,
     "metadata": {},
     "output_type": "execute_result"
    }
   ],
   "source": [
    "X = np.arange(10)\n",
    "X"
   ]
  },
  {
   "cell_type": "code",
   "execution_count": 5,
   "metadata": {
    "colab": {
     "base_uri": "https://localhost:8080/"
    },
    "id": "9mM1W24q59fm",
    "outputId": "9a0c386d-cea4-453d-914b-03197263f89f",
    "tags": []
   },
   "outputs": [
    {
     "data": {
      "text/plain": [
       "array([0., 0., 0., 0., 0., 1., 1., 1., 1., 1.])"
      ]
     },
     "execution_count": 5,
     "metadata": {},
     "output_type": "execute_result"
    }
   ],
   "source": [
    "y = np.concatenate((np.zeros((1, 5)), np.ones((1, 5))), axis=1)[0]\n",
    "y"
   ]
  },
  {
   "cell_type": "code",
   "execution_count": 16,
   "metadata": {
    "colab": {
     "base_uri": "https://localhost:8080/"
    },
    "id": "I-buf4rL69q1",
    "outputId": "527e01c5-ae7a-48d6-feaa-334c91f33f32",
    "tags": []
   },
   "outputs": [
    {
     "data": {
      "text/plain": [
       "(array([5, 8, 2, 4, 9, 6]),\n",
       " array([0, 1, 7, 3]),\n",
       " array([1., 1., 0., 0., 1., 1.]),\n",
       " array([0., 0., 1., 0.]))"
      ]
     },
     "execution_count": 16,
     "metadata": {},
     "output_type": "execute_result"
    }
   ],
   "source": [
    "X_train, X_test, y_train, y_test = train_test_split(X, y, test_size=0.4)\n",
    "X_train, X_test, y_train, y_test"
   ]
  },
  {
   "cell_type": "code",
   "execution_count": 19,
   "metadata": {
    "colab": {
     "base_uri": "https://localhost:8080/"
    },
    "id": "pAO8iq_S8LZj",
    "outputId": "b920c9ff-e30b-4770-c6f0-7fc319d54ed0",
    "tags": []
   },
   "outputs": [
    {
     "data": {
      "text/plain": [
       "(array([7, 2, 9, 4, 3, 6]),\n",
       " array([8, 1, 5, 0]),\n",
       " array([1., 0., 1., 0., 0., 1.]),\n",
       " array([1., 0., 1., 0.]))"
      ]
     },
     "execution_count": 19,
     "metadata": {},
     "output_type": "execute_result"
    }
   ],
   "source": [
    "X_train, X_test, y_train, y_test = train_test_split(\n",
    "    X, y, test_size=0.4, random_state=42\n",
    ")\n",
    "X_train, X_test, y_train, y_test"
   ]
  },
  {
   "cell_type": "code",
   "execution_count": 24,
   "metadata": {
    "colab": {
     "base_uri": "https://localhost:8080/"
    },
    "id": "EfytAnst8MJt",
    "outputId": "cc17a48c-b166-4100-a4fb-68c9eb69762f",
    "tags": []
   },
   "outputs": [
    {
     "data": {
      "text/plain": [
       "(array([4, 9, 0, 5, 3, 6]),\n",
       " array([7, 2, 8, 1]),\n",
       " array([0., 1., 0., 1., 0., 1.]),\n",
       " array([1., 0., 1., 0.]))"
      ]
     },
     "execution_count": 24,
     "metadata": {},
     "output_type": "execute_result"
    }
   ],
   "source": [
    "X_train, X_test, y_train, y_test = train_test_split(X, y, test_size=0.4, stratify=y)\n",
    "X_train, X_test, y_train, y_test"
   ]
  },
  {
   "cell_type": "code",
   "execution_count": 25,
   "metadata": {
    "colab": {
     "base_uri": "https://localhost:8080/"
    },
    "id": "3RnxXCTRCd9C",
    "outputId": "725a98bf-ee4a-4946-c7cc-d5fb2a4ec824",
    "tags": []
   },
   "outputs": [
    {
     "data": {
      "text/plain": [
       "(array([8, 4, 1, 6, 7, 2]),\n",
       " array([0, 3, 5, 9]),\n",
       " array([1., 0., 0., 1., 1., 0.]),\n",
       " array([0., 0., 1., 1.]))"
      ]
     },
     "execution_count": 25,
     "metadata": {},
     "output_type": "execute_result"
    }
   ],
   "source": [
    "X_train, X_test, y_train, y_test = train_test_split(\n",
    "    X, y, test_size=0.4, stratify=y, random_state=42\n",
    ")\n",
    "X_train, X_test, y_train, y_test"
   ]
  }
 ],
 "metadata": {
  "colab": {
   "provenance": []
  },
  "kernelspec": {
   "display_name": "Python 3 (ipykernel)",
   "language": "python",
   "name": "python3"
  },
  "language_info": {
   "codemirror_mode": {
    "name": "ipython",
    "version": 3
   },
   "file_extension": ".py",
   "mimetype": "text/x-python",
   "name": "python",
   "nbconvert_exporter": "python",
   "pygments_lexer": "ipython3",
   "version": "3.7.16"
  }
 },
 "nbformat": 4,
 "nbformat_minor": 4
}
