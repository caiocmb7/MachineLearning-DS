{
  "nbformat": 4,
  "nbformat_minor": 0,
  "metadata": {
    "colab": {
      "name": "Homework 1 - ICA - Parte 2.ipynb",
      "provenance": []
    },
    "kernelspec": {
      "name": "python3",
      "display_name": "Python 3"
    },
    "language_info": {
      "name": "python"
    }
  },
  "cells": [
    {
      "cell_type": "code",
      "metadata": {
        "id": "AiVzLP2TgfKy"
      },
      "source": [
        "import pandas as pd\n",
        "import numpy as np\n",
        "import matplotlib.pyplot as plt\n",
        "import seaborn as sns\n",
        "from scipy.stats import norm\n",
        "from scipy import stats\n",
        "from sklearn import preprocessing\n",
        "from sklearn.preprocessing import LabelEncoder\n",
        "from sklearn.preprocessing import StandardScaler\n",
        "from sklearn.model_selection import train_test_split\n",
        "from sklearn.model_selection import KFold\n",
        "from sklearn.model_selection import GridSearchCV\n",
        "from sklearn.ensemble import ExtraTreesClassifier\n",
        "from sklearn.linear_model import LinearRegression\n",
        "from sklearn.preprocessing import PolynomialFeatures\n",
        "from sklearn.linear_model import Ridge\n",
        "from sklearn.linear_model import Lasso\n",
        "from sklearn.linear_model import ElasticNet\n",
        "from sklearn import metrics\n",
        "from sklearn.metrics import mean_squared_error\n",
        "from sklearn.metrics import mean_absolute_error\n",
        "from math import sqrt\n",
        "from sklearn.metrics import r2_score"
      ],
      "execution_count": null,
      "outputs": []
    },
    {
      "cell_type": "code",
      "metadata": {
        "id": "ksd9orrcgrG9"
      },
      "source": [
        "df = pd.read_csv('/content/AB_NYC_2019.csv')"
      ],
      "execution_count": null,
      "outputs": []
    },
    {
      "cell_type": "code",
      "metadata": {
        "colab": {
          "base_uri": "https://localhost:8080/",
          "height": 813
        },
        "id": "d_usTd1sWAt2",
        "outputId": "1957bb2c-db55-475c-d623-bf299da4129f"
      },
      "source": [
        "df"
      ],
      "execution_count": null,
      "outputs": [
        {
          "output_type": "execute_result",
          "data": {
            "text/html": [
              "<div>\n",
              "<style scoped>\n",
              "    .dataframe tbody tr th:only-of-type {\n",
              "        vertical-align: middle;\n",
              "    }\n",
              "\n",
              "    .dataframe tbody tr th {\n",
              "        vertical-align: top;\n",
              "    }\n",
              "\n",
              "    .dataframe thead th {\n",
              "        text-align: right;\n",
              "    }\n",
              "</style>\n",
              "<table border=\"1\" class=\"dataframe\">\n",
              "  <thead>\n",
              "    <tr style=\"text-align: right;\">\n",
              "      <th></th>\n",
              "      <th>id</th>\n",
              "      <th>name</th>\n",
              "      <th>host_id</th>\n",
              "      <th>host_name</th>\n",
              "      <th>neighbourhood_group</th>\n",
              "      <th>neighbourhood</th>\n",
              "      <th>latitude</th>\n",
              "      <th>longitude</th>\n",
              "      <th>room_type</th>\n",
              "      <th>price</th>\n",
              "      <th>minimum_nights</th>\n",
              "      <th>number_of_reviews</th>\n",
              "      <th>last_review</th>\n",
              "      <th>reviews_per_month</th>\n",
              "      <th>calculated_host_listings_count</th>\n",
              "      <th>availability_365</th>\n",
              "    </tr>\n",
              "  </thead>\n",
              "  <tbody>\n",
              "    <tr>\n",
              "      <th>0</th>\n",
              "      <td>2539</td>\n",
              "      <td>Clean &amp; quiet apt home by the park</td>\n",
              "      <td>2787</td>\n",
              "      <td>John</td>\n",
              "      <td>Brooklyn</td>\n",
              "      <td>Kensington</td>\n",
              "      <td>40.64749</td>\n",
              "      <td>-73.97237</td>\n",
              "      <td>Private room</td>\n",
              "      <td>149</td>\n",
              "      <td>1</td>\n",
              "      <td>9</td>\n",
              "      <td>2018-10-19</td>\n",
              "      <td>0.21</td>\n",
              "      <td>6</td>\n",
              "      <td>365</td>\n",
              "    </tr>\n",
              "    <tr>\n",
              "      <th>1</th>\n",
              "      <td>2595</td>\n",
              "      <td>Skylit Midtown Castle</td>\n",
              "      <td>2845</td>\n",
              "      <td>Jennifer</td>\n",
              "      <td>Manhattan</td>\n",
              "      <td>Midtown</td>\n",
              "      <td>40.75362</td>\n",
              "      <td>-73.98377</td>\n",
              "      <td>Entire home/apt</td>\n",
              "      <td>225</td>\n",
              "      <td>1</td>\n",
              "      <td>45</td>\n",
              "      <td>2019-05-21</td>\n",
              "      <td>0.38</td>\n",
              "      <td>2</td>\n",
              "      <td>355</td>\n",
              "    </tr>\n",
              "    <tr>\n",
              "      <th>2</th>\n",
              "      <td>3647</td>\n",
              "      <td>THE VILLAGE OF HARLEM....NEW YORK !</td>\n",
              "      <td>4632</td>\n",
              "      <td>Elisabeth</td>\n",
              "      <td>Manhattan</td>\n",
              "      <td>Harlem</td>\n",
              "      <td>40.80902</td>\n",
              "      <td>-73.94190</td>\n",
              "      <td>Private room</td>\n",
              "      <td>150</td>\n",
              "      <td>3</td>\n",
              "      <td>0</td>\n",
              "      <td>NaN</td>\n",
              "      <td>NaN</td>\n",
              "      <td>1</td>\n",
              "      <td>365</td>\n",
              "    </tr>\n",
              "    <tr>\n",
              "      <th>3</th>\n",
              "      <td>3831</td>\n",
              "      <td>Cozy Entire Floor of Brownstone</td>\n",
              "      <td>4869</td>\n",
              "      <td>LisaRoxanne</td>\n",
              "      <td>Brooklyn</td>\n",
              "      <td>Clinton Hill</td>\n",
              "      <td>40.68514</td>\n",
              "      <td>-73.95976</td>\n",
              "      <td>Entire home/apt</td>\n",
              "      <td>89</td>\n",
              "      <td>1</td>\n",
              "      <td>270</td>\n",
              "      <td>2019-07-05</td>\n",
              "      <td>4.64</td>\n",
              "      <td>1</td>\n",
              "      <td>194</td>\n",
              "    </tr>\n",
              "    <tr>\n",
              "      <th>4</th>\n",
              "      <td>5022</td>\n",
              "      <td>Entire Apt: Spacious Studio/Loft by central park</td>\n",
              "      <td>7192</td>\n",
              "      <td>Laura</td>\n",
              "      <td>Manhattan</td>\n",
              "      <td>East Harlem</td>\n",
              "      <td>40.79851</td>\n",
              "      <td>-73.94399</td>\n",
              "      <td>Entire home/apt</td>\n",
              "      <td>80</td>\n",
              "      <td>10</td>\n",
              "      <td>9</td>\n",
              "      <td>2018-11-19</td>\n",
              "      <td>0.10</td>\n",
              "      <td>1</td>\n",
              "      <td>0</td>\n",
              "    </tr>\n",
              "    <tr>\n",
              "      <th>...</th>\n",
              "      <td>...</td>\n",
              "      <td>...</td>\n",
              "      <td>...</td>\n",
              "      <td>...</td>\n",
              "      <td>...</td>\n",
              "      <td>...</td>\n",
              "      <td>...</td>\n",
              "      <td>...</td>\n",
              "      <td>...</td>\n",
              "      <td>...</td>\n",
              "      <td>...</td>\n",
              "      <td>...</td>\n",
              "      <td>...</td>\n",
              "      <td>...</td>\n",
              "      <td>...</td>\n",
              "      <td>...</td>\n",
              "    </tr>\n",
              "    <tr>\n",
              "      <th>48890</th>\n",
              "      <td>36484665</td>\n",
              "      <td>Charming one bedroom - newly renovated rowhouse</td>\n",
              "      <td>8232441</td>\n",
              "      <td>Sabrina</td>\n",
              "      <td>Brooklyn</td>\n",
              "      <td>Bedford-Stuyvesant</td>\n",
              "      <td>40.67853</td>\n",
              "      <td>-73.94995</td>\n",
              "      <td>Private room</td>\n",
              "      <td>70</td>\n",
              "      <td>2</td>\n",
              "      <td>0</td>\n",
              "      <td>NaN</td>\n",
              "      <td>NaN</td>\n",
              "      <td>2</td>\n",
              "      <td>9</td>\n",
              "    </tr>\n",
              "    <tr>\n",
              "      <th>48891</th>\n",
              "      <td>36485057</td>\n",
              "      <td>Affordable room in Bushwick/East Williamsburg</td>\n",
              "      <td>6570630</td>\n",
              "      <td>Marisol</td>\n",
              "      <td>Brooklyn</td>\n",
              "      <td>Bushwick</td>\n",
              "      <td>40.70184</td>\n",
              "      <td>-73.93317</td>\n",
              "      <td>Private room</td>\n",
              "      <td>40</td>\n",
              "      <td>4</td>\n",
              "      <td>0</td>\n",
              "      <td>NaN</td>\n",
              "      <td>NaN</td>\n",
              "      <td>2</td>\n",
              "      <td>36</td>\n",
              "    </tr>\n",
              "    <tr>\n",
              "      <th>48892</th>\n",
              "      <td>36485431</td>\n",
              "      <td>Sunny Studio at Historical Neighborhood</td>\n",
              "      <td>23492952</td>\n",
              "      <td>Ilgar &amp; Aysel</td>\n",
              "      <td>Manhattan</td>\n",
              "      <td>Harlem</td>\n",
              "      <td>40.81475</td>\n",
              "      <td>-73.94867</td>\n",
              "      <td>Entire home/apt</td>\n",
              "      <td>115</td>\n",
              "      <td>10</td>\n",
              "      <td>0</td>\n",
              "      <td>NaN</td>\n",
              "      <td>NaN</td>\n",
              "      <td>1</td>\n",
              "      <td>27</td>\n",
              "    </tr>\n",
              "    <tr>\n",
              "      <th>48893</th>\n",
              "      <td>36485609</td>\n",
              "      <td>43rd St. Time Square-cozy single bed</td>\n",
              "      <td>30985759</td>\n",
              "      <td>Taz</td>\n",
              "      <td>Manhattan</td>\n",
              "      <td>Hell's Kitchen</td>\n",
              "      <td>40.75751</td>\n",
              "      <td>-73.99112</td>\n",
              "      <td>Shared room</td>\n",
              "      <td>55</td>\n",
              "      <td>1</td>\n",
              "      <td>0</td>\n",
              "      <td>NaN</td>\n",
              "      <td>NaN</td>\n",
              "      <td>6</td>\n",
              "      <td>2</td>\n",
              "    </tr>\n",
              "    <tr>\n",
              "      <th>48894</th>\n",
              "      <td>36487245</td>\n",
              "      <td>Trendy duplex in the very heart of Hell's Kitchen</td>\n",
              "      <td>68119814</td>\n",
              "      <td>Christophe</td>\n",
              "      <td>Manhattan</td>\n",
              "      <td>Hell's Kitchen</td>\n",
              "      <td>40.76404</td>\n",
              "      <td>-73.98933</td>\n",
              "      <td>Private room</td>\n",
              "      <td>90</td>\n",
              "      <td>7</td>\n",
              "      <td>0</td>\n",
              "      <td>NaN</td>\n",
              "      <td>NaN</td>\n",
              "      <td>1</td>\n",
              "      <td>23</td>\n",
              "    </tr>\n",
              "  </tbody>\n",
              "</table>\n",
              "<p>48895 rows × 16 columns</p>\n",
              "</div>"
            ],
            "text/plain": [
              "             id  ... availability_365\n",
              "0          2539  ...              365\n",
              "1          2595  ...              355\n",
              "2          3647  ...              365\n",
              "3          3831  ...              194\n",
              "4          5022  ...                0\n",
              "...         ...  ...              ...\n",
              "48890  36484665  ...                9\n",
              "48891  36485057  ...               36\n",
              "48892  36485431  ...               27\n",
              "48893  36485609  ...                2\n",
              "48894  36487245  ...               23\n",
              "\n",
              "[48895 rows x 16 columns]"
            ]
          },
          "metadata": {},
          "execution_count": 3
        }
      ]
    },
    {
      "cell_type": "markdown",
      "metadata": {
        "id": "1Btzp46cjqJa"
      },
      "source": [
        "# Análise"
      ]
    },
    {
      "cell_type": "code",
      "metadata": {
        "id": "ujUoLnMKkb28"
      },
      "source": [
        "# esse método cat.codes é só pra fazer uma análise sem precisar usar label encoder\n",
        "\n",
        "df['neighbourhood_group']= df['neighbourhood_group'].astype(\"category\").cat.codes\n",
        "df['neighbourhood'] = df['neighbourhood'].astype(\"category\").cat.codes\n",
        "df['room_type'] = df['room_type'].astype(\"category\").cat.codes"
      ],
      "execution_count": null,
      "outputs": []
    },
    {
      "cell_type": "code",
      "metadata": {
        "colab": {
          "base_uri": "https://localhost:8080/",
          "height": 694
        },
        "id": "V9DVGY_RjryI",
        "outputId": "1783ccd8-53e9-4ff3-9490-4369ab63739c"
      },
      "source": [
        "plt.figure(figsize=(10,10))\n",
        "sns.distplot(df['price'], fit=norm)\n",
        "plt.title(\"Price Distribution Plot\",size=15, weight='bold')"
      ],
      "execution_count": null,
      "outputs": [
        {
          "output_type": "stream",
          "name": "stderr",
          "text": [
            "/usr/local/lib/python3.7/dist-packages/seaborn/distributions.py:2619: FutureWarning: `distplot` is a deprecated function and will be removed in a future version. Please adapt your code to use either `displot` (a figure-level function with similar flexibility) or `histplot` (an axes-level function for histograms).\n",
            "  warnings.warn(msg, FutureWarning)\n"
          ]
        },
        {
          "output_type": "execute_result",
          "data": {
            "text/plain": [
              "Text(0.5, 1.0, 'Price Distribution Plot')"
            ]
          },
          "metadata": {},
          "execution_count": 5
        },
        {
          "output_type": "display_data",
          "data": {
            "image/png": "[encoded data removed]",
            "text/plain": [
              "<Figure size 720x720 with 1 Axes>"
            ]
          },
          "metadata": {
            "needs_background": "light"
          }
        }
      ]
    },
    {
      "cell_type": "code",
      "metadata": {
        "id": "HeCpPNdZj7W2"
      },
      "source": [
        "df['price_log'] = np.log(df.price+1)"
      ],
      "execution_count": null,
      "outputs": []
    },
    {
      "cell_type": "code",
      "metadata": {
        "colab": {
          "base_uri": "https://localhost:8080/",
          "height": 695
        },
        "id": "-gxRcTjVkAIE",
        "outputId": "784373bf-75ba-453b-e50c-b36cc44ece86"
      },
      "source": [
        "plt.figure(figsize=(12,10))\n",
        "sns.distplot(df['price_log'], fit=norm)\n",
        "plt.title(\"Log-Price Distribution Plot\",size=15, weight='bold')"
      ],
      "execution_count": null,
      "outputs": [
        {
          "output_type": "stream",
          "name": "stderr",
          "text": [
            "/usr/local/lib/python3.7/dist-packages/seaborn/distributions.py:2619: FutureWarning: `distplot` is a deprecated function and will be removed in a future version. Please adapt your code to use either `displot` (a figure-level function with similar flexibility) or `histplot` (an axes-level function for histograms).\n",
            "  warnings.warn(msg, FutureWarning)\n"
          ]
        },
        {
          "output_type": "execute_result",
          "data": {
            "text/plain": [
              "Text(0.5, 1.0, 'Log-Price Distribution Plot')"
            ]
          },
          "metadata": {},
          "execution_count": 7
        },
        {
          "output_type": "display_data",
          "data": {
            "image/png": "[encoded data removed]",
            "text/plain": [
              "<Figure size 864x720 with 1 Axes>"
            ]
          },
          "metadata": {
            "needs_background": "light"
          }
        }
      ]
    },
    {
      "cell_type": "markdown",
      "metadata": {
        "id": "zJGAwwvUg1HU"
      },
      "source": [
        "# Limpeza"
      ]
    },
    {
      "cell_type": "code",
      "metadata": {
        "id": "rFNVUpAYg-GW"
      },
      "source": [
        "# tirando colunas que nao serão usadas\n",
        "df = df.drop(columns=['name','id' ,'host_id','host_name', \n",
        "                                   'last_review','price'])"
      ],
      "execution_count": null,
      "outputs": []
    },
    {
      "cell_type": "code",
      "metadata": {
        "colab": {
          "base_uri": "https://localhost:8080/"
        },
        "id": "4afAD2p0hH17",
        "outputId": "1eb837cb-18cd-49e4-e2ec-eeb97371d3e9"
      },
      "source": [
        "df.isnull().sum()"
      ],
      "execution_count": null,
      "outputs": [
        {
          "output_type": "execute_result",
          "data": {
            "text/plain": [
              "neighbourhood_group                   0\n",
              "neighbourhood                         0\n",
              "latitude                              0\n",
              "longitude                             0\n",
              "room_type                             0\n",
              "minimum_nights                        0\n",
              "number_of_reviews                     0\n",
              "reviews_per_month                 10052\n",
              "calculated_host_listings_count        0\n",
              "availability_365                      0\n",
              "price_log                             0\n",
              "dtype: int64"
            ]
          },
          "metadata": {},
          "execution_count": 9
        }
      ]
    },
    {
      "cell_type": "code",
      "metadata": {
        "id": "F9CxBc6rhSQq"
      },
      "source": [
        "mean = df['reviews_per_month'].mean()\n",
        "df['reviews_per_month'].fillna(mean, inplace=True)"
      ],
      "execution_count": null,
      "outputs": []
    },
    {
      "cell_type": "code",
      "metadata": {
        "colab": {
          "base_uri": "https://localhost:8080/"
        },
        "id": "KxvpA8cxhUk2",
        "outputId": "7654ceb6-2486-4f49-de1e-b229f3f3ab0d"
      },
      "source": [
        "df.isnull().sum()"
      ],
      "execution_count": null,
      "outputs": [
        {
          "output_type": "execute_result",
          "data": {
            "text/plain": [
              "neighbourhood_group               0\n",
              "neighbourhood                     0\n",
              "latitude                          0\n",
              "longitude                         0\n",
              "room_type                         0\n",
              "minimum_nights                    0\n",
              "number_of_reviews                 0\n",
              "reviews_per_month                 0\n",
              "calculated_host_listings_count    0\n",
              "availability_365                  0\n",
              "price_log                         0\n",
              "dtype: int64"
            ]
          },
          "metadata": {},
          "execution_count": 11
        }
      ]
    },
    {
      "cell_type": "code",
      "metadata": {
        "colab": {
          "base_uri": "https://localhost:8080/",
          "height": 877
        },
        "id": "iFmW0sG1h_Ap",
        "outputId": "a789bde2-b607-4aea-bd8e-ba037ebe6e53"
      },
      "source": [
        "plt.figure(figsize=(15,12))\n",
        "palette = sns.diverging_palette(20, 220, n=256)\n",
        "corr=df.corr(method='pearson')\n",
        "sns.heatmap(corr, annot=True, fmt=\".2f\", cmap=palette, vmax=.3, center=0,\n",
        "            square=True, linewidths=.5, cbar_kws={\"shrink\": .5}).set(ylim=(11, 0))\n",
        "plt.title(\"Correlation Matrix\",size=15, weight='bold')"
      ],
      "execution_count": null,
      "outputs": [
        {
          "output_type": "execute_result",
          "data": {
            "text/plain": [
              "Text(0.5, 1.0, 'Correlation Matrix')"
            ]
          },
          "metadata": {},
          "execution_count": 12
        },
        {
          "output_type": "display_data",
          "data": {
            "image/png": "[encoded data removed]",
            "text/plain": [
              "<Figure size 1080x864 with 2 Axes>"
            ]
          },
          "metadata": {
            "needs_background": "light"
          }
        }
      ]
    },
    {
      "cell_type": "code",
      "metadata": {
        "colab": {
          "base_uri": "https://localhost:8080/",
          "height": 419
        },
        "id": "6-ud6cPqhVax",
        "outputId": "192cdc0e-aec6-468c-87c0-8a82e9fe4c66"
      },
      "source": [
        "df_x = df.iloc[:,:-1]\n",
        "df_x"
      ],
      "execution_count": null,
      "outputs": [
        {
          "output_type": "execute_result",
          "data": {
            "text/html": [
              "<div>\n",
              "<style scoped>\n",
              "    .dataframe tbody tr th:only-of-type {\n",
              "        vertical-align: middle;\n",
              "    }\n",
              "\n",
              "    .dataframe tbody tr th {\n",
              "        vertical-align: top;\n",
              "    }\n",
              "\n",
              "    .dataframe thead th {\n",
              "        text-align: right;\n",
              "    }\n",
              "</style>\n",
              "<table border=\"1\" class=\"dataframe\">\n",
              "  <thead>\n",
              "    <tr style=\"text-align: right;\">\n",
              "      <th></th>\n",
              "      <th>neighbourhood_group</th>\n",
              "      <th>neighbourhood</th>\n",
              "      <th>latitude</th>\n",
              "      <th>longitude</th>\n",
              "      <th>room_type</th>\n",
              "      <th>minimum_nights</th>\n",
              "      <th>number_of_reviews</th>\n",
              "      <th>reviews_per_month</th>\n",
              "      <th>calculated_host_listings_count</th>\n",
              "      <th>availability_365</th>\n",
              "    </tr>\n",
              "  </thead>\n",
              "  <tbody>\n",
              "    <tr>\n",
              "      <th>0</th>\n",
              "      <td>1</td>\n",
              "      <td>108</td>\n",
              "      <td>40.64749</td>\n",
              "      <td>-73.97237</td>\n",
              "      <td>1</td>\n",
              "      <td>1</td>\n",
              "      <td>9</td>\n",
              "      <td>0.210000</td>\n",
              "      <td>6</td>\n",
              "      <td>365</td>\n",
              "    </tr>\n",
              "    <tr>\n",
              "      <th>1</th>\n",
              "      <td>2</td>\n",
              "      <td>127</td>\n",
              "      <td>40.75362</td>\n",
              "      <td>-73.98377</td>\n",
              "      <td>0</td>\n",
              "      <td>1</td>\n",
              "      <td>45</td>\n",
              "      <td>0.380000</td>\n",
              "      <td>2</td>\n",
              "      <td>355</td>\n",
              "    </tr>\n",
              "    <tr>\n",
              "      <th>2</th>\n",
              "      <td>2</td>\n",
              "      <td>94</td>\n",
              "      <td>40.80902</td>\n",
              "      <td>-73.94190</td>\n",
              "      <td>1</td>\n",
              "      <td>3</td>\n",
              "      <td>0</td>\n",
              "      <td>1.373221</td>\n",
              "      <td>1</td>\n",
              "      <td>365</td>\n",
              "    </tr>\n",
              "    <tr>\n",
              "      <th>3</th>\n",
              "      <td>1</td>\n",
              "      <td>41</td>\n",
              "      <td>40.68514</td>\n",
              "      <td>-73.95976</td>\n",
              "      <td>0</td>\n",
              "      <td>1</td>\n",
              "      <td>270</td>\n",
              "      <td>4.640000</td>\n",
              "      <td>1</td>\n",
              "      <td>194</td>\n",
              "    </tr>\n",
              "    <tr>\n",
              "      <th>4</th>\n",
              "      <td>2</td>\n",
              "      <td>61</td>\n",
              "      <td>40.79851</td>\n",
              "      <td>-73.94399</td>\n",
              "      <td>0</td>\n",
              "      <td>10</td>\n",
              "      <td>9</td>\n",
              "      <td>0.100000</td>\n",
              "      <td>1</td>\n",
              "      <td>0</td>\n",
              "    </tr>\n",
              "    <tr>\n",
              "      <th>...</th>\n",
              "      <td>...</td>\n",
              "      <td>...</td>\n",
              "      <td>...</td>\n",
              "      <td>...</td>\n",
              "      <td>...</td>\n",
              "      <td>...</td>\n",
              "      <td>...</td>\n",
              "      <td>...</td>\n",
              "      <td>...</td>\n",
              "      <td>...</td>\n",
              "    </tr>\n",
              "    <tr>\n",
              "      <th>48890</th>\n",
              "      <td>1</td>\n",
              "      <td>13</td>\n",
              "      <td>40.67853</td>\n",
              "      <td>-73.94995</td>\n",
              "      <td>1</td>\n",
              "      <td>2</td>\n",
              "      <td>0</td>\n",
              "      <td>1.373221</td>\n",
              "      <td>2</td>\n",
              "      <td>9</td>\n",
              "    </tr>\n",
              "    <tr>\n",
              "      <th>48891</th>\n",
              "      <td>1</td>\n",
              "      <td>28</td>\n",
              "      <td>40.70184</td>\n",
              "      <td>-73.93317</td>\n",
              "      <td>1</td>\n",
              "      <td>4</td>\n",
              "      <td>0</td>\n",
              "      <td>1.373221</td>\n",
              "      <td>2</td>\n",
              "      <td>36</td>\n",
              "    </tr>\n",
              "    <tr>\n",
              "      <th>48892</th>\n",
              "      <td>2</td>\n",
              "      <td>94</td>\n",
              "      <td>40.81475</td>\n",
              "      <td>-73.94867</td>\n",
              "      <td>0</td>\n",
              "      <td>10</td>\n",
              "      <td>0</td>\n",
              "      <td>1.373221</td>\n",
              "      <td>1</td>\n",
              "      <td>27</td>\n",
              "    </tr>\n",
              "    <tr>\n",
              "      <th>48893</th>\n",
              "      <td>2</td>\n",
              "      <td>95</td>\n",
              "      <td>40.75751</td>\n",
              "      <td>-73.99112</td>\n",
              "      <td>2</td>\n",
              "      <td>1</td>\n",
              "      <td>0</td>\n",
              "      <td>1.373221</td>\n",
              "      <td>6</td>\n",
              "      <td>2</td>\n",
              "    </tr>\n",
              "    <tr>\n",
              "      <th>48894</th>\n",
              "      <td>2</td>\n",
              "      <td>95</td>\n",
              "      <td>40.76404</td>\n",
              "      <td>-73.98933</td>\n",
              "      <td>1</td>\n",
              "      <td>7</td>\n",
              "      <td>0</td>\n",
              "      <td>1.373221</td>\n",
              "      <td>1</td>\n",
              "      <td>23</td>\n",
              "    </tr>\n",
              "  </tbody>\n",
              "</table>\n",
              "<p>48895 rows × 10 columns</p>\n",
              "</div>"
            ],
            "text/plain": [
              "       neighbourhood_group  ...  availability_365\n",
              "0                        1  ...               365\n",
              "1                        2  ...               355\n",
              "2                        2  ...               365\n",
              "3                        1  ...               194\n",
              "4                        2  ...                 0\n",
              "...                    ...  ...               ...\n",
              "48890                    1  ...                 9\n",
              "48891                    1  ...                36\n",
              "48892                    2  ...                27\n",
              "48893                    2  ...                 2\n",
              "48894                    2  ...                23\n",
              "\n",
              "[48895 rows x 10 columns]"
            ]
          },
          "metadata": {},
          "execution_count": 13
        }
      ]
    },
    {
      "cell_type": "code",
      "metadata": {
        "colab": {
          "base_uri": "https://localhost:8080/",
          "height": 419
        },
        "id": "vm92b-zKXTqe",
        "outputId": "ecc58dd0-d686-4ad0-d838-e9bdbd29d2a7"
      },
      "source": [
        "df"
      ],
      "execution_count": null,
      "outputs": [
        {
          "output_type": "execute_result",
          "data": {
            "text/html": [
              "<div>\n",
              "<style scoped>\n",
              "    .dataframe tbody tr th:only-of-type {\n",
              "        vertical-align: middle;\n",
              "    }\n",
              "\n",
              "    .dataframe tbody tr th {\n",
              "        vertical-align: top;\n",
              "    }\n",
              "\n",
              "    .dataframe thead th {\n",
              "        text-align: right;\n",
              "    }\n",
              "</style>\n",
              "<table border=\"1\" class=\"dataframe\">\n",
              "  <thead>\n",
              "    <tr style=\"text-align: right;\">\n",
              "      <th></th>\n",
              "      <th>neighbourhood_group</th>\n",
              "      <th>neighbourhood</th>\n",
              "      <th>latitude</th>\n",
              "      <th>longitude</th>\n",
              "      <th>room_type</th>\n",
              "      <th>minimum_nights</th>\n",
              "      <th>number_of_reviews</th>\n",
              "      <th>reviews_per_month</th>\n",
              "      <th>calculated_host_listings_count</th>\n",
              "      <th>availability_365</th>\n",
              "      <th>price_log</th>\n",
              "    </tr>\n",
              "  </thead>\n",
              "  <tbody>\n",
              "    <tr>\n",
              "      <th>0</th>\n",
              "      <td>1</td>\n",
              "      <td>108</td>\n",
              "      <td>40.64749</td>\n",
              "      <td>-73.97237</td>\n",
              "      <td>1</td>\n",
              "      <td>1</td>\n",
              "      <td>9</td>\n",
              "      <td>0.210000</td>\n",
              "      <td>6</td>\n",
              "      <td>365</td>\n",
              "      <td>5.010635</td>\n",
              "    </tr>\n",
              "    <tr>\n",
              "      <th>1</th>\n",
              "      <td>2</td>\n",
              "      <td>127</td>\n",
              "      <td>40.75362</td>\n",
              "      <td>-73.98377</td>\n",
              "      <td>0</td>\n",
              "      <td>1</td>\n",
              "      <td>45</td>\n",
              "      <td>0.380000</td>\n",
              "      <td>2</td>\n",
              "      <td>355</td>\n",
              "      <td>5.420535</td>\n",
              "    </tr>\n",
              "    <tr>\n",
              "      <th>2</th>\n",
              "      <td>2</td>\n",
              "      <td>94</td>\n",
              "      <td>40.80902</td>\n",
              "      <td>-73.94190</td>\n",
              "      <td>1</td>\n",
              "      <td>3</td>\n",
              "      <td>0</td>\n",
              "      <td>1.373221</td>\n",
              "      <td>1</td>\n",
              "      <td>365</td>\n",
              "      <td>5.017280</td>\n",
              "    </tr>\n",
              "    <tr>\n",
              "      <th>3</th>\n",
              "      <td>1</td>\n",
              "      <td>41</td>\n",
              "      <td>40.68514</td>\n",
              "      <td>-73.95976</td>\n",
              "      <td>0</td>\n",
              "      <td>1</td>\n",
              "      <td>270</td>\n",
              "      <td>4.640000</td>\n",
              "      <td>1</td>\n",
              "      <td>194</td>\n",
              "      <td>4.499810</td>\n",
              "    </tr>\n",
              "    <tr>\n",
              "      <th>4</th>\n",
              "      <td>2</td>\n",
              "      <td>61</td>\n",
              "      <td>40.79851</td>\n",
              "      <td>-73.94399</td>\n",
              "      <td>0</td>\n",
              "      <td>10</td>\n",
              "      <td>9</td>\n",
              "      <td>0.100000</td>\n",
              "      <td>1</td>\n",
              "      <td>0</td>\n",
              "      <td>4.394449</td>\n",
              "    </tr>\n",
              "    <tr>\n",
              "      <th>...</th>\n",
              "      <td>...</td>\n",
              "      <td>...</td>\n",
              "      <td>...</td>\n",
              "      <td>...</td>\n",
              "      <td>...</td>\n",
              "      <td>...</td>\n",
              "      <td>...</td>\n",
              "      <td>...</td>\n",
              "      <td>...</td>\n",
              "      <td>...</td>\n",
              "      <td>...</td>\n",
              "    </tr>\n",
              "    <tr>\n",
              "      <th>48890</th>\n",
              "      <td>1</td>\n",
              "      <td>13</td>\n",
              "      <td>40.67853</td>\n",
              "      <td>-73.94995</td>\n",
              "      <td>1</td>\n",
              "      <td>2</td>\n",
              "      <td>0</td>\n",
              "      <td>1.373221</td>\n",
              "      <td>2</td>\n",
              "      <td>9</td>\n",
              "      <td>4.262680</td>\n",
              "    </tr>\n",
              "    <tr>\n",
              "      <th>48891</th>\n",
              "      <td>1</td>\n",
              "      <td>28</td>\n",
              "      <td>40.70184</td>\n",
              "      <td>-73.93317</td>\n",
              "      <td>1</td>\n",
              "      <td>4</td>\n",
              "      <td>0</td>\n",
              "      <td>1.373221</td>\n",
              "      <td>2</td>\n",
              "      <td>36</td>\n",
              "      <td>3.713572</td>\n",
              "    </tr>\n",
              "    <tr>\n",
              "      <th>48892</th>\n",
              "      <td>2</td>\n",
              "      <td>94</td>\n",
              "      <td>40.81475</td>\n",
              "      <td>-73.94867</td>\n",
              "      <td>0</td>\n",
              "      <td>10</td>\n",
              "      <td>0</td>\n",
              "      <td>1.373221</td>\n",
              "      <td>1</td>\n",
              "      <td>27</td>\n",
              "      <td>4.753590</td>\n",
              "    </tr>\n",
              "    <tr>\n",
              "      <th>48893</th>\n",
              "      <td>2</td>\n",
              "      <td>95</td>\n",
              "      <td>40.75751</td>\n",
              "      <td>-73.99112</td>\n",
              "      <td>2</td>\n",
              "      <td>1</td>\n",
              "      <td>0</td>\n",
              "      <td>1.373221</td>\n",
              "      <td>6</td>\n",
              "      <td>2</td>\n",
              "      <td>4.025352</td>\n",
              "    </tr>\n",
              "    <tr>\n",
              "      <th>48894</th>\n",
              "      <td>2</td>\n",
              "      <td>95</td>\n",
              "      <td>40.76404</td>\n",
              "      <td>-73.98933</td>\n",
              "      <td>1</td>\n",
              "      <td>7</td>\n",
              "      <td>0</td>\n",
              "      <td>1.373221</td>\n",
              "      <td>1</td>\n",
              "      <td>23</td>\n",
              "      <td>4.510860</td>\n",
              "    </tr>\n",
              "  </tbody>\n",
              "</table>\n",
              "<p>48895 rows × 11 columns</p>\n",
              "</div>"
            ],
            "text/plain": [
              "       neighbourhood_group  neighbourhood  ...  availability_365  price_log\n",
              "0                        1            108  ...               365   5.010635\n",
              "1                        2            127  ...               355   5.420535\n",
              "2                        2             94  ...               365   5.017280\n",
              "3                        1             41  ...               194   4.499810\n",
              "4                        2             61  ...                 0   4.394449\n",
              "...                    ...            ...  ...               ...        ...\n",
              "48890                    1             13  ...                 9   4.262680\n",
              "48891                    1             28  ...                36   3.713572\n",
              "48892                    2             94  ...                27   4.753590\n",
              "48893                    2             95  ...                 2   4.025352\n",
              "48894                    2             95  ...                23   4.510860\n",
              "\n",
              "[48895 rows x 11 columns]"
            ]
          },
          "metadata": {},
          "execution_count": 14
        }
      ]
    },
    {
      "cell_type": "code",
      "metadata": {
        "colab": {
          "base_uri": "https://localhost:8080/"
        },
        "id": "ct-tBOI3hc3c",
        "outputId": "d9978772-34a9-4652-b836-601f1d1eda18"
      },
      "source": [
        "df_y = df.iloc[:,-1]\n",
        "df_y"
      ],
      "execution_count": null,
      "outputs": [
        {
          "output_type": "execute_result",
          "data": {
            "text/plain": [
              "0        5.010635\n",
              "1        5.420535\n",
              "2        5.017280\n",
              "3        4.499810\n",
              "4        4.394449\n",
              "           ...   \n",
              "48890    4.262680\n",
              "48891    3.713572\n",
              "48892    4.753590\n",
              "48893    4.025352\n",
              "48894    4.510860\n",
              "Name: price_log, Length: 48895, dtype: float64"
            ]
          },
          "metadata": {},
          "execution_count": 15
        }
      ]
    },
    {
      "cell_type": "markdown",
      "metadata": {
        "id": "7tJ9qBqpk1tC"
      },
      "source": [
        "# Normalização e Divisão"
      ]
    },
    {
      "cell_type": "code",
      "metadata": {
        "id": "nqcDg8L7k5I3"
      },
      "source": [
        "# normalização\n",
        "\n",
        "scaler = StandardScaler()\n",
        "df_x = scaler.fit_transform(df_x)"
      ],
      "execution_count": null,
      "outputs": []
    },
    {
      "cell_type": "code",
      "metadata": {
        "id": "QmVRgFxpk8pm"
      },
      "source": [
        "# divisão\n",
        "\n",
        "X_train, X_test, y_train, y_test = train_test_split(df_x, df_y, test_size=0.3, random_state=42)"
      ],
      "execution_count": null,
      "outputs": []
    },
    {
      "cell_type": "code",
      "metadata": {
        "id": "MBWH9_fflGcy",
        "colab": {
          "base_uri": "https://localhost:8080/",
          "height": 52
        },
        "outputId": "f9d0ee2e-0fd1-4164-8649-517690b8d156"
      },
      "source": [
        "# essa etapa aqui é pra mostrar que o neighborhood group e room type são irrelevantes, mas tá dando erro de RAM\n",
        "\n",
        "\"\"\"\n",
        "lab_enc = preprocessing.LabelEncoder()\n",
        "\n",
        "feature_model = ExtraTreesClassifier(n_estimators=50)\n",
        "feature_model.fit(X_train,lab_enc.fit_transform(y_train))\n",
        "\n",
        "plt.figure(figsize=(7,7))\n",
        "feat_importances = pd.Series(feature_model.feature_importances_, index=df.iloc[:,:-1].columns)\n",
        "feat_importances.nlargest(10).plot(kind='barh')\n",
        "plt.show()\n",
        "\"\"\""
      ],
      "execution_count": null,
      "outputs": [
        {
          "output_type": "execute_result",
          "data": {
            "application/vnd.google.colaboratory.intrinsic+json": {
              "type": "string"
            },
            "text/plain": [
              "\"\\nlab_enc = preprocessing.LabelEncoder()\\n\\nfeature_model = ExtraTreesClassifier(n_estimators=50)\\nfeature_model.fit(X_train,lab_enc.fit_transform(y_train))\\n\\nplt.figure(figsize=(7,7))\\nfeat_importances = pd.Series(feature_model.feature_importances_, index=df.iloc[:,:-1].columns)\\nfeat_importances.nlargest(10).plot(kind='barh')\\nplt.show()\\n\""
            ]
          },
          "metadata": {},
          "execution_count": 18
        }
      ]
    },
    {
      "cell_type": "markdown",
      "metadata": {
        "id": "VAxf2VQ2JmdM"
      },
      "source": [
        "#Treino Regressão Simples"
      ]
    },
    {
      "cell_type": "code",
      "metadata": {
        "id": "4nW0UlJYJrY8"
      },
      "source": [
        "from sklearn.linear_model import LinearRegression\n",
        "from sklearn.metrics import r2_score\n",
        "from sklearn import metrics \n",
        "\n",
        "regressao = LinearRegression()\n",
        "reg = regressao.fit(X_train,y_train)"
      ],
      "execution_count": null,
      "outputs": []
    },
    {
      "cell_type": "markdown",
      "metadata": {
        "id": "ipWhEkwKl5TA"
      },
      "source": [
        "# Treino - k Fold = 5"
      ]
    },
    {
      "cell_type": "code",
      "metadata": {
        "id": "0MjlIIn0mnY9",
        "colab": {
          "base_uri": "https://localhost:8080/"
        },
        "outputId": "d25cf961-612c-4599-df5d-9252f38d6a5f"
      },
      "source": [
        "### K-Fold Cross Validation ###\n",
        "\n",
        "kfold_cv = KFold(n_splits=5)\n",
        "for train_index, test_index in kfold_cv.split(df_x,df_y):\n",
        "    print(\"Train:\", train_index, \"Validation:\", test_index)\n",
        "    X_train, X_test = df_x[train_index], df_x[test_index]\n",
        "    y_train, y_test = df_y[train_index], df_y[test_index]"
      ],
      "execution_count": null,
      "outputs": [
        {
          "output_type": "stream",
          "name": "stdout",
          "text": [
            "Train: [ 9779  9780  9781 ... 48892 48893 48894] Validation: [   0    1    2 ... 9776 9777 9778]\n",
            "Train: [    0     1     2 ... 48892 48893 48894] Validation: [ 9779  9780  9781 ... 19555 19556 19557]\n",
            "Train: [    0     1     2 ... 48892 48893 48894] Validation: [19558 19559 19560 ... 29334 29335 29336]\n",
            "Train: [    0     1     2 ... 48892 48893 48894] Validation: [29337 29338 29339 ... 39113 39114 39115]\n",
            "Train: [    0     1     2 ... 39113 39114 39115] Validation: [39116 39117 39118 ... 48892 48893 48894]\n"
          ]
        }
      ]
    },
    {
      "cell_type": "code",
      "metadata": {
        "colab": {
          "base_uri": "https://localhost:8080/"
        },
        "id": "5wpRZsoF_A9l",
        "outputId": "b885689e-bd44-4d21-c2d4-5503bf45e969"
      },
      "source": [
        "X_train[0]"
      ],
      "execution_count": null,
      "outputs": [
        {
          "output_type": "execute_result",
          "data": {
            "text/plain": [
              "array([-0.91782758,  0.01276167, -1.4938492 , -0.43765209,  0.90935915,\n",
              "       -0.29399621, -0.32041358, -0.77664098, -0.03471643,  1.91625031])"
            ]
          },
          "metadata": {},
          "execution_count": 151
        }
      ]
    },
    {
      "cell_type": "markdown",
      "metadata": {
        "id": "mzV_kmUnmyUL"
      },
      "source": [
        "# Previsão"
      ]
    },
    {
      "cell_type": "code",
      "metadata": {
        "id": "P7j4_Xfbm0MJ"
      },
      "source": [
        "##Linear Regression with k-fold\n",
        "lr = LinearRegression(copy_X= True, fit_intercept = True, normalize = True)\n",
        "lr.fit(X_train, y_train)\n",
        "lr_pred= lr.predict(X_test)"
      ],
      "execution_count": null,
      "outputs": []
    },
    {
      "cell_type": "code",
      "metadata": {
        "colab": {
          "base_uri": "https://localhost:8080/"
        },
        "id": "YLoHgrk5Bivi",
        "outputId": "ff3a0d87-df76-4b62-ffcf-d2db5a58457b"
      },
      "source": [
        "lr.coef_"
      ],
      "execution_count": null,
      "outputs": [
        {
          "output_type": "execute_result",
          "data": {
            "text/plain": [
              "array([ 0.03799279,  0.03994073,  0.04824233, -0.16497375, -0.38583378,\n",
              "       -0.02875432, -0.04051471,  0.02104941,  0.01626603,  0.08801945])"
            ]
          },
          "metadata": {},
          "execution_count": 286
        }
      ]
    },
    {
      "cell_type": "code",
      "metadata": {
        "colab": {
          "base_uri": "https://localhost:8080/"
        },
        "id": "c9sVEo2awAim",
        "outputId": "7b90e89d-80c8-4d80-e7cb-f48ad19b0fc6"
      },
      "source": [
        "error_airbnb = pd.DataFrame({\n",
        "        'Actual Values': np.array(y_test).flatten(),\n",
        "        'Predicted Values': lr_pred.flatten()})\n",
        "diff = np.array(y_test).flatten() - lr_pred.flatten()\n",
        "error_airbnb['Margin of Error'] = diff\n",
        "erro_dol = np.exp(error_airbnb['Margin of Error'])\n",
        "erro_dol"
      ],
      "execution_count": null,
      "outputs": [
        {
          "output_type": "execute_result",
          "data": {
            "text/plain": [
              "0       2.793422\n",
              "1       2.357045\n",
              "2       1.265498\n",
              "3       0.506146\n",
              "4       3.305514\n",
              "          ...   \n",
              "9774    1.069878\n",
              "9775    0.627396\n",
              "9776    0.694908\n",
              "9777    1.249427\n",
              "9778    0.998185\n",
              "Name: Margin of Error, Length: 9779, dtype: float64"
            ]
          },
          "metadata": {},
          "execution_count": 280
        }
      ]
    },
    {
      "cell_type": "code",
      "metadata": {
        "colab": {
          "base_uri": "https://localhost:8080/",
          "height": 296
        },
        "id": "7X5SSa4zPJ4r",
        "outputId": "6ed679a9-8bdf-4ac3-a492-85a41734f735"
      },
      "source": [
        "#Estimando o melhor lambda para o Ridge Model\n",
        "\n",
        "alphas = np.arange(0, 1, 0.01)\n",
        "pred_ridge_aux = []\n",
        "alpha_aux = []\n",
        "for alpha in alphas : \n",
        "  ridge_model = Ridge(alpha = alpha, normalize = True)\n",
        "  ridge_model.fit(X_train, y_train)             \n",
        "  pred_ridge = ridge_model.predict(X_test) \n",
        "  rmse_ridge = np.sqrt(metrics.mean_squared_error(y_test,pred_ridge)) \n",
        "  pred_ridge_aux.append(rmse_ridge)\n",
        "  alpha_aux.append(alpha)\n",
        "\n",
        " #if(pred_ridge_aux >= rmse_ridge):\n",
        " #   alpha_aux = alpha\n",
        " #  pred_ridge_aux = rmse_ridge\n",
        "  \n",
        "plt.plot(alpha_aux,pred_ridge_aux)\n",
        "plt.xlabel('alpha')\n",
        "plt.ylabel('rmse')"
      ],
      "execution_count": null,
      "outputs": [
        {
          "output_type": "execute_result",
          "data": {
            "text/plain": [
              "Text(0, 0.5, 'rmse')"
            ]
          },
          "metadata": {},
          "execution_count": 297
        },
        {
          "output_type": "display_data",
          "data": {
            "image/png": "[encoded data removed]",
            "text/plain": [
              "<Figure size 432x288 with 1 Axes>"
            ]
          },
          "metadata": {
            "needs_background": "light"
          }
        }
      ]
    },
    {
      "cell_type": "code",
      "metadata": {
        "id": "Qwv6O86UJi05"
      },
      "source": [
        "from sklearn.linear_model import RidgeCV\n",
        "\n",
        "clf = RidgeCV(alphas=[1e-3, 1e-2, 1e-1, 1]).fit(X, y)\n",
        "clf.score(X, y)\n",
        "0.5166..."
      ],
      "execution_count": null,
      "outputs": []
    },
    {
      "cell_type": "code",
      "metadata": {
        "id": "RGKusUaDBih5"
      },
      "source": [
        "#Ridge Model\n",
        "# ANTIGO ridge_model = Ridge(alpha = 0.01, normalize = True)\n",
        "ridge_model = Ridge(alpha = 0, normalize = True)\n",
        "ridge_model.fit(X_train, y_train)             \n",
        "pred_ridge = ridge_model.predict(X_test) "
      ],
      "execution_count": null,
      "outputs": []
    },
    {
      "cell_type": "code",
      "metadata": {
        "colab": {
          "base_uri": "https://localhost:8080/"
        },
        "id": "6YjhuROvRlRC",
        "outputId": "a5b2843e-1e9c-491d-ff51-d2ae36527d40"
      },
      "source": [
        "#Estimando o melhor lambda para o Lasso Model\n",
        "alphas = np.arange(0, 1.0, 0.01)\n",
        "pred_lasso_aux = 1\n",
        "alpha_aux = 0\n",
        "for alpha in alphas : \n",
        "  lasso_model = Lasso(alpha = alpha, normalize = True)\n",
        "  lasso_model.fit(X_train, y_train)             \n",
        "  pred_lasso = lasso_model.predict(X_test) \n",
        "  rmse_lasso = np.sqrt(metrics.mean_squared_error(y_test,pred_lasso)) \n",
        "  if(pred_lasso_aux >= rmse_lasso):\n",
        "    alpha_aux = alpha\n",
        "    pred_lasso_aux = rmse_lasso\n",
        "\n",
        "print('RMSE: %.3f' % pred_lasso_aux)\n",
        "print('Config: %s' % alpha_aux)"
      ],
      "execution_count": null,
      "outputs": [
        {
          "output_type": "stream",
          "name": "stderr",
          "text": [
            "/usr/local/lib/python3.7/dist-packages/ipykernel_launcher.py:7: UserWarning: With alpha=0, this algorithm does not converge well. You are advised to use the LinearRegression estimator\n",
            "  import sys\n",
            "/usr/local/lib/python3.7/dist-packages/sklearn/linear_model/_coordinate_descent.py:476: UserWarning: Coordinate descent with no regularization may lead to unexpected results and is discouraged.\n",
            "  positive)\n",
            "/usr/local/lib/python3.7/dist-packages/sklearn/linear_model/_coordinate_descent.py:476: ConvergenceWarning: Objective did not converge. You might want to increase the number of iterations. Duality gap: 4991.0234793407135, tolerance: 1.796406823859697\n",
            "  positive)\n"
          ]
        },
        {
          "output_type": "stream",
          "name": "stdout",
          "text": [
            "RMSE: 0.538\n",
            "Config: 0.0\n"
          ]
        }
      ]
    },
    {
      "cell_type": "code",
      "metadata": {
        "id": "HfHfv4GrlNFi"
      },
      "source": [
        "#Lasso Model\n",
        "Lasso_model = Lasso(alpha = 0.001, normalize =False)\n",
        "#Lasso_model = Lasso(alpha = 0, normalize =False)\n",
        "Lasso_model.fit(X_train, y_train)\n",
        "pred_Lasso = Lasso_model.predict(X_test) \n"
      ],
      "execution_count": null,
      "outputs": []
    },
    {
      "cell_type": "code",
      "metadata": {
        "colab": {
          "base_uri": "https://localhost:8080/"
        },
        "id": "YU-DNSUKSzbS",
        "outputId": "38a9b018-5b48-40ee-d04d-592e8a40d682"
      },
      "source": [
        "#Estimando o melhor lambda para o ElasticNet Model\n",
        "alphas = np.arange(0, 1.0, 0.01)\n",
        "pred_ElasticNet_aux = 1\n",
        "alpha_aux = 0\n",
        "for alpha in alphas : \n",
        "  ElasticNet_model = ElasticNet(alpha = alpha, normalize = True)\n",
        "  ElasticNet_model.fit(X_train, y_train)             \n",
        "  pred_ElasticNet = ElasticNet_model.predict(X_test) \n",
        "  rmse_ElasticNet = np.sqrt(metrics.mean_squared_error(y_test,pred_ElasticNet)) \n",
        "  if(pred_ElasticNet_aux >= rmse_ElasticNet):\n",
        "    alpha_aux = alpha\n",
        "    pred_ElasticNet_aux = rmse_ElasticNet\n",
        "\n",
        "print('RMSE: %.3f' % pred_ElasticNet_aux)\n",
        "print('Config: %s' % alpha_aux)"
      ],
      "execution_count": null,
      "outputs": [
        {
          "output_type": "stream",
          "name": "stderr",
          "text": [
            "/usr/local/lib/python3.7/dist-packages/ipykernel_launcher.py:7: UserWarning: With alpha=0, this algorithm does not converge well. You are advised to use the LinearRegression estimator\n",
            "  import sys\n",
            "/usr/local/lib/python3.7/dist-packages/sklearn/linear_model/_coordinate_descent.py:476: UserWarning: Coordinate descent with no regularization may lead to unexpected results and is discouraged.\n",
            "  positive)\n",
            "/usr/local/lib/python3.7/dist-packages/sklearn/linear_model/_coordinate_descent.py:476: ConvergenceWarning: Objective did not converge. You might want to increase the number of iterations. Duality gap: 4991.0234793407135, tolerance: 1.796406823859697\n",
            "  positive)\n"
          ]
        },
        {
          "output_type": "stream",
          "name": "stdout",
          "text": [
            "RMSE: 0.538\n",
            "Config: 0.0\n"
          ]
        }
      ]
    },
    {
      "cell_type": "code",
      "metadata": {
        "colab": {
          "base_uri": "https://localhost:8080/"
        },
        "id": "N9qaTkF4lOkR",
        "outputId": "5db784cd-d04b-4a25-a6ff-55162e3d510c"
      },
      "source": [
        "#ElasticNet Model\n",
        "# ANTIGO model_enet = ElasticNet(alpha = 0.01, normalize=False)\n",
        "model_enet = ElasticNet(alpha = 0, normalize=False)\n",
        "model_enet.fit(X_train, y_train) \n",
        "pred_test_enet= model_enet.predict(X_test)"
      ],
      "execution_count": null,
      "outputs": [
        {
          "output_type": "stream",
          "name": "stderr",
          "text": [
            "/usr/local/lib/python3.7/dist-packages/ipykernel_launcher.py:4: UserWarning: With alpha=0, this algorithm does not converge well. You are advised to use the LinearRegression estimator\n",
            "  after removing the cwd from sys.path.\n",
            "/usr/local/lib/python3.7/dist-packages/sklearn/linear_model/_coordinate_descent.py:476: UserWarning: Coordinate descent with no regularization may lead to unexpected results and is discouraged.\n",
            "  positive)\n",
            "/usr/local/lib/python3.7/dist-packages/sklearn/linear_model/_coordinate_descent.py:476: ConvergenceWarning: Objective did not converge. You might want to increase the number of iterations. Duality gap: 4991.02347934071, tolerance: 1.796406823859697\n",
            "  positive)\n"
          ]
        }
      ]
    },
    {
      "cell_type": "markdown",
      "metadata": {
        "id": "GFM6mHjcf00w"
      },
      "source": [
        "Linear regression without k-fold"
      ]
    },
    {
      "cell_type": "code",
      "metadata": {
        "colab": {
          "base_uri": "https://localhost:8080/"
        },
        "id": "JXWXLV3Cf0iI",
        "outputId": "9a48da09-bcd9-4264-d0ce-70ee5bd51ac0"
      },
      "source": [
        "Y_pred_regressao = reg.predict(X_test)\n",
        "print('------------- Linear Regression Simple -----------')\n",
        "\n",
        "print('MAE: %f'% mean_absolute_error(y_test, Y_pred_regressao))\n",
        "print('RMSE: %f'% np.sqrt(metrics.mean_squared_error(y_test,Y_pred_regressao)))   \n",
        "print('R2 %f' % r2_score(y_test, Y_pred_regressao))"
      ],
      "execution_count": null,
      "outputs": [
        {
          "output_type": "stream",
          "name": "stdout",
          "text": [
            "------------- Linear Regression Simple -----------\n",
            "MAE: 0.389978\n",
            "RMSE: 0.536052\n",
            "R2 0.501930\n"
          ]
        }
      ]
    },
    {
      "cell_type": "code",
      "metadata": {
        "colab": {
          "base_uri": "https://localhost:8080/"
        },
        "id": "dB8914jZnI-F",
        "outputId": "f02a3b2d-6750-42d9-f5b3-c893f3d711f4"
      },
      "source": [
        "print('------------- Linear Regression Fold = 5 -----------')\n",
        "\n",
        "print('MAE: %f'% mean_absolute_error(y_test, lr_pred))\n",
        "print('RMSE: %f'% np.sqrt(mean_squared_error(y_test, lr_pred)))   \n",
        "print('R2 %f' % r2_score(y_test, lr_pred))"
      ],
      "execution_count": null,
      "outputs": [
        {
          "output_type": "stream",
          "name": "stdout",
          "text": [
            "------------- Linear Regression Fold = 5 -----------\n",
            "MAE: 0.391340\n",
            "RMSE: 0.538368\n",
            "R2 0.497618\n"
          ]
        }
      ]
    },
    {
      "cell_type": "code",
      "metadata": {
        "colab": {
          "base_uri": "https://localhost:8080/"
        },
        "id": "kVr46G-DnQXL",
        "outputId": "b4f6392b-ee41-4388-c01e-e846bb8ea4d5"
      },
      "source": [
        "print('--------------- Ridge Fold = 5 ---------------------')\n",
        "\n",
        "print('MAE: %f'% mean_absolute_error(y_test, pred_ridge))\n",
        "print('RMSE: %f'% np.sqrt(mean_squared_error(y_test, pred_ridge)))   \n",
        "print('R2 %f' % r2_score(y_test, pred_ridge))"
      ],
      "execution_count": null,
      "outputs": [
        {
          "output_type": "stream",
          "name": "stdout",
          "text": [
            "--------------- Ridge Fold = 5 ---------------------\n",
            "MAE: 0.391340\n",
            "RMSE: 0.538368\n",
            "R2 0.497618\n"
          ]
        }
      ]
    },
    {
      "cell_type": "code",
      "metadata": {
        "colab": {
          "base_uri": "https://localhost:8080/"
        },
        "id": "smNlysB_nSRk",
        "outputId": "555e22c8-51ce-46dd-bf7f-0e2b329267d9"
      },
      "source": [
        "print('--------------- Lasso Fold = 5 ---------------------')\n",
        "\n",
        "print('MAE: %f' % mean_absolute_error(y_test, pred_Lasso))\n",
        "print('RMSE: %f' % np.sqrt(mean_squared_error(y_test, pred_Lasso)))\n",
        "print('R2 %f' % r2_score(y_test, pred_Lasso))"
      ],
      "execution_count": null,
      "outputs": [
        {
          "output_type": "stream",
          "name": "stdout",
          "text": [
            "--------------- Lasso Fold = 5 ---------------------\n",
            "MAE: 0.391340\n",
            "RMSE: 0.538368\n",
            "R2 0.497618\n"
          ]
        }
      ]
    },
    {
      "cell_type": "code",
      "metadata": {
        "colab": {
          "base_uri": "https://localhost:8080/"
        },
        "id": "NyOO6RT1b8Mj",
        "outputId": "2a17be24-7fc8-4a55-ded2-f9df5ea6f5c8"
      },
      "source": [
        "print('--------------- ElasticNet Fold = 5 -------------------')\n",
        "\n",
        "print('MAE: %f' % mean_absolute_error(y_test,pred_test_enet)) #RMSE\n",
        "print('RMSE: %f' % np.sqrt(mean_squared_error(y_test,pred_test_enet))) #RMSE\n",
        "print('R2 %f' % r2_score(y_test, pred_test_enet))"
      ],
      "execution_count": null,
      "outputs": [
        {
          "output_type": "stream",
          "name": "stdout",
          "text": [
            "--------------- ElasticNet Fold = 5 -------------------\n",
            "MAE: 0.391340\n",
            "RMSE: 0.538368\n",
            "R2 0.497618\n"
          ]
        }
      ]
    },
    {
      "cell_type": "markdown",
      "metadata": {
        "id": "0xtJ8gajne-c"
      },
      "source": [
        "# Gráfico dos Resultados"
      ]
    },
    {
      "cell_type": "code",
      "metadata": {
        "colab": {
          "base_uri": "https://localhost:8080/",
          "height": 676
        },
        "id": "llyB7hvHnePD",
        "outputId": "227ab160-eb3a-4cc8-a7de-e3cec991e102"
      },
      "source": [
        "fig, ((ax1, ax2, ax3, ax4)) = plt.subplots(1, 4, figsize=(20, 10))\n",
        "fig.suptitle('True Values vs Predictions')\n",
        "\n",
        "ax1.scatter(y_test, lr_pred)\n",
        "ax1.set_title('Linear Regression')\n",
        "\n",
        "ax2.scatter(y_test, pred_ridge)\n",
        "ax2.set_title('Ridge')\n",
        "\n",
        "ax3.scatter(y_test, pred_Lasso)\n",
        "ax3.set_title('Lasso')\n",
        "\n",
        "ax4.scatter(y_test, pred_test_enet)\n",
        "ax4.set_title('ElasticNet')\n",
        "\n",
        "for ax in fig.get_axes():\n",
        "    ax.set(xlabel='True Values', ylabel='Predictions')"
      ],
      "execution_count": null,
      "outputs": [
        {
          "output_type": "display_data",
          "data": {
            "image/png": "[encoded data removed]",
            "text/plain": [
              "<Figure size 1440x720 with 4 Axes>"
            ]
          },
          "metadata": {
            "needs_background": "light"
          }
        }
      ]
    },
    {
      "cell_type": "markdown",
      "metadata": {
        "id": "bsBF4yvfsbZO"
      },
      "source": [
        "# Comparação dos Resultados"
      ]
    },
    {
      "cell_type": "markdown",
      "metadata": {
        "id": "GJN4EH9ksiqR"
      },
      "source": [
        "------------- Linear Regression Simple -----------\n",
        "\n",
        "MAE: 0.398883\n",
        "\n",
        "RMSE: 0.547897\n",
        "\n",
        "R2 0.494697\n",
        "\n",
        "------------- Linear Regression Fold = 5 -----------\n",
        "\n",
        "MAE: 0.391340\n",
        "\n",
        "RMSE: 0.538368\n",
        "\n",
        "R2 0.497618\n",
        "\n",
        "------------- Linear Regression Fold = 10 -----------\n",
        "\n",
        "MAE: 0.399998\n",
        "\n",
        "RMSE: 0.550990\n",
        "\n",
        "R2 0.488976\n",
        "\n",
        "\n",
        "\n"
      ]
    },
    {
      "cell_type": "markdown",
      "metadata": {
        "id": "RvPjvCf4tBQs"
      },
      "source": [
        "#################################"
      ]
    },
    {
      "cell_type": "markdown",
      "metadata": {
        "id": "O1H9sRLYsxKM"
      },
      "source": [
        "--------------- Ridge Fold = 5 ---------------------\n",
        "\n",
        "MAE: 0.391743\n",
        "\n",
        "RMSE: 0.538921\n",
        "\n",
        "R2 0.496584\n",
        "\n",
        "--------------- Ridge Fold = 10 ---------------------\n",
        "\n",
        "MAE: 0.400650\n",
        "\n",
        "RMSE: 0.551755\n",
        "\n",
        "R2 0.487556"
      ]
    },
    {
      "cell_type": "markdown",
      "metadata": {
        "id": "pi3zP-WTtDXF"
      },
      "source": [
        "#################################"
      ]
    },
    {
      "cell_type": "markdown",
      "metadata": {
        "id": "MvCkn7yas6Vb"
      },
      "source": [
        "--------------- Lasso Fold = 5 ---------------------\n",
        "\n",
        "MAE: 0.390916\n",
        "\n",
        "RMSE: 0.538550\n",
        "\n",
        "R2 0.497277\n",
        "\n",
        "--------------- Lasso Fold = 10 ---------------------\n",
        "\n",
        "MAE: 0.400138\n",
        "\n",
        "RMSE: 0.551495\n",
        "\n",
        "R2 0.488039"
      ]
    },
    {
      "cell_type": "markdown",
      "metadata": {
        "id": "9y4qpocRdBWG"
      },
      "source": [
        ""
      ]
    },
    {
      "cell_type": "markdown",
      "metadata": {
        "id": "F-eYj6wldEJx"
      },
      "source": [
        "#1 \n",
        "Use the transformed predictors in the training set to learn an ordinary linear regression model and test the model using the test set (remember to apply the same\n",
        "pre-processing you used on the training set). Compare the model performance obtained on the test set with the estimates you would obtain using a resampling scheme\n",
        "as 5- or 10-fold cross validation: use both the RMSE and R2\n"
      ]
    },
    {
      "cell_type": "markdown",
      "metadata": {
        "id": "xzbPklqsdHwC"
      },
      "source": [
        "Resultados: \n",
        "\n",
        "------------- Linear Regression Simple -----------\n",
        "\n",
        "MAE: 0.389978\n",
        "\n",
        "RMSE: 0.536052\n",
        "\n",
        "R2 0.501930\n",
        "\n",
        "------------- Linear Regression Fold = 5 -----------\n",
        "\n",
        "MAE: 0.391340\n",
        "\n",
        "RMSE: 0.538368\n",
        "\n",
        "R2 0.497618\n"
      ]
    },
    {
      "cell_type": "code",
      "metadata": {
        "colab": {
          "base_uri": "https://localhost:8080/",
          "height": 676
        },
        "id": "anwKxFcsiHs_",
        "outputId": "b0a81113-59ac-406e-e91b-13204c3aa9f5"
      },
      "source": [
        "fig, ((ax1, ax2)) = plt.subplots(1, 2, figsize=(10, 10))\n",
        "fig.suptitle('True Values vs Predictions')\n",
        "\n",
        "ax1.scatter(y_test, lr_pred)\n",
        "ax1.set_title('Linear Regression k-fold')\n",
        "\n",
        "ax2.scatter(y_test, Y_pred_regressao)\n",
        "ax2.set_title('Simple Regression')\n",
        "\n",
        "\n",
        "for ax in fig.get_axes():\n",
        "    ax.set(xlabel='True Values', ylabel='Predictions')"
      ],
      "execution_count": null,
      "outputs": [
        {
          "output_type": "display_data",
          "data": {
            "image/png": "[encoded data removed]",
            "text/plain": [
              "<Figure size 720x720 with 2 Axes>"
            ]
          },
          "metadata": {
            "needs_background": "light"
          }
        }
      ]
    },
    {
      "cell_type": "markdown",
      "metadata": {
        "id": "FrNPffzfOgo_"
      },
      "source": [
        "#2 \n",
        "Use the transformed predictors in the training set to learn the penalised linear regression model that you believe being more adequate (justify/comment on your choice). Test the model using the test set (remember to apply the same pre-processing you used on the training set). Determine the optimal value of the penalising parameter \u0015 using a 5- or 10-fold cross-validation based on the RMSE (you can only use the training set in this phase, and your search space \u0015 should consist of at least 10 values). Report on process (show the cross-validation profile, both on terms of the RMSE and R2). Report the accuracy (RMSE and R2) obtained on the test set."
      ]
    },
    {
      "cell_type": "markdown",
      "metadata": {
        "id": "sFgj1z8FaIkM"
      },
      "source": [
        "Resultados: \n",
        "\n",
        "############################\n",
        "\n",
        "**5- fold**\n",
        "\n",
        "############################\n",
        "\n",
        "Ridge:\n",
        "\n",
        "MAE: 0.391743\n",
        "RMSE: 0.538921\n",
        "R2 0.496584\n",
        "\n",
        "Lasso:\n",
        "\n",
        "MAE: 0.390916\n",
        "RMSE: 0.538550\n",
        "R2 0.497277\n",
        "\n",
        "ElasticNet:\n",
        "\n",
        "MAE: 0.390361\n",
        "RMSE: 0.540712\n",
        "R2 0.493233\n",
        "\n",
        "############################\n"
      ]
    },
    {
      "cell_type": "markdown",
      "metadata": {
        "id": "IfyTBlV18mWi"
      },
      "source": [
        "#3\n",
        " Use the transformed predictors in the training set to learn either a PLS or a PCR regression model (justify/comment on your choice). Test the model using the test set (remember to apply the same pre-processing you used on the training set). Determine the optimal number of components using a 5- or 10-fold cross-validation based on the RMSE (you can only use the training set in this phase). Report on process (show the cross-validation profile, both in terms of the RMSE and R2). Report the accuracy (RMSE and R2) obtained on the test set."
      ]
    },
    {
      "cell_type": "code",
      "metadata": {
        "id": "GMudEMYWkvQo"
      },
      "source": [
        "from sklearn.cross_decomposition import PLSRegression\n",
        "from sklearn.metrics import mean_squared_error, r2_score\n",
        "from sklearn.model_selection import cross_val_predict"
      ],
      "execution_count": null,
      "outputs": []
    },
    {
      "cell_type": "code",
      "metadata": {
        "id": "KQ3ec9AekREs",
        "colab": {
          "base_uri": "https://localhost:8080/",
          "height": 167
        },
        "outputId": "4654c7bc-700f-42f0-8424-87abcf327c1b"
      },
      "source": [
        "X_train, X_test, y_train, y_test = train_test_split(df_x, df_y, test_size=0.3, random_state=42)"
      ],
      "execution_count": null,
      "outputs": [
        {
          "output_type": "error",
          "ename": "NameError",
          "evalue": "ignored",
          "traceback": [
            "\u001b[0;31m---------------------------------------------------------------------------\u001b[0m",
            "\u001b[0;31mNameError\u001b[0m                                 Traceback (most recent call last)",
            "\u001b[0;32m<ipython-input-2-04c17ab9d7e6>\u001b[0m in \u001b[0;36m<module>\u001b[0;34m()\u001b[0m\n\u001b[0;32m----> 1\u001b[0;31m \u001b[0mX_train\u001b[0m\u001b[0;34m,\u001b[0m \u001b[0mX_test\u001b[0m\u001b[0;34m,\u001b[0m \u001b[0my_train\u001b[0m\u001b[0;34m,\u001b[0m \u001b[0my_test\u001b[0m \u001b[0;34m=\u001b[0m \u001b[0mtrain_test_split\u001b[0m\u001b[0;34m(\u001b[0m\u001b[0mdf_x\u001b[0m\u001b[0;34m,\u001b[0m \u001b[0mdf_y\u001b[0m\u001b[0;34m,\u001b[0m \u001b[0mtest_size\u001b[0m\u001b[0;34m=\u001b[0m\u001b[0;36m0.3\u001b[0m\u001b[0;34m,\u001b[0m \u001b[0mrandom_state\u001b[0m\u001b[0;34m=\u001b[0m\u001b[0;36m42\u001b[0m\u001b[0;34m)\u001b[0m\u001b[0;34m\u001b[0m\u001b[0;34m\u001b[0m\u001b[0m\n\u001b[0m",
            "\u001b[0;31mNameError\u001b[0m: name 'train_test_split' is not defined"
          ]
        }
      ]
    },
    {
      "cell_type": "code",
      "metadata": {
        "id": "ij6cGnT-kRj1"
      },
      "source": [
        "### K-Fold Cross Validation ###\n",
        "\n",
        "kfold_cv=KFold(n_splits = 5)\n",
        "for train_index, test_index in kfold_cv.split(df_x,df_y):\n",
        "    X_train, X_test = df_x[train_index], df_x[test_index]\n",
        "    y_train, y_test = df_y[train_index], df_y[test_index]"
      ],
      "execution_count": null,
      "outputs": []
    },
    {
      "cell_type": "code",
      "metadata": {
        "id": "iCXNRVYckpsg"
      },
      "source": [
        "# Define PLS object\n",
        "pls = PLSRegression(n_components = 5)\n",
        " \n",
        "# Fit\n",
        "pls.fit(X_train, y_train)\n",
        " \n",
        "# Cross-validation\n",
        "y_cv = cross_val_predict(pls, X_test, y_test, cv=kfold_cv)\n",
        " \n",
        "# Calculate scores\n",
        "score = r2_score(y_test, y_cv)\n",
        "mse = mean_squared_error(y_test, y_cv)\n",
        "rmse = sqrt(mse)"
      ],
      "execution_count": null,
      "outputs": []
    },
    {
      "cell_type": "code",
      "metadata": {
        "id": "32MHlhmWagwu"
      },
      "source": [
        "print(f\"R2: {score}\")\n",
        "print(f\"MSE: {mse}\")\n",
        "print(f\"RMSE: {rmse}\")"
      ],
      "execution_count": null,
      "outputs": []
    },
    {
      "cell_type": "code",
      "metadata": {
        "id": "SW37QWn9arb6"
      },
      "source": [
        "def optimise_pls_cv(X, y, n_comp, plot_components=True):\n",
        " \n",
        "    '''Run PLS including a variable number of components, up to n_comp,\n",
        "       and calculate MSE '''\n",
        " \n",
        "    mse = []\n",
        "    component = np.arange(1, n_comp)\n",
        " \n",
        "    for i in component:\n",
        "        pls = PLSRegression(n_components=i)\n",
        " \n",
        "        # Cross-validation\n",
        "        y_cv = cross_val_predict(pls, X, y, cv=10)\n",
        " \n",
        "        mse.append(mean_squared_error(y, y_cv))\n",
        " \n",
        "        comp = 100*(i+1)/40\n",
        "        # Trick to update status on the same line\n",
        "        stdout.write(\"\\r%d%% completed\" % comp)\n",
        "        stdout.flush()\n",
        "    stdout.write(\"\\n\")\n",
        " \n",
        "    # Calculate and print the position of minimum in MSE\n",
        "    msemin = np.argmin(mse)\n",
        "    print(\"Suggested number of components: \", msemin+1)\n",
        "    stdout.write(\"\\n\")\n",
        " \n",
        "    if plot_components is True:\n",
        "        with plt.style.context(('ggplot')):\n",
        "            plt.plot(component, np.array(mse), '-v', color = 'blue', mfc='blue')\n",
        "            plt.plot(component[msemin], np.array(mse)[msemin], 'P', ms=10, mfc='red')\n",
        "            plt.xlabel('Number of PLS components')\n",
        "            plt.ylabel('MSE')\n",
        "            plt.title('PLS')\n",
        "            plt.xlim(left=-1)\n",
        " \n",
        "        plt.show()\n",
        " \n",
        "    # Define PLS object with optimal number of components\n",
        "    pls_opt = PLSRegression(n_components=msemin+1)\n",
        " \n",
        "    # Fir to the entire dataset\n",
        "    pls_opt.fit(X_train, y_train)\n",
        "    y_c = pls_opt.predict(X_test)\n",
        " \n",
        "    # Cross-validation\n",
        "    y_cv = cross_val_predict(pls_opt, X_test, y_test, cv= kfold_cv)\n",
        " \n",
        "    # Calculate scores for calibration and cross-validation\n",
        "    score_c = r2_score(y_test, y_c)\n",
        "    score_cv = r2_score(y_test, y_cv)\n",
        " \n",
        "    # Calculate mean squared error for calibration and cross validation\n",
        "    mse_c = mean_squared_error(y_test, y_c)\n",
        "    mse_cv = mean_squared_error(y_test, y_cv)\n",
        " \n",
        "    print('R2 calib: %5.3f'  % score_c)\n",
        "    print('R2 CV: %5.3f'  % score_cv)\n",
        "    print('MSE calib: %5.3f' % mse_c)\n",
        "    print('MSE CV: %5.3f' % mse_cv)\n",
        " \n",
        "    # Plot regression and figures of merit\n",
        "    rangey = max(y_test) - min(y_test)\n",
        "    rangex = max(y_c) - min(y_c)\n",
        " \n",
        "    # Fit a line to the CV vs response\n",
        "    z = np.polyfit(y_test, y_c, 1)\n",
        "    with plt.style.context(('ggplot')):\n",
        "        fig, ax = plt.subplots(figsize=(9, 5))\n",
        "        ax.scatter(y_c, y_test, c='red', edgecolors='k')\n",
        "        #Plot the best fit line\n",
        "        ax.plot(np.polyval(z,y), y_test, c='blue', linewidth=1)\n",
        "        #Plot the ideal 1:1 line\n",
        "        ax.plot(y, y_test, color='green', linewidth=1)\n",
        "        plt.title('$R^{2}$ (CV): '+str(score_cv))\n",
        "        plt.xlabel('Predicted $^{\\circ}$Brix')\n",
        "        plt.ylabel('Measured $^{\\circ}$Brix')\n",
        " \n",
        "        plt.show()\n",
        " \n",
        "    return"
      ],
      "execution_count": null,
      "outputs": []
    },
    {
      "cell_type": "code",
      "metadata": {
        "id": "p8GNXhnjbR1j"
      },
      "source": [
        "optimise_pls_cv(X2,y, 40, plot_components=True)"
      ],
      "execution_count": null,
      "outputs": []
    }
  ]
}