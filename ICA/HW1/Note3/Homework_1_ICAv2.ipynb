{
  "nbformat": 4,
  "nbformat_minor": 0,
  "metadata": {
    "colab": {
      "name": "Homework 1 - ICA.ipynb",
      "provenance": [],
      "collapsed_sections": [
        "62ObAqSYlugi",
        "l5FiJIWuPxgg",
        "o79lJExoSRfv"
      ]
    },
    "kernelspec": {
      "name": "python3",
      "display_name": "Python 3"
    },
    "language_info": {
      "name": "python"
    }
  },
  "cells": [
    {
      "cell_type": "markdown",
      "metadata": {
        "id": "h0l85SKGTxdi"
      },
      "source": [
        "# **Checklist**\n",
        "\n",
        "o que falta fazer: \n",
        "\n",
        "- construir gráficos para a análise desses dados\n",
        "- ver se precisa tirar algum outlier (dados discrepantes ou inconsistentes) -> *acho que não precisa pq o outlier que tem é justamente no preço e nós não vamos usar essa coluna*\n",
        "- transformação dos dados usando algum encoder (transformar categóricos em numéricos)\n",
        "- dividir em treino e teste (em porcentagem, ex: 20 pra teste e 80 pra treino)\n",
        "- previsão do preço\n",
        "- regressão linear\n",
        "- gráficos sobre os ultimos 2\n",
        "- finalizar com comentários"
      ]
    },
    {
      "cell_type": "code",
      "metadata": {
        "id": "9tMR3hy1TA6d"
      },
      "source": [
        "import matplotlib.pyplot as plt\n",
        "import numpy as np\n",
        "import seaborn as sns\n",
        "import pandas as pd\n",
        "import csv\n",
        "import plotly.express as px"
      ],
      "execution_count": null,
      "outputs": []
    },
    {
      "cell_type": "code",
      "metadata": {
        "id": "5StzzFMxTLDJ",
        "colab": {
          "base_uri": "https://localhost:8080/",
          "height": 405
        },
        "outputId": "298fda85-e754-4b2e-da07-f06ec30024b4"
      },
      "source": [
        "df = pd.read_csv(\"/content/AB_NYC_2019.csv\")\n",
        "df"
      ],
      "execution_count": null,
      "outputs": [
        {
          "output_type": "error",
          "ename": "FileNotFoundError",
          "evalue": "ignored",
          "traceback": [
            "\u001b[0;31m---------------------------------------------------------------------------\u001b[0m",
            "\u001b[0;31mFileNotFoundError\u001b[0m                         Traceback (most recent call last)",
            "\u001b[0;32m<ipython-input-2-5e9c95bbf320>\u001b[0m in \u001b[0;36m<module>\u001b[0;34m()\u001b[0m\n\u001b[0;32m----> 1\u001b[0;31m \u001b[0mdf\u001b[0m \u001b[0;34m=\u001b[0m \u001b[0mpd\u001b[0m\u001b[0;34m.\u001b[0m\u001b[0mread_csv\u001b[0m\u001b[0;34m(\u001b[0m\u001b[0;34m\"/content/AB_NYC_2019.csv\"\u001b[0m\u001b[0;34m)\u001b[0m\u001b[0;34m\u001b[0m\u001b[0;34m\u001b[0m\u001b[0m\n\u001b[0m\u001b[1;32m      2\u001b[0m \u001b[0mdf\u001b[0m\u001b[0;34m\u001b[0m\u001b[0;34m\u001b[0m\u001b[0m\n",
            "\u001b[0;32m/usr/local/lib/python3.7/dist-packages/pandas/io/parsers.py\u001b[0m in \u001b[0;36mread_csv\u001b[0;34m(filepath_or_buffer, sep, delimiter, header, names, index_col, usecols, squeeze, prefix, mangle_dupe_cols, dtype, engine, converters, true_values, false_values, skipinitialspace, skiprows, skipfooter, nrows, na_values, keep_default_na, na_filter, verbose, skip_blank_lines, parse_dates, infer_datetime_format, keep_date_col, date_parser, dayfirst, cache_dates, iterator, chunksize, compression, thousands, decimal, lineterminator, quotechar, quoting, doublequote, escapechar, comment, encoding, dialect, error_bad_lines, warn_bad_lines, delim_whitespace, low_memory, memory_map, float_precision)\u001b[0m\n\u001b[1;32m    686\u001b[0m     )\n\u001b[1;32m    687\u001b[0m \u001b[0;34m\u001b[0m\u001b[0m\n\u001b[0;32m--> 688\u001b[0;31m     \u001b[0;32mreturn\u001b[0m \u001b[0m_read\u001b[0m\u001b[0;34m(\u001b[0m\u001b[0mfilepath_or_buffer\u001b[0m\u001b[0;34m,\u001b[0m \u001b[0mkwds\u001b[0m\u001b[0;34m)\u001b[0m\u001b[0;34m\u001b[0m\u001b[0;34m\u001b[0m\u001b[0m\n\u001b[0m\u001b[1;32m    689\u001b[0m \u001b[0;34m\u001b[0m\u001b[0m\n\u001b[1;32m    690\u001b[0m \u001b[0;34m\u001b[0m\u001b[0m\n",
            "\u001b[0;32m/usr/local/lib/python3.7/dist-packages/pandas/io/parsers.py\u001b[0m in \u001b[0;36m_read\u001b[0;34m(filepath_or_buffer, kwds)\u001b[0m\n\u001b[1;32m    452\u001b[0m \u001b[0;34m\u001b[0m\u001b[0m\n\u001b[1;32m    453\u001b[0m     \u001b[0;31m# Create the parser.\u001b[0m\u001b[0;34m\u001b[0m\u001b[0;34m\u001b[0m\u001b[0;34m\u001b[0m\u001b[0m\n\u001b[0;32m--> 454\u001b[0;31m     \u001b[0mparser\u001b[0m \u001b[0;34m=\u001b[0m \u001b[0mTextFileReader\u001b[0m\u001b[0;34m(\u001b[0m\u001b[0mfp_or_buf\u001b[0m\u001b[0;34m,\u001b[0m \u001b[0;34m**\u001b[0m\u001b[0mkwds\u001b[0m\u001b[0;34m)\u001b[0m\u001b[0;34m\u001b[0m\u001b[0;34m\u001b[0m\u001b[0m\n\u001b[0m\u001b[1;32m    455\u001b[0m \u001b[0;34m\u001b[0m\u001b[0m\n\u001b[1;32m    456\u001b[0m     \u001b[0;32mif\u001b[0m \u001b[0mchunksize\u001b[0m \u001b[0;32mor\u001b[0m \u001b[0miterator\u001b[0m\u001b[0;34m:\u001b[0m\u001b[0;34m\u001b[0m\u001b[0;34m\u001b[0m\u001b[0m\n",
            "\u001b[0;32m/usr/local/lib/python3.7/dist-packages/pandas/io/parsers.py\u001b[0m in \u001b[0;36m__init__\u001b[0;34m(self, f, engine, **kwds)\u001b[0m\n\u001b[1;32m    946\u001b[0m             \u001b[0mself\u001b[0m\u001b[0;34m.\u001b[0m\u001b[0moptions\u001b[0m\u001b[0;34m[\u001b[0m\u001b[0;34m\"has_index_names\"\u001b[0m\u001b[0;34m]\u001b[0m \u001b[0;34m=\u001b[0m \u001b[0mkwds\u001b[0m\u001b[0;34m[\u001b[0m\u001b[0;34m\"has_index_names\"\u001b[0m\u001b[0;34m]\u001b[0m\u001b[0;34m\u001b[0m\u001b[0;34m\u001b[0m\u001b[0m\n\u001b[1;32m    947\u001b[0m \u001b[0;34m\u001b[0m\u001b[0m\n\u001b[0;32m--> 948\u001b[0;31m         \u001b[0mself\u001b[0m\u001b[0;34m.\u001b[0m\u001b[0m_make_engine\u001b[0m\u001b[0;34m(\u001b[0m\u001b[0mself\u001b[0m\u001b[0;34m.\u001b[0m\u001b[0mengine\u001b[0m\u001b[0;34m)\u001b[0m\u001b[0;34m\u001b[0m\u001b[0;34m\u001b[0m\u001b[0m\n\u001b[0m\u001b[1;32m    949\u001b[0m \u001b[0;34m\u001b[0m\u001b[0m\n\u001b[1;32m    950\u001b[0m     \u001b[0;32mdef\u001b[0m \u001b[0mclose\u001b[0m\u001b[0;34m(\u001b[0m\u001b[0mself\u001b[0m\u001b[0;34m)\u001b[0m\u001b[0;34m:\u001b[0m\u001b[0;34m\u001b[0m\u001b[0;34m\u001b[0m\u001b[0m\n",
            "\u001b[0;32m/usr/local/lib/python3.7/dist-packages/pandas/io/parsers.py\u001b[0m in \u001b[0;36m_make_engine\u001b[0;34m(self, engine)\u001b[0m\n\u001b[1;32m   1178\u001b[0m     \u001b[0;32mdef\u001b[0m \u001b[0m_make_engine\u001b[0m\u001b[0;34m(\u001b[0m\u001b[0mself\u001b[0m\u001b[0;34m,\u001b[0m \u001b[0mengine\u001b[0m\u001b[0;34m=\u001b[0m\u001b[0;34m\"c\"\u001b[0m\u001b[0;34m)\u001b[0m\u001b[0;34m:\u001b[0m\u001b[0;34m\u001b[0m\u001b[0;34m\u001b[0m\u001b[0m\n\u001b[1;32m   1179\u001b[0m         \u001b[0;32mif\u001b[0m \u001b[0mengine\u001b[0m \u001b[0;34m==\u001b[0m \u001b[0;34m\"c\"\u001b[0m\u001b[0;34m:\u001b[0m\u001b[0;34m\u001b[0m\u001b[0;34m\u001b[0m\u001b[0m\n\u001b[0;32m-> 1180\u001b[0;31m             \u001b[0mself\u001b[0m\u001b[0;34m.\u001b[0m\u001b[0m_engine\u001b[0m \u001b[0;34m=\u001b[0m \u001b[0mCParserWrapper\u001b[0m\u001b[0;34m(\u001b[0m\u001b[0mself\u001b[0m\u001b[0;34m.\u001b[0m\u001b[0mf\u001b[0m\u001b[0;34m,\u001b[0m \u001b[0;34m**\u001b[0m\u001b[0mself\u001b[0m\u001b[0;34m.\u001b[0m\u001b[0moptions\u001b[0m\u001b[0;34m)\u001b[0m\u001b[0;34m\u001b[0m\u001b[0;34m\u001b[0m\u001b[0m\n\u001b[0m\u001b[1;32m   1181\u001b[0m         \u001b[0;32melse\u001b[0m\u001b[0;34m:\u001b[0m\u001b[0;34m\u001b[0m\u001b[0;34m\u001b[0m\u001b[0m\n\u001b[1;32m   1182\u001b[0m             \u001b[0;32mif\u001b[0m \u001b[0mengine\u001b[0m \u001b[0;34m==\u001b[0m \u001b[0;34m\"python\"\u001b[0m\u001b[0;34m:\u001b[0m\u001b[0;34m\u001b[0m\u001b[0;34m\u001b[0m\u001b[0m\n",
            "\u001b[0;32m/usr/local/lib/python3.7/dist-packages/pandas/io/parsers.py\u001b[0m in \u001b[0;36m__init__\u001b[0;34m(self, src, **kwds)\u001b[0m\n\u001b[1;32m   2008\u001b[0m         \u001b[0mkwds\u001b[0m\u001b[0;34m[\u001b[0m\u001b[0;34m\"usecols\"\u001b[0m\u001b[0;34m]\u001b[0m \u001b[0;34m=\u001b[0m \u001b[0mself\u001b[0m\u001b[0;34m.\u001b[0m\u001b[0musecols\u001b[0m\u001b[0;34m\u001b[0m\u001b[0;34m\u001b[0m\u001b[0m\n\u001b[1;32m   2009\u001b[0m \u001b[0;34m\u001b[0m\u001b[0m\n\u001b[0;32m-> 2010\u001b[0;31m         \u001b[0mself\u001b[0m\u001b[0;34m.\u001b[0m\u001b[0m_reader\u001b[0m \u001b[0;34m=\u001b[0m \u001b[0mparsers\u001b[0m\u001b[0;34m.\u001b[0m\u001b[0mTextReader\u001b[0m\u001b[0;34m(\u001b[0m\u001b[0msrc\u001b[0m\u001b[0;34m,\u001b[0m \u001b[0;34m**\u001b[0m\u001b[0mkwds\u001b[0m\u001b[0;34m)\u001b[0m\u001b[0;34m\u001b[0m\u001b[0;34m\u001b[0m\u001b[0m\n\u001b[0m\u001b[1;32m   2011\u001b[0m         \u001b[0mself\u001b[0m\u001b[0;34m.\u001b[0m\u001b[0munnamed_cols\u001b[0m \u001b[0;34m=\u001b[0m \u001b[0mself\u001b[0m\u001b[0;34m.\u001b[0m\u001b[0m_reader\u001b[0m\u001b[0;34m.\u001b[0m\u001b[0munnamed_cols\u001b[0m\u001b[0;34m\u001b[0m\u001b[0;34m\u001b[0m\u001b[0m\n\u001b[1;32m   2012\u001b[0m \u001b[0;34m\u001b[0m\u001b[0m\n",
            "\u001b[0;32mpandas/_libs/parsers.pyx\u001b[0m in \u001b[0;36mpandas._libs.parsers.TextReader.__cinit__\u001b[0;34m()\u001b[0m\n",
            "\u001b[0;32mpandas/_libs/parsers.pyx\u001b[0m in \u001b[0;36mpandas._libs.parsers.TextReader._setup_parser_source\u001b[0;34m()\u001b[0m\n",
            "\u001b[0;31mFileNotFoundError\u001b[0m: [Errno 2] No such file or directory: '/content/AB_NYC_2019.csv'"
          ]
        }
      ]
    },
    {
      "cell_type": "code",
      "metadata": {
        "id": "_ZQAjKbWTSMo"
      },
      "source": [
        "df.sample(2)"
      ],
      "execution_count": null,
      "outputs": []
    },
    {
      "cell_type": "code",
      "metadata": {
        "id": "e6giAHfYP8fK"
      },
      "source": [
        "df.dtypes"
      ],
      "execution_count": null,
      "outputs": []
    },
    {
      "cell_type": "code",
      "metadata": {
        "id": "1ZP0rOojTTnI"
      },
      "source": [
        "df.describe()"
      ],
      "execution_count": null,
      "outputs": []
    },
    {
      "cell_type": "code",
      "metadata": {
        "id": "-6ehliWdG-eg"
      },
      "source": [
        "df.info()"
      ],
      "execution_count": null,
      "outputs": []
    },
    {
      "cell_type": "markdown",
      "metadata": {
        "id": "ki3nBcsTgaJO"
      },
      "source": [
        "# Parte 1"
      ]
    },
    {
      "cell_type": "markdown",
      "metadata": {
        "id": "UEJJewh4XPFj"
      },
      "source": [
        "**iremos fazer a previsão do preço a partir dos restantes dos dados**\n",
        "\n",
        "previsão: price\n",
        "\n",
        "colunas de base: \n",
        "  - neighbourhood_group, room_type *(categoricos)*\n",
        "  - minimum_nights, number_of_reviews, reviews_per_month, availability_365 *(numéricos)*\n",
        "\n",
        "\n",
        "  os dados categóricos teremos que transformar para numéricos\n",
        "  não sei se todas essas colunas vão ser relevantes..falta analisar isso"
      ]
    },
    {
      "cell_type": "markdown",
      "metadata": {
        "id": "O2uhE9Pp1e2B"
      },
      "source": [
        "# --- Preparação do Dataset ---"
      ]
    },
    {
      "cell_type": "markdown",
      "metadata": {
        "id": "V1__R1WL1jZo"
      },
      "source": [
        "Vamos fazer uma limitação do dataset por conta de problemas encontrados enquanto fazíamos o homework, dessa forma, vamos limitar os dados por meio da data"
      ]
    },
    {
      "cell_type": "code",
      "metadata": {
        "id": "flIAH-wC11he"
      },
      "source": [
        "filtro = (df['last_review'] >= '2019-01-01') & (df['last_review'] <= '2019-06-01')\n",
        "df_filtro_2019 = df[filtro]\n",
        "\n",
        "df_filtro_2019"
      ],
      "execution_count": null,
      "outputs": []
    },
    {
      "cell_type": "markdown",
      "metadata": {
        "id": "hHxIqDP-6jwp"
      },
      "source": [
        "Separando as colunas que iremos usar"
      ]
    },
    {
      "cell_type": "code",
      "metadata": {
        "id": "Sez10ACw6i0v"
      },
      "source": [
        "df = df_filtro_2019[['neighbourhood_group', 'room_type', 'minimum_nights', 'number_of_reviews', 'reviews_per_month','availability_365', 'price']]\n",
        "df"
      ],
      "execution_count": null,
      "outputs": []
    },
    {
      "cell_type": "markdown",
      "metadata": {
        "id": "HGga89hM69bJ"
      },
      "source": [
        "# --- Transformação dos Dados (novo) ---"
      ]
    },
    {
      "cell_type": "code",
      "metadata": {
        "id": "Ha3WzjIj7CSZ"
      },
      "source": [
        "X_df = df.iloc[:, 0:6].values\n",
        "X_df"
      ],
      "execution_count": null,
      "outputs": []
    },
    {
      "cell_type": "code",
      "metadata": {
        "id": "SqKRlryW7Fbv"
      },
      "source": [
        "y_df = df.iloc[:, 6].values\n",
        "y_df"
      ],
      "execution_count": null,
      "outputs": []
    },
    {
      "cell_type": "code",
      "metadata": {
        "id": "fRSO_A2V7OLX"
      },
      "source": [
        "from sklearn.preprocessing import LabelEncoder\n",
        "X_neighbourhood_group = LabelEncoder()\n",
        "X_room_type = LabelEncoder()"
      ],
      "execution_count": null,
      "outputs": []
    },
    {
      "cell_type": "code",
      "metadata": {
        "id": "lM0ikkcI7TYI"
      },
      "source": [
        "X_df[:, 0] = X_neighbourhood_group.fit_transform(X_df[:, 0])\n",
        "X_df[:, 1] = X_room_type.fit_transform(X_df[:, 1])"
      ],
      "execution_count": null,
      "outputs": []
    },
    {
      "cell_type": "code",
      "metadata": {
        "id": "G59LCDco7X8f"
      },
      "source": [
        "column_names = ['neighbourhood_group', 'room_type', 'minimum_nights', 'number_of_reviews', 'reviews_per_month','availability_365']\n",
        "df_airbnb = pd.DataFrame(X_df, columns = column_names)"
      ],
      "execution_count": null,
      "outputs": []
    },
    {
      "cell_type": "code",
      "metadata": {
        "id": "9fqpgfWi7eGv"
      },
      "source": [
        "df_airbnb"
      ],
      "execution_count": null,
      "outputs": []
    },
    {
      "cell_type": "markdown",
      "metadata": {
        "id": "MDXcWN_Z7krt"
      },
      "source": [
        "Dúvida: precisa padronizar isso aqui?"
      ]
    },
    {
      "cell_type": "markdown",
      "metadata": {
        "id": "Oc0UGpQ0RKfb"
      },
      "source": [
        "# --- Transformação dos Dados (antigo) ---"
      ]
    },
    {
      "cell_type": "markdown",
      "metadata": {
        "id": "TL25bCHw6w0T"
      },
      "source": [
        "Transformar os dados categóricos em numéricos"
      ]
    },
    {
      "cell_type": "code",
      "metadata": {
        "id": "ZUOqd5lsIDYp"
      },
      "source": [
        "df.count()"
      ],
      "execution_count": null,
      "outputs": []
    },
    {
      "cell_type": "markdown",
      "metadata": {
        "id": "uCfevo0ziCVA"
      },
      "source": [
        "Tirando os dados NaN do last_review para diminuir a quantidade de bairros (tentativa)"
      ]
    },
    {
      "cell_type": "code",
      "metadata": {
        "id": "YYw76P1ziHwZ"
      },
      "source": [
        "df.dropna(subset = ['last_review'], inplace = True)"
      ],
      "execution_count": null,
      "outputs": []
    },
    {
      "cell_type": "code",
      "metadata": {
        "id": "O4IW2XyiiPSQ"
      },
      "source": [
        "df.count()"
      ],
      "execution_count": null,
      "outputs": []
    },
    {
      "cell_type": "code",
      "metadata": {
        "id": "dc3o30KdiXuu"
      },
      "source": [
        "df.dropna(subset = ['host_name'], inplace = True)"
      ],
      "execution_count": null,
      "outputs": []
    },
    {
      "cell_type": "code",
      "metadata": {
        "id": "gtMt6FDsia7X"
      },
      "source": [
        "df.count()"
      ],
      "execution_count": null,
      "outputs": []
    },
    {
      "cell_type": "code",
      "metadata": {
        "id": "C8QBXl1sicz0"
      },
      "source": [
        "df.dropna(subset = ['name'], inplace = True)"
      ],
      "execution_count": null,
      "outputs": []
    },
    {
      "cell_type": "code",
      "metadata": {
        "id": "8RDkSmUDifgO"
      },
      "source": [
        "df.count()"
      ],
      "execution_count": null,
      "outputs": []
    },
    {
      "cell_type": "code",
      "metadata": {
        "id": "F6yxJR-Zik8t"
      },
      "source": [
        "df['neighbourhood_group'].nunique()"
      ],
      "execution_count": null,
      "outputs": []
    },
    {
      "cell_type": "code",
      "metadata": {
        "id": "__gon66UioPm"
      },
      "source": [
        "len(np.unique(df['neighbourhood_group']))"
      ],
      "execution_count": null,
      "outputs": []
    },
    {
      "cell_type": "code",
      "metadata": {
        "id": "QqAw5n2_lssX"
      },
      "source": [
        "df['room_type'].nunique()"
      ],
      "execution_count": null,
      "outputs": []
    },
    {
      "cell_type": "markdown",
      "metadata": {
        "id": "qimVZghr5oC4"
      },
      "source": [
        "Restrigindo o data set para 01/01/2015 - 30/12/2019 "
      ]
    },
    {
      "cell_type": "code",
      "metadata": {
        "id": "rGvkuwel5t-A"
      },
      "source": [
        "filtro = (df['last_review'] >= '2019-01-01') & (df['last_review'] <= '2019-12-30')\n",
        "\n",
        "df_filtro_2019 = df[filtro]\n",
        "df_filtro_2019"
      ],
      "execution_count": null,
      "outputs": []
    },
    {
      "cell_type": "markdown",
      "metadata": {
        "id": "Sxl1uInTmL8l"
      },
      "source": [
        "--- OneHotEncoder ---"
      ]
    },
    {
      "cell_type": "code",
      "metadata": {
        "id": "EnGpVcPPK8By"
      },
      "source": [
        "df_filtro = df_filtro_2019[['neighbourhood_group', 'room_type', 'minimum_nights', 'number_of_reviews', 'reviews_per_month','availability_365', 'price']]\n",
        "df_filtro\n"
      ],
      "execution_count": null,
      "outputs": []
    },
    {
      "cell_type": "code",
      "metadata": {
        "id": "VZnsug25mO0_"
      },
      "source": [
        "from sklearn.preprocessing import OneHotEncoder\n",
        "from sklearn.compose import ColumnTransformer"
      ],
      "execution_count": null,
      "outputs": []
    },
    {
      "cell_type": "code",
      "metadata": {
        "id": "-jR9nue9mZ7K"
      },
      "source": [
        "ohe = (ColumnTransformer(\n",
        "    transformers = [('OneHot', OneHotEncoder(), [0, 1])], # neighbourhood_group e room_type = dados categoricos\n",
        "    remainder = 'passthrough'\n",
        "))"
      ],
      "execution_count": null,
      "outputs": []
    },
    {
      "cell_type": "code",
      "metadata": {
        "id": "hKiO-WfloGH4"
      },
      "source": [
        "# usando o onehotencoder\n",
        "\n",
        "#X_df = ohe.fit_transform(X_df).toarray()"
      ],
      "execution_count": null,
      "outputs": []
    },
    {
      "cell_type": "markdown",
      "metadata": {
        "id": "vRIvM-JJhh8C"
      },
      "source": [
        "--- Label Encoder --- "
      ]
    },
    {
      "cell_type": "code",
      "metadata": {
        "id": "05L97NjVYzaV"
      },
      "source": [
        "X_df = df_filtro.iloc[:, 0:6].values\n",
        "X_df"
      ],
      "execution_count": null,
      "outputs": []
    },
    {
      "cell_type": "code",
      "metadata": {
        "id": "YSktpNbMqpv6"
      },
      "source": [
        "X_df[0]"
      ],
      "execution_count": null,
      "outputs": []
    },
    {
      "cell_type": "code",
      "metadata": {
        "id": "YRBe9YPQZ-jb"
      },
      "source": [
        "y_df = df_filtro.iloc[:, 6].values\n",
        "y_df"
      ],
      "execution_count": null,
      "outputs": []
    },
    {
      "cell_type": "code",
      "metadata": {
        "id": "vueBLLZLqryx"
      },
      "source": [
        "y_df[0]"
      ],
      "execution_count": null,
      "outputs": []
    },
    {
      "cell_type": "code",
      "metadata": {
        "id": "6OwEIgQxX3gm"
      },
      "source": [
        "from sklearn.preprocessing import LabelEncoder\n",
        "X_neighbourhood_group = LabelEncoder()\n",
        "X_room_type = LabelEncoder()"
      ],
      "execution_count": null,
      "outputs": []
    },
    {
      "cell_type": "code",
      "metadata": {
        "id": "8I4WJWN8YAgg"
      },
      "source": [
        "X_df[:, 0] = X_neighbourhood_group.fit_transform(X_df[:, 0])\n",
        "X_df[:, 1] = X_room_type.fit_transform(X_df[:, 1])\n",
        "\n",
        "X_df"
      ],
      "execution_count": null,
      "outputs": []
    },
    {
      "cell_type": "code",
      "metadata": {
        "id": "6ccPzwYlqzfE"
      },
      "source": [
        "X_df[0]"
      ],
      "execution_count": null,
      "outputs": []
    },
    {
      "cell_type": "markdown",
      "metadata": {
        "id": "H6qErylYu52N"
      },
      "source": [
        "**PERGUNTAR PRA PROFESSORA SE PRECISA PADRONIZAR OS DADOS DEPOIS DA TRANSFORMAÇÃO DO DATAFRAME PADRÃO PARA O DATAFRAME AIRBNB**"
      ]
    },
    {
      "cell_type": "code",
      "metadata": {
        "id": "MTQ3nL9eucND"
      },
      "source": [
        "column_names = ['neighbourhood_group', 'room_type', 'minimum_nights', 'number_of_reviews', 'reviews_per_month','availability_365']\n",
        "airbnb = pd.DataFrame(X_df, columns = column_names)"
      ],
      "execution_count": null,
      "outputs": []
    },
    {
      "cell_type": "code",
      "metadata": {
        "id": "wZrM_vCeuf5L"
      },
      "source": [
        "airbnb"
      ],
      "execution_count": null,
      "outputs": []
    },
    {
      "cell_type": "code",
      "metadata": {
        "id": "HkoakUt4un-g"
      },
      "source": [
        "airbnb.info()"
      ],
      "execution_count": null,
      "outputs": []
    },
    {
      "cell_type": "markdown",
      "metadata": {
        "id": "vdYGQX_6o4IF"
      },
      "source": [
        "--- OneHotEncoder ---"
      ]
    },
    {
      "cell_type": "code",
      "metadata": {
        "id": "nFuT-2RSo6Dt"
      },
      "source": [
        "#from sklearn.preprocessing import OneHotEncoder\n",
        "#from sklearn.compose import ColumnTransformer"
      ],
      "execution_count": null,
      "outputs": []
    },
    {
      "cell_type": "code",
      "metadata": {
        "id": "_gdo-3mCo9-i"
      },
      "source": [
        "#ohe = (ColumnTransformer(\n",
        "    #transformers = [('OneHot', OneHotEncoder(), [0, 1])], # neighbourhood_group e room_type\n",
        "    #remainder = 'passthrough'\n",
        "#))"
      ],
      "execution_count": null,
      "outputs": []
    },
    {
      "cell_type": "code",
      "metadata": {
        "id": "pR1DY8bvo82R"
      },
      "source": [
        "# usando o onehotencoder\n",
        "\n",
        "#X_df = ohe.fit_transform(X_df).toarray()"
      ],
      "execution_count": null,
      "outputs": []
    },
    {
      "cell_type": "markdown",
      "metadata": {
        "id": "VsmHfoIzpDEH"
      },
      "source": [
        "Treino e Teste"
      ]
    },
    {
      "cell_type": "code",
      "metadata": {
        "id": "hxznfnYpRJZv"
      },
      "source": [
        "# train e test\n",
        "#from sklearn.model_selection import train_test_split\n",
        "\n",
        "#X_train, X_test, Y_train, Y_test = train_test_split(X_df, y_df, test_size=0.20, random_state=1)"
      ],
      "execution_count": null,
      "outputs": []
    },
    {
      "cell_type": "code",
      "metadata": {
        "id": "CaJjcqeQNLHX"
      },
      "source": [
        "# padronizar os dados\n",
        "\n",
        "#from sklearn.preprocessing import StandardScaler\n",
        "#df_scaler = StandardScaler()\n",
        "#X_train = df_scaler.fit_transform(X_train)\n",
        "#X_test = df_scaler.transform(X_test)"
      ],
      "execution_count": null,
      "outputs": []
    },
    {
      "cell_type": "code",
      "metadata": {
        "id": "Q-cHIQABSfWI"
      },
      "source": [
        "#X_train"
      ],
      "execution_count": null,
      "outputs": []
    },
    {
      "cell_type": "code",
      "metadata": {
        "id": "MIUEidsaMd0_"
      },
      "source": [
        "# salvar esse Encoder pra não ter que fazer isso sempre:\n",
        "\n",
        "#import pickle\n",
        "#with open('price_prediction.pkl', 'wb') as f:\n",
        "  #pickle.dump([X_train, X_test, Y_train, Y_test], f)"
      ],
      "execution_count": null,
      "outputs": []
    },
    {
      "cell_type": "markdown",
      "metadata": {
        "id": "qggj_J6qm1q0"
      },
      "source": [
        "**4**\n",
        "\n",
        "Perform a multi-variate analysis of the predictors. Specifically, you must perform a\n",
        "principal components analysis of the predictors, retain only the first two principal\n",
        "components (those associated with the two largest eigenvalues) and plot the scatter\n",
        "plot of the projected observations."
      ]
    },
    {
      "cell_type": "markdown",
      "metadata": {
        "id": "0yDk68sNTc3B"
      },
      "source": [
        "Site de inspiração: https://towardsdatascience.com/pca-using-python-scikit-learn-e653f8989e60\n",
        "\n",
        "https://leandrocruvinel.medium.com/pca-na-mão-e-no-python-d559e9c8f053\n"
      ]
    },
    {
      "cell_type": "markdown",
      "metadata": {
        "id": "fdYpZlf4UuRZ"
      },
      "source": [
        "Primeiro é necessário subtrair a média pois a pca é bastante sensível a escala\n"
      ]
    },
    {
      "cell_type": "code",
      "metadata": {
        "id": "EdP4U6P-VZWp"
      },
      "source": [
        "airbnb"
      ],
      "execution_count": null,
      "outputs": []
    },
    {
      "cell_type": "code",
      "metadata": {
        "id": "gB36xxeRWEw7"
      },
      "source": [
        "airbnb_normalized = airbnb - airbnb.mean()\n",
        "airbnb_normalized"
      ],
      "execution_count": null,
      "outputs": []
    },
    {
      "cell_type": "markdown",
      "metadata": {
        "id": "agBq_PCyXHbi"
      },
      "source": [
        "Agora devemos calcular a matrix de covariancia"
      ]
    },
    {
      "cell_type": "code",
      "metadata": {
        "id": "1WpoAF_3YJfC"
      },
      "source": [
        "for i in range(0, len(airbnb_normalized.columns)):\n",
        "    airbnb_normalized.iloc[:,i] = pd.to_numeric(airbnb_normalized.iloc[:,i], errors='ignore')\n",
        "covMatrix = np.cov(airbnb_normalized,rowvar = False)\n",
        "covMatrix"
      ],
      "execution_count": null,
      "outputs": []
    },
    {
      "cell_type": "code",
      "metadata": {
        "id": "A6qM_NB42FI4"
      },
      "source": [
        "autovalores, autovetores = np.linalg.eig(covMatrix)\n",
        "\n",
        "autovalores"
      ],
      "execution_count": null,
      "outputs": []
    },
    {
      "cell_type": "code",
      "metadata": {
        "id": "9aEygjFm-JQQ"
      },
      "source": [
        "df"
      ],
      "execution_count": null,
      "outputs": []
    },
    {
      "cell_type": "markdown",
      "metadata": {
        "id": "dJHtnM80PPvk"
      },
      "source": [
        "**Question:**\n",
        "\n",
        "Are the data well (or better) separated? What predictors show a high degree of overlapand thus are harder to separate?\n",
        "\n",
        "Better separeted = desejamos tirar preditores que possuem correlações, dados melhor separados significa dados com pouca correlação, para ter o máximo de informação com a menor quantidade de dados"
      ]
    },
    {
      "cell_type": "markdown",
      "metadata": {
        "id": "LlJin9e_PTrE"
      },
      "source": [
        "**R:**\n",
        "\n"
      ]
    },
    {
      "cell_type": "markdown",
      "metadata": {
        "id": "62ObAqSYlugi"
      },
      "source": [
        "# --- Data Analysis --- "
      ]
    },
    {
      "cell_type": "markdown",
      "metadata": {
        "id": "Lo1X8kCglymD"
      },
      "source": [
        "1. Define the goal of your goal and identify the output Y of your predictive model.\n",
        "Describe your data and their features in terms of number of observations N, number\n",
        "of predictor variables D. Make sure that predictors are numerical, not categorical."
      ]
    },
    {
      "cell_type": "markdown",
      "metadata": {
        "id": "t_yypBr-l3Jz"
      },
      "source": [
        "**R:**\n",
        "\n",
        "Objetivo: prever o preço a partir das outras colunas do nosso dataset;\n",
        "\n",
        "Descrição: São 48895 análises (antes da limpeza dos dados), iremos utilizar a coluna price para as previsões e as colunas neighbourhood_group, neighbourhood room_type (categoricos) e minimum_nights, number_of_reviews, reviews_per_month, calculated_host_listings_count, availability_365 (numéricos), as quais iremos utilizar a transformação para categóricos virarem numéricos, totalizando 8 colunas de previsores."
      ]
    },
    {
      "cell_type": "markdown",
      "metadata": {
        "id": "e-Xb8BwenAwW"
      },
      "source": [
        "2. Perform a mono-variate analysis of each of the D predictors. Specifically, you must\n",
        "plot their histogram, calculate their mean µd, standard deviation σd and skewness γd,\n",
        "with d = 1, . . . , D, using all the N observations"
      ]
    },
    {
      "cell_type": "markdown",
      "metadata": {
        "id": "BNENbs1vnkYL"
      },
      "source": [
        "**R:**\n",
        "\n",
        "Achando o mean e o deviation>"
      ]
    },
    {
      "cell_type": "code",
      "metadata": {
        "id": "CVWgF7PNnAYC"
      },
      "source": [
        "df.describe()"
      ],
      "execution_count": null,
      "outputs": []
    },
    {
      "cell_type": "code",
      "metadata": {
        "id": "ualhZHysvQoU"
      },
      "source": [
        "airbnb.describe()"
      ],
      "execution_count": null,
      "outputs": []
    },
    {
      "cell_type": "code",
      "metadata": {
        "id": "JrhTc-bwv8YA"
      },
      "source": [
        "airbnb['minimum_nights'].mean()"
      ],
      "execution_count": null,
      "outputs": []
    },
    {
      "cell_type": "markdown",
      "metadata": {
        "id": "Rq2Hf0PGnu5L"
      },
      "source": [
        "Descobrindo o skewness"
      ]
    },
    {
      "cell_type": "code",
      "metadata": {
        "id": "8plvAqY6nolp"
      },
      "source": [
        "df.skew(axis = 0)"
      ],
      "execution_count": null,
      "outputs": []
    },
    {
      "cell_type": "markdown",
      "metadata": {
        "id": "yb8uxBE-ITru"
      },
      "source": [
        "Pegando um valor que é necessário pra questão"
      ]
    },
    {
      "cell_type": "code",
      "metadata": {
        "id": "qZwvf1fVIWE9"
      },
      "source": [
        "df['reviews_per_month'].mean()"
      ],
      "execution_count": null,
      "outputs": []
    },
    {
      "cell_type": "code",
      "metadata": {
        "id": "DzTsPFfEIgXx"
      },
      "source": [
        "df['reviews_per_month'].std()"
      ],
      "execution_count": null,
      "outputs": []
    },
    {
      "cell_type": "code",
      "metadata": {
        "id": "C8pT3oDmIZ6n"
      },
      "source": [
        "df['calculated_host_listings_count'].mean()"
      ],
      "execution_count": null,
      "outputs": []
    },
    {
      "cell_type": "markdown",
      "metadata": {
        "id": "TNd0lJqZn7dG"
      },
      "source": [
        "Plotando os histogramas dos previsores:"
      ]
    },
    {
      "cell_type": "code",
      "metadata": {
        "id": "vpuvU-kSwKF1"
      },
      "source": [
        "plt.style.use('seaborn-darkgrid')"
      ],
      "execution_count": null,
      "outputs": []
    },
    {
      "cell_type": "code",
      "metadata": {
        "id": "UPPUzWLysCc6"
      },
      "source": [
        "plt.hist(x = df['minimum_nights']);"
      ],
      "execution_count": null,
      "outputs": []
    },
    {
      "cell_type": "code",
      "metadata": {
        "id": "7rBjjfx2sFFQ"
      },
      "source": [
        "# esse grafico aqui é mais detalhado do que o hist acima (\"mais aberto\")\n",
        "\n",
        "plot = px.histogram(df, x = \"minimum_nights\")\n",
        "plot.show()"
      ],
      "execution_count": null,
      "outputs": []
    },
    {
      "cell_type": "code",
      "metadata": {
        "id": "LETcstIyoAsV"
      },
      "source": [
        "plt.hist(x = df['number_of_reviews']);"
      ],
      "execution_count": null,
      "outputs": []
    },
    {
      "cell_type": "code",
      "metadata": {
        "id": "NvEaKX4iqIso"
      },
      "source": [
        "plot = px.histogram(df, x = 'number_of_reviews')\n",
        "plot.show()"
      ],
      "execution_count": null,
      "outputs": []
    },
    {
      "cell_type": "code",
      "metadata": {
        "id": "uDBDNpDAsVwt"
      },
      "source": [
        "plt.hist(x = df['reviews_per_month']);"
      ],
      "execution_count": null,
      "outputs": []
    },
    {
      "cell_type": "code",
      "metadata": {
        "id": "9hnixFSIsZ6M"
      },
      "source": [
        "plot = px.histogram(df, x = 'reviews_per_month')\n",
        "plot.show()"
      ],
      "execution_count": null,
      "outputs": []
    },
    {
      "cell_type": "code",
      "metadata": {
        "id": "awApQ-P6sfJG"
      },
      "source": [
        "plt.hist(x = df['calculated_host_listings_count']);"
      ],
      "execution_count": null,
      "outputs": []
    },
    {
      "cell_type": "code",
      "metadata": {
        "id": "Gv0mgHCTsi4W"
      },
      "source": [
        "plot = px.histogram(df, x = 'calculated_host_listings_count')\n",
        "plot.show()"
      ],
      "execution_count": null,
      "outputs": []
    },
    {
      "cell_type": "code",
      "metadata": {
        "id": "Lhy579aUslag"
      },
      "source": [
        "plt.hist(x = df['availability_365']);"
      ],
      "execution_count": null,
      "outputs": []
    },
    {
      "cell_type": "code",
      "metadata": {
        "id": "bSIjqtc8sq92"
      },
      "source": [
        "plot = px.histogram(df , x= 'availability_365')\n",
        "plot.show()"
      ],
      "execution_count": null,
      "outputs": []
    },
    {
      "cell_type": "markdown",
      "metadata": {
        "id": "a1Vu0iZwuoG9"
      },
      "source": [
        "3. Perform a bi-variate analysis of the predictors. Specifically, you must plot the scatter\n",
        "plots between all pairs of predictors. Investigate the existence of potential relationships\n",
        "between pairs of predictors and the presence of potential outliers"
      ]
    },
    {
      "cell_type": "markdown",
      "metadata": {
        "id": "r5F7QQU8utpr"
      },
      "source": [
        "previsores: minimum_nights, number_of_reviews, reviews_per_month, calculated_host_listings_count, availability_365"
      ]
    },
    {
      "cell_type": "code",
      "metadata": {
        "id": "wC11NXUduqiR"
      },
      "source": [
        "plot = px.scatter_matrix(df, dimensions= ['minimum_nights', 'number_of_reviews'], color = 'host_id')\n",
        "plot.show()"
      ],
      "execution_count": null,
      "outputs": []
    },
    {
      "cell_type": "code",
      "metadata": {
        "id": "EwJ-aYeUvcd8"
      },
      "source": [
        "plot = px.scatter_matrix(df, dimensions= ['minimum_nights', 'reviews_per_month'], color = 'host_id')\n",
        "plot.show()"
      ],
      "execution_count": null,
      "outputs": []
    },
    {
      "cell_type": "code",
      "metadata": {
        "id": "O7VbtnAnvfvW"
      },
      "source": [
        "plot = px.scatter_matrix(df, dimensions= ['minimum_nights', 'calculated_host_listings_count'], color = 'host_id')\n",
        "plot.show()"
      ],
      "execution_count": null,
      "outputs": []
    },
    {
      "cell_type": "code",
      "metadata": {
        "id": "TuITs_Gavjiv"
      },
      "source": [
        "plot = px.scatter_matrix(df, dimensions= ['minimum_nights', 'availability_365'], color = 'host_id')\n",
        "plot.show()"
      ],
      "execution_count": null,
      "outputs": []
    },
    {
      "cell_type": "code",
      "metadata": {
        "id": "_1hyabYdvm4n"
      },
      "source": [
        "plot = px.scatter_matrix(df, dimensions= ['number_of_reviews', 'reviews_per_month'], color = 'host_id')\n",
        "plot.show()"
      ],
      "execution_count": null,
      "outputs": []
    },
    {
      "cell_type": "code",
      "metadata": {
        "id": "lVYybraovs7B"
      },
      "source": [
        "plot = px.scatter_matrix(df, dimensions= ['number_of_reviews', 'calculated_host_listings_count'], color = 'host_id')\n",
        "plot.show()"
      ],
      "execution_count": null,
      "outputs": []
    },
    {
      "cell_type": "code",
      "metadata": {
        "id": "X0-VarjYvujc"
      },
      "source": [
        "plot = px.scatter_matrix(df, dimensions= ['number_of_reviews', 'availability_365'], color = 'host_id')\n",
        "plot.show()"
      ],
      "execution_count": null,
      "outputs": []
    },
    {
      "cell_type": "code",
      "metadata": {
        "id": "pP9z1TxSvwD9"
      },
      "source": [
        "plot = px.scatter_matrix(df, dimensions= ['reviews_per_month', 'calculated_host_listings_count'], color = 'host_id')\n",
        "plot.show()"
      ],
      "execution_count": null,
      "outputs": []
    },
    {
      "cell_type": "code",
      "metadata": {
        "id": "2zKbfaOBvz6t"
      },
      "source": [
        "plot = px.scatter_matrix(df, dimensions= ['reviews_per_month', 'availability_365'], color = 'host_id')\n",
        "plot.show()"
      ],
      "execution_count": null,
      "outputs": []
    },
    {
      "cell_type": "code",
      "metadata": {
        "id": "m_30k-U1v2aV"
      },
      "source": [
        "plot = px.scatter_matrix(df, dimensions= ['calculated_host_listings_count', 'availability_365'], color = 'host_id')\n",
        "plot.show()"
      ],
      "execution_count": null,
      "outputs": []
    },
    {
      "cell_type": "markdown",
      "metadata": {
        "id": "gwrGx0emSLgu"
      },
      "source": [
        "**3.2**\n",
        "\n",
        "Are there any relevant relationships between pairs of predictors? If yes, are these relationships\n",
        "linear? Quantify linear dependence between predictors using pair-wise correlation\n",
        "coefficients $\\rho d_1, \\rho d_j $ , with di; dj = 1,...,D. Either tabulate the correlation coefficients as a\n",
        "correlation matrix, or show the matrix as an image. Comment on the results.\n"
      ]
    },
    {
      "cell_type": "markdown",
      "metadata": {
        "id": "Qe9nlrcQUC6A"
      },
      "source": [
        "**R:** \n",
        "\n",
        "Sim, notamos que existem relações entre diversos preditores, como exemplo, entre numeros minimo de noites e numeros de reviews, numero de reviews e numero de reviews mês.\n",
        "\n"
      ]
    },
    {
      "cell_type": "code",
      "metadata": {
        "id": "yA0Gbs0IXG4R"
      },
      "source": [
        "df_aux = df[['minimum_nights', 'number_of_reviews', 'reviews_per_month', 'calculated_host_listings_count', 'availability_365']]\n",
        "\n",
        "matrix = df_aux.corr(method ='pearson')\n",
        "\n",
        "plt.figure(figsize=(16,12))\n",
        "\n",
        "cmap = sns.diverging_palette(250, 15, s=75, l=40, n=9, center=\"light\", as_cmap=True)\n",
        "\n",
        "_ = sns.heatmap(matrix, center=0, annot=True, fmt='.2f', square=True, cmap=cmap)"
      ],
      "execution_count": null,
      "outputs": []
    },
    {
      "cell_type": "markdown",
      "metadata": {
        "id": "SpXSUN3pklqD"
      },
      "source": [
        "Vemos que existe uma relação moderada entre número de reviews por mês e número de reviews 0.3 $\\leq$ |r| $<$0.7 e as outras relações são fracas 0.0 $\\leq$ |r| $<$0.3"
      ]
    },
    {
      "cell_type": "markdown",
      "metadata": {
        "id": "l5FiJIWuPxgg"
      },
      "source": [
        "# --- Limpeza dos Dados ---"
      ]
    },
    {
      "cell_type": "code",
      "metadata": {
        "id": "DmmFpNK5L3FI"
      },
      "source": [
        "df.info()"
      ],
      "execution_count": null,
      "outputs": []
    },
    {
      "cell_type": "code",
      "metadata": {
        "id": "7ewaqeq5avS9"
      },
      "source": [
        "# checagem de valores nulos no df\n",
        "df.isnull().sum()"
      ],
      "execution_count": null,
      "outputs": []
    },
    {
      "cell_type": "code",
      "metadata": {
        "id": "lWneoWTWSRQE"
      },
      "source": [
        "# retirando os valores nulos para a coluna 'name'\n",
        "\n",
        "df.dropna(subset = ['name'], inplace = True) # o inplace é pra garantir que o df atualize os dados substituídos\n",
        "df.isnull().sum()"
      ],
      "execution_count": null,
      "outputs": []
    },
    {
      "cell_type": "code",
      "metadata": {
        "id": "RBNSYF5LTGb4"
      },
      "source": [
        "# retirando os valores nulos para a coluna 'host_name'\n",
        "\n",
        "df.dropna(subset = ['host_name'], inplace = True)\n",
        "df.isnull().sum()"
      ],
      "execution_count": null,
      "outputs": []
    },
    {
      "cell_type": "code",
      "metadata": {
        "id": "PpRvuo2vNasY"
      },
      "source": [
        "# análise dos valores nulos para number_of_reviews\n",
        "df.loc[df['number_of_reviews'] == 0].head()"
      ],
      "execution_count": null,
      "outputs": []
    },
    {
      "cell_type": "code",
      "metadata": {
        "id": "Qp68RXsyRdTN"
      },
      "source": [
        "# substituindo os valores NaN da coluna reviews_per_month para 0\n",
        "\n",
        "df['reviews_per_month'] = df['reviews_per_month'].fillna(0.0)"
      ],
      "execution_count": null,
      "outputs": []
    },
    {
      "cell_type": "code",
      "metadata": {
        "id": "8FqoXqv7TVkY"
      },
      "source": [
        "# fazendo a checagem apos a limpeza\n",
        "\n",
        "df.isnull().sum()"
      ],
      "execution_count": null,
      "outputs": []
    },
    {
      "cell_type": "code",
      "metadata": {
        "id": "Id86gQnRpzrR"
      },
      "source": [
        "# tirando valores duplicados\n",
        "\n",
        "df.drop_duplicates()"
      ],
      "execution_count": null,
      "outputs": []
    },
    {
      "cell_type": "code",
      "metadata": {
        "id": "kwwRu42PmF9-"
      },
      "source": [
        "# contagem final dos dados apos a limpeza\n",
        "\n",
        "df"
      ],
      "execution_count": null,
      "outputs": []
    },
    {
      "cell_type": "code",
      "metadata": {
        "id": "EBapNsFCHZW1"
      },
      "source": [
        "df.info() # last_review não precisa resolver o problema da coluna pq nao iremos usar na previsão"
      ],
      "execution_count": null,
      "outputs": []
    },
    {
      "cell_type": "markdown",
      "metadata": {
        "id": "o79lJExoSRfv"
      },
      "source": [
        "# Linear Regression"
      ]
    }
  ]
}