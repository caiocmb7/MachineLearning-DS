{
  "nbformat": 4,
  "nbformat_minor": 0,
  "metadata": {
    "colab": {
      "name": "Data Augmentation with NLP.ipynb",
      "provenance": []
    },
    "kernelspec": {
      "name": "python3",
      "display_name": "Python 3"
    },
    "language_info": {
      "name": "python"
    }
  },
  "cells": [
    {
      "cell_type": "markdown",
      "source": [
        "# Importações"
      ],
      "metadata": {
        "id": "lASj8pdFZp9l"
      }
    },
    {
      "cell_type": "code",
      "source": [
        "!pip install numpy requests nlpaug"
      ],
      "metadata": {
        "colab": {
          "base_uri": "https://localhost:8080/"
        },
        "id": "N2BefqBBadIl",
        "outputId": "cc79b838-7e6a-48d0-f17b-83f04b037e56"
      },
      "execution_count": 2,
      "outputs": [
        {
          "output_type": "stream",
          "name": "stdout",
          "text": [
            "Requirement already satisfied: numpy in /usr/local/lib/python3.7/dist-packages (1.21.5)\n",
            "Requirement already satisfied: requests in /usr/local/lib/python3.7/dist-packages (2.23.0)\n",
            "Collecting nlpaug\n",
            "  Downloading nlpaug-1.1.10-py3-none-any.whl (410 kB)\n",
            "\u001b[K     |████████████████████████████████| 410 kB 7.7 MB/s \n",
            "\u001b[?25hRequirement already satisfied: chardet<4,>=3.0.2 in /usr/local/lib/python3.7/dist-packages (from requests) (3.0.4)\n",
            "Requirement already satisfied: urllib3!=1.25.0,!=1.25.1,<1.26,>=1.21.1 in /usr/local/lib/python3.7/dist-packages (from requests) (1.24.3)\n",
            "Requirement already satisfied: idna<3,>=2.5 in /usr/local/lib/python3.7/dist-packages (from requests) (2.10)\n",
            "Requirement already satisfied: certifi>=2017.4.17 in /usr/local/lib/python3.7/dist-packages (from requests) (2021.10.8)\n",
            "Requirement already satisfied: pandas>=1.2.0 in /usr/local/lib/python3.7/dist-packages (from nlpaug) (1.3.5)\n",
            "Requirement already satisfied: python-dateutil>=2.7.3 in /usr/local/lib/python3.7/dist-packages (from pandas>=1.2.0->nlpaug) (2.8.2)\n",
            "Requirement already satisfied: pytz>=2017.3 in /usr/local/lib/python3.7/dist-packages (from pandas>=1.2.0->nlpaug) (2018.9)\n",
            "Requirement already satisfied: six>=1.5 in /usr/local/lib/python3.7/dist-packages (from python-dateutil>=2.7.3->pandas>=1.2.0->nlpaug) (1.15.0)\n",
            "Installing collected packages: nlpaug\n",
            "Successfully installed nlpaug-1.1.10\n"
          ]
        }
      ]
    },
    {
      "cell_type": "code",
      "execution_count": 3,
      "metadata": {
        "id": "bTtsuQgYZmZ3"
      },
      "outputs": [],
      "source": [
        "import nlpaug.augmenter.char as nac\n",
        "import nlpaug.augmenter.word as naw\n",
        "import nlpaug.augmenter.sentence as nas\n",
        "import nlpaug.flow as nafc\n",
        "from nlpaug.util import Action"
      ]
    },
    {
      "cell_type": "markdown",
      "source": [
        "# Testes de Execução"
      ],
      "metadata": {
        "id": "kipXTTerakGX"
      }
    },
    {
      "cell_type": "code",
      "source": [
        "text = \"Some phrases and words to do a test and make few observations about what is going on with this string for NLP studies\"\n",
        "text"
      ],
      "metadata": {
        "colab": {
          "base_uri": "https://localhost:8080/",
          "height": 35
        },
        "id": "__G2fQHtamSz",
        "outputId": "6ff56586-f80b-411c-a216-81a41a78f382"
      },
      "execution_count": 7,
      "outputs": [
        {
          "output_type": "execute_result",
          "data": {
            "application/vnd.google.colaboratory.intrinsic+json": {
              "type": "string"
            },
            "text/plain": [
              "'Some phrases and words to do a test and make few observations about what is going on with this string for NLP studies'"
            ]
          },
          "metadata": {},
          "execution_count": 7
        }
      ]
    },
    {
      "cell_type": "markdown",
      "source": [
        "Teste com Keyboard"
      ],
      "metadata": {
        "id": "dwaoQpsla6Lf"
      }
    },
    {
      "cell_type": "code",
      "source": [
        "aug = nac.KeyboardAug()\n",
        "text_augmented = aug.augment(text)\n",
        "text_augmented"
      ],
      "metadata": {
        "colab": {
          "base_uri": "https://localhost:8080/",
          "height": 35
        },
        "id": "gHG436dCbfYp",
        "outputId": "acf58110-f45b-43c1-9ce6-ad0cbc133d5f"
      },
      "execution_count": 8,
      "outputs": [
        {
          "output_type": "execute_result",
          "data": {
            "application/vnd.google.colaboratory.intrinsic+json": {
              "type": "string"
            },
            "text/plain": [
              "'Some phrases and aoTds to do a tSs% and make few pfsfrFations about what is goiGb on wiRj fNis ctrlng for NLP studies'"
            ]
          },
          "metadata": {},
          "execution_count": 8
        }
      ]
    },
    {
      "cell_type": "code",
      "source": [
        "aug = nac.KeyboardAug()\n",
        "text_augmented = aug.augment(text, n = 4)\n",
        "text_augmented"
      ],
      "metadata": {
        "colab": {
          "base_uri": "https://localhost:8080/"
        },
        "id": "F_y8dwAwa7iQ",
        "outputId": "13cdaa4b-5637-484d-f7ed-844a138030ea"
      },
      "execution_count": 6,
      "outputs": [
        {
          "output_type": "execute_result",
          "data": {
            "text/plain": [
              "['aoms phrases and words to do a t3dt and make few kbseTgqtions avlut what is goiMN on with th8c ztriBg for NLP studies',\n",
              " 'Cone phrAdeX and words to do a test and make few oNWerva^ipns afouR wyah is going on with th9Z st%inH for NLP studies',\n",
              " 'Some phrases and words to do a test and make few obs#rvWti9nx anput Dha5 is going on SitM tJiW st#ijg for NLP srudiDx',\n",
              " 'Some phrases and words to do a twwt and make few (Ns4rvationZ about what is houng on wiYJ Fhid eteing for NLP wtusLes']"
            ]
          },
          "metadata": {},
          "execution_count": 6
        }
      ]
    },
    {
      "cell_type": "markdown",
      "source": [
        "Posso mandar mais de um texto para a augmentação:"
      ],
      "metadata": {
        "id": "niO1FCBFbvck"
      }
    },
    {
      "cell_type": "code",
      "source": [
        "texts = [\n",
        "         \"Some phrases and words to do a test and make few observations about what is going on with this string for NLP studies\",\n",
        "         \"My dog is called Mel and she likes to play with ball\",\n",
        "         \"I like to go to the gym\"\n",
        "]"
      ],
      "metadata": {
        "id": "GGI7QzwvbEi_"
      },
      "execution_count": 9,
      "outputs": []
    },
    {
      "cell_type": "code",
      "source": [
        "aug = nac.KeyboardAug()\n",
        "text_augmented = aug.augment(texts)\n",
        "text_augmented"
      ],
      "metadata": {
        "colab": {
          "base_uri": "https://localhost:8080/"
        },
        "id": "vrn7w6O_cSMc",
        "outputId": "ad3d17c3-96c5-4191-8cc8-bbe89e92aeb1"
      },
      "execution_count": 12,
      "outputs": [
        {
          "output_type": "execute_result",
          "data": {
            "text/plain": [
              "['So,w (hrasrc and aordE to do a test and make few 8bs4DvationQ about wNzt is going on wi5g this wtding for NLP studies',\n",
              " 'My dog is ca:;ed Mel and she lJkee to o?ay with falp',\n",
              " 'I lLOe to go to the gym']"
            ]
          },
          "metadata": {},
          "execution_count": 12
        }
      ]
    },
    {
      "cell_type": "markdown",
      "source": [
        "# Estudos de Métodos de Augmentação"
      ],
      "metadata": {
        "id": "0t0FRE6adNo4"
      }
    },
    {
      "cell_type": "markdown",
      "source": [
        "# Estudo com Keyboard (Erro por teclas próximas)"
      ],
      "metadata": {
        "id": "k4cVhuCie44i"
      }
    },
    {
      "cell_type": "code",
      "source": [
        "text = \"Some phrases and words to do a test and make few observations about what is going on with this string for NLP studies\""
      ],
      "metadata": {
        "id": "SrXYAv4mdTDN"
      },
      "execution_count": 13,
      "outputs": []
    },
    {
      "cell_type": "code",
      "source": [
        "aug = nac.KeyboardAug()\n",
        "text_augmented = aug.augment(text, n = 4)\n",
        "text_augmented"
      ],
      "metadata": {
        "colab": {
          "base_uri": "https://localhost:8080/"
        },
        "id": "mRsBRNTGe5iB",
        "outputId": "414929ca-b327-4d0b-fbc2-b411749a1ee6"
      },
      "execution_count": 15,
      "outputs": [
        {
          "output_type": "execute_result",
          "data": {
            "text/plain": [
              "['Zpme pt5Zses and w04ds to do a test and make few onQervQtioGs ab9u5 what is glKng on with this string for NLP stuw8ws',\n",
              " 'SL<e phrases and #ordx to do a test and make few obs3rdStioMs about whW4 is gLung on wj4h $hiQ string for NLP studies',\n",
              " 'Some phrases and worcX to do a t3zt and make few observations sbiut what is goibT on eUth this striJY for NLP z$uries',\n",
              " 'So,w pG5sses and words to do a test and Hak3 few oGEergati0ns about whSf is going on with tGJs string for NLP DtuVi#s']"
            ]
          },
          "metadata": {},
          "execution_count": 15
        }
      ]
    },
    {
      "cell_type": "markdown",
      "source": [
        "# Estudo com OCR (Erros pré-definidos)"
      ],
      "metadata": {
        "id": "TN1RNdThdcxd"
      }
    },
    {
      "cell_type": "code",
      "source": [
        "aug = nac.OcrAug()\n",
        "text_augmented = aug.augment(text, n = 4)\n",
        "text_augmented"
      ],
      "metadata": {
        "colab": {
          "base_uri": "https://localhost:8080/"
        },
        "id": "YAU5NueEdhFl",
        "outputId": "28d09eb3-7f83-4195-a437-e6ea2ae2c813"
      },
      "execution_count": 14,
      "outputs": [
        {
          "output_type": "execute_result",
          "data": {
            "text/plain": [
              "['Some phka8e8 and words tu do a te8t and make few 068ervatiuns about what is going un with this 8trin9 for NLP studies',\n",
              " 'Some phrases and words t0 do a test and mare few observations about what i8 9uing on with thi8 string for NLP studies',\n",
              " '8ume phrases and words t0 du a test and make few observations a6oot what is going on with this 8trin9 for NLP studies',\n",
              " '8ume phrases and words to do a test and mare few observations a6uut what is guin9 on with this string f0k NLP studies']"
            ]
          },
          "metadata": {},
          "execution_count": 14
        }
      ]
    },
    {
      "cell_type": "markdown",
      "source": [
        "# Estudo com Random (Insere um caractere aleatório)"
      ],
      "metadata": {
        "id": "N4Ya4rZkhCqv"
      }
    },
    {
      "cell_type": "markdown",
      "source": [
        ""
      ],
      "metadata": {
        "id": "I1uWRW08hR6y"
      }
    }
  ]
}