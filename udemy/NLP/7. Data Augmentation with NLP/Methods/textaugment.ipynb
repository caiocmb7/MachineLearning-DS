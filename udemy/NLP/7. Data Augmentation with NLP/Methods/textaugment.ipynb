{
  "nbformat": 4,
  "nbformat_minor": 0,
  "metadata": {
    "colab": {
      "name": "textaugment.ipynb",
      "provenance": [],
      "authorship_tag": "ABX9TyPcK7Tai12JwOAO9E1iw7d8",
      "include_colab_link": true
    },
    "kernelspec": {
      "name": "python3",
      "display_name": "Python 3"
    },
    "language_info": {
      "name": "python"
    }
  },
  "cells": [
    {
      "cell_type": "markdown",
      "metadata": {
        "id": "view-in-github",
        "colab_type": "text"
      },
      "source": [
        "<a href=\"https://colab.research.google.com/github/caiocmb7/MachineLearning-DS/blob/main/textaugment.ipynb\" target=\"_parent\"><img src=\"https://colab.research.google.com/assets/colab-badge.svg\" alt=\"Open In Colab\"/></a>"
      ]
    },
    {
      "cell_type": "code",
      "execution_count": 1,
      "metadata": {
        "colab": {
          "base_uri": "https://localhost:8080/"
        },
        "id": "u6O75SVmE8R_",
        "outputId": "32f3a98b-f4d3-4fcd-a6d3-3debe826a5ff"
      },
      "outputs": [
        {
          "output_type": "stream",
          "name": "stdout",
          "text": [
            "Requirement already satisfied: textaugment in /usr/local/lib/python3.7/dist-packages (1.3.4)\n",
            "Requirement already satisfied: googletrans in /usr/local/lib/python3.7/dist-packages (from textaugment) (3.0.0)\n",
            "Requirement already satisfied: gensim in /usr/local/lib/python3.7/dist-packages (from textaugment) (3.6.0)\n",
            "Requirement already satisfied: textblob in /usr/local/lib/python3.7/dist-packages (from textaugment) (0.15.3)\n",
            "Requirement already satisfied: nltk in /usr/local/lib/python3.7/dist-packages (from textaugment) (3.2.5)\n",
            "Requirement already satisfied: numpy in /usr/local/lib/python3.7/dist-packages (from textaugment) (1.21.5)\n",
            "Requirement already satisfied: scipy>=0.18.1 in /usr/local/lib/python3.7/dist-packages (from gensim->textaugment) (1.4.1)\n",
            "Requirement already satisfied: six>=1.5.0 in /usr/local/lib/python3.7/dist-packages (from gensim->textaugment) (1.15.0)\n",
            "Requirement already satisfied: smart-open>=1.2.1 in /usr/local/lib/python3.7/dist-packages (from gensim->textaugment) (5.2.1)\n",
            "Requirement already satisfied: httpx==0.13.3 in /usr/local/lib/python3.7/dist-packages (from googletrans->textaugment) (0.13.3)\n",
            "Requirement already satisfied: sniffio in /usr/local/lib/python3.7/dist-packages (from httpx==0.13.3->googletrans->textaugment) (1.2.0)\n",
            "Requirement already satisfied: certifi in /usr/local/lib/python3.7/dist-packages (from httpx==0.13.3->googletrans->textaugment) (2021.10.8)\n",
            "Requirement already satisfied: rfc3986<2,>=1.3 in /usr/local/lib/python3.7/dist-packages (from httpx==0.13.3->googletrans->textaugment) (1.5.0)\n",
            "Requirement already satisfied: hstspreload in /usr/local/lib/python3.7/dist-packages (from httpx==0.13.3->googletrans->textaugment) (2021.12.1)\n",
            "Requirement already satisfied: chardet==3.* in /usr/local/lib/python3.7/dist-packages (from httpx==0.13.3->googletrans->textaugment) (3.0.4)\n",
            "Requirement already satisfied: idna==2.* in /usr/local/lib/python3.7/dist-packages (from httpx==0.13.3->googletrans->textaugment) (2.10)\n",
            "Requirement already satisfied: httpcore==0.9.* in /usr/local/lib/python3.7/dist-packages (from httpx==0.13.3->googletrans->textaugment) (0.9.1)\n",
            "Requirement already satisfied: h11<0.10,>=0.8 in /usr/local/lib/python3.7/dist-packages (from httpcore==0.9.*->httpx==0.13.3->googletrans->textaugment) (0.9.0)\n",
            "Requirement already satisfied: h2==3.* in /usr/local/lib/python3.7/dist-packages (from httpcore==0.9.*->httpx==0.13.3->googletrans->textaugment) (3.2.0)\n",
            "Requirement already satisfied: hyperframe<6,>=5.2.0 in /usr/local/lib/python3.7/dist-packages (from h2==3.*->httpcore==0.9.*->httpx==0.13.3->googletrans->textaugment) (5.2.0)\n",
            "Requirement already satisfied: hpack<4,>=3.0 in /usr/local/lib/python3.7/dist-packages (from h2==3.*->httpcore==0.9.*->httpx==0.13.3->googletrans->textaugment) (3.0.0)\n"
          ]
        }
      ],
      "source": [
        "!pip install textaugment"
      ]
    },
    {
      "cell_type": "code",
      "source": [
        "from textaugment import Word2vec, Wordnet, Translate"
      ],
      "metadata": {
        "id": "GuFCJjjeFFlL"
      },
      "execution_count": 2,
      "outputs": []
    },
    {
      "cell_type": "code",
      "source": [
        "import nltk\n",
        "nltk.download(['wordnet','punkt','averaged_perceptron_tagger'])"
      ],
      "metadata": {
        "colab": {
          "base_uri": "https://localhost:8080/"
        },
        "id": "wbuzAwYPFpye",
        "outputId": "dd9de3b6-0852-469a-9ac7-5aa389743eac"
      },
      "execution_count": 3,
      "outputs": [
        {
          "output_type": "stream",
          "name": "stdout",
          "text": [
            "[nltk_data] Downloading package wordnet to /root/nltk_data...\n",
            "[nltk_data]   Package wordnet is already up-to-date!\n",
            "[nltk_data] Downloading package punkt to /root/nltk_data...\n",
            "[nltk_data]   Package punkt is already up-to-date!\n",
            "[nltk_data] Downloading package averaged_perceptron_tagger to\n",
            "[nltk_data]     /root/nltk_data...\n",
            "[nltk_data]   Package averaged_perceptron_tagger is already up-to-\n",
            "[nltk_data]       date!\n"
          ]
        },
        {
          "output_type": "execute_result",
          "data": {
            "text/plain": [
              "True"
            ]
          },
          "metadata": {},
          "execution_count": 3
        }
      ]
    },
    {
      "cell_type": "code",
      "source": [
        "import gensim.downloader\n",
        "glove_vectors = gensim.downloader.load('glove-twitter-25')\n",
        "model_google = gensim.downloader.load(\"word2vec-google-news-300\")"
      ],
      "metadata": {
        "colab": {
          "base_uri": "https://localhost:8080/"
        },
        "id": "hDnHwm6aG8QD",
        "outputId": "20a9d657-98f2-40b4-e753-c97f7b65352a"
      },
      "execution_count": null,
      "outputs": [
        {
          "output_type": "stream",
          "name": "stdout",
          "text": [
            "[==============------------------------------------] 29.5% 489.8/1662.8MB downloaded"
          ]
        }
      ]
    },
    {
      "cell_type": "code",
      "source": [
        "text = \"My name is Joan, I live in Canada and I have 100 dollars\""
      ],
      "metadata": {
        "id": "51S_d9wRFRrz"
      },
      "execution_count": 4,
      "outputs": []
    },
    {
      "cell_type": "code",
      "source": [
        "aug = Word2vec(model = model_google, runs=5, v=False, p=0.5)\n",
        "augmented_text = aug.augment(text)\n",
        "print(f\"Original:\\n {text}\")\n",
        "print(f\"Augmented:\\n {augmented_text}\")"
      ],
      "metadata": {
        "colab": {
          "base_uri": "https://localhost:8080/"
        },
        "id": "AJq-7XIIFJcQ",
        "outputId": "e6fbe82e-9943-4a06-f452-ab5aab3edc79"
      },
      "execution_count": 16,
      "outputs": [
        {
          "output_type": "stream",
          "name": "stdout",
          "text": [
            "Original:\n",
            " My name is Joan, I live in Canada and I have 100 dollars\n",
            "Augmented:\n",
            " up name is joan, all live the canada from i there 100 dollars\n"
          ]
        }
      ]
    },
    {
      "cell_type": "code",
      "source": [
        "text = 'In the afternoon, John is going to town'\n",
        "aug = Wordnet(v=False, n=True, p=0.5)\n",
        "augmented_text = aug.augment(text)\n",
        "print(f\"Original:\\n {text}\")\n",
        "print(f\"Augmented:\\n {augmented_text}\")"
      ],
      "metadata": {
        "colab": {
          "base_uri": "https://localhost:8080/"
        },
        "id": "4h4JZICTHyc1",
        "outputId": "59c8fb20-f2d6-49f5-b94f-a6c632d8dcd7"
      },
      "execution_count": 12,
      "outputs": [
        {
          "output_type": "stream",
          "name": "stdout",
          "text": [
            "Original:\n",
            " In the afternoon, John is going to town\n",
            "Augmented:\n",
            " in the afternoon, john is going to townspeople\n"
          ]
        }
      ]
    },
    {
      "cell_type": "code",
      "source": [
        "text = 'In the afternoon, John is going to town'\n",
        "aug = Translate(src=\"en\", to=\"fr\")\n",
        "augmented_text = aug.augment(text)\n",
        "print(f\"Original:\\n {text}\")\n",
        "print(f\"Augmented:\\n {augmented_text}\")"
      ],
      "metadata": {
        "colab": {
          "base_uri": "https://localhost:8080/"
        },
        "id": "yqH-cvvUIAEH",
        "outputId": "dc531b62-e9a4-400f-c7f4-922a67c7b880"
      },
      "execution_count": 10,
      "outputs": [
        {
          "output_type": "stream",
          "name": "stdout",
          "text": [
            "Original:\n",
            " In the afternoon, John is going to town\n",
            "Augmented:\n",
            " in the afternoon, john goes to town\n"
          ]
        }
      ]
    }
  ]
}