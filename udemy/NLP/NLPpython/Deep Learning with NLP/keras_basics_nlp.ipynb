{
 "cells": [
  {
   "cell_type": "code",
   "execution_count": 48,
   "id": "4e6edfcd-eba8-44ec-bcf9-6e8d55b199e3",
   "metadata": {},
   "outputs": [
    {
     "name": "stdout",
     "output_type": "stream",
     "text": [
      "The lab_black extension is already loaded. To reload it, use:\n",
      "  %reload_ext lab_black\n"
     ]
    }
   ],
   "source": [
    "%load_ext lab_black\n",
    "import pandas as pd\n",
    "from sklearn.datasets import load_iris\n",
    "from IPython.display import JSON\n",
    "from keras.utils import to_categorical\n",
    "from sklearn.model_selection import train_test_split\n",
    "from sklearn.preprocessing import MinMaxScaler\n",
    "from keras.models import Sequential\n",
    "from keras.layers import Dense\n",
    "from sklearn.metrics import confusion_matrix, classification_report, accuracy_score\n",
    "from keras.models import load_model\n",
    "\n",
    "iris = load_iris()"
   ]
  },
  {
   "cell_type": "code",
   "execution_count": 6,
   "id": "738c2578-3693-4e17-93f8-cc80b207c48c",
   "metadata": {},
   "outputs": [
    {
     "data": {
      "application/json": {
       "DESCR": ".. _iris_dataset:\n\nIris plants dataset\n--------------------\n\n**Data Set Characteristics:**\n\n    :Number of Instances: 150 (50 in each of three classes)\n    :Number of Attributes: 4 numeric, predictive attributes and the class\n    :Attribute Information:\n        - sepal length in cm\n        - sepal width in cm\n        - petal length in cm\n        - petal width in cm\n        - class:\n                - Iris-Setosa\n                - Iris-Versicolour\n                - Iris-Virginica\n                \n    :Summary Statistics:\n\n    ============== ==== ==== ======= ===== ====================\n                    Min  Max   Mean    SD   Class Correlation\n    ============== ==== ==== ======= ===== ====================\n    sepal length:   4.3  7.9   5.84   0.83    0.7826\n    sepal width:    2.0  4.4   3.05   0.43   -0.4194\n    petal length:   1.0  6.9   3.76   1.76    0.9490  (high!)\n    petal width:    0.1  2.5   1.20   0.76    0.9565  (high!)\n    ============== ==== ==== ======= ===== ====================\n\n    :Missing Attribute Values: None\n    :Class Distribution: 33.3% for each of 3 classes.\n    :Creator: R.A. Fisher\n    :Donor: Michael Marshall (MARSHALL%PLU@io.arc.nasa.gov)\n    :Date: July, 1988\n\nThe famous Iris database, first used by Sir R.A. Fisher. The dataset is taken\nfrom Fisher's paper. Note that it's the same as in R, but not as in the UCI\nMachine Learning Repository, which has two wrong data points.\n\nThis is perhaps the best known database to be found in the\npattern recognition literature.  Fisher's paper is a classic in the field and\nis referenced frequently to this day.  (See Duda & Hart, for example.)  The\ndata set contains 3 classes of 50 instances each, where each class refers to a\ntype of iris plant.  One class is linearly separable from the other 2; the\nlatter are NOT linearly separable from each other.\n\n.. topic:: References\n\n   - Fisher, R.A. \"The use of multiple measurements in taxonomic problems\"\n     Annual Eugenics, 7, Part II, 179-188 (1936); also in \"Contributions to\n     Mathematical Statistics\" (John Wiley, NY, 1950).\n   - Duda, R.O., & Hart, P.E. (1973) Pattern Classification and Scene Analysis.\n     (Q327.D83) John Wiley & Sons.  ISBN 0-471-22361-1.  See page 218.\n   - Dasarathy, B.V. (1980) \"Nosing Around the Neighborhood: A New System\n     Structure and Classification Rule for Recognition in Partially Exposed\n     Environments\".  IEEE Transactions on Pattern Analysis and Machine\n     Intelligence, Vol. PAMI-2, No. 1, 67-71.\n   - Gates, G.W. (1972) \"The Reduced Nearest Neighbor Rule\".  IEEE Transactions\n     on Information Theory, May 1972, 431-433.\n   - See also: 1988 MLC Proceedings, 54-64.  Cheeseman et al\"s AUTOCLASS II\n     conceptual clustering system finds 3 classes in the data.\n   - Many, many more ...",
       "data": [
        [
         5.1,
         3.5,
         1.4,
         0.2
        ],
        [
         4.9,
         3,
         1.4,
         0.2
        ],
        [
         4.7,
         3.2,
         1.3,
         0.2
        ],
        [
         4.6,
         3.1,
         1.5,
         0.2
        ],
        [
         5,
         3.6,
         1.4,
         0.2
        ],
        [
         5.4,
         3.9,
         1.7,
         0.4
        ],
        [
         4.6,
         3.4,
         1.4,
         0.3
        ],
        [
         5,
         3.4,
         1.5,
         0.2
        ],
        [
         4.4,
         2.9,
         1.4,
         0.2
        ],
        [
         4.9,
         3.1,
         1.5,
         0.1
        ],
        [
         5.4,
         3.7,
         1.5,
         0.2
        ],
        [
         4.8,
         3.4,
         1.6,
         0.2
        ],
        [
         4.8,
         3,
         1.4,
         0.1
        ],
        [
         4.3,
         3,
         1.1,
         0.1
        ],
        [
         5.8,
         4,
         1.2,
         0.2
        ],
        [
         5.7,
         4.4,
         1.5,
         0.4
        ],
        [
         5.4,
         3.9,
         1.3,
         0.4
        ],
        [
         5.1,
         3.5,
         1.4,
         0.3
        ],
        [
         5.7,
         3.8,
         1.7,
         0.3
        ],
        [
         5.1,
         3.8,
         1.5,
         0.3
        ],
        [
         5.4,
         3.4,
         1.7,
         0.2
        ],
        [
         5.1,
         3.7,
         1.5,
         0.4
        ],
        [
         4.6,
         3.6,
         1,
         0.2
        ],
        [
         5.1,
         3.3,
         1.7,
         0.5
        ],
        [
         4.8,
         3.4,
         1.9,
         0.2
        ],
        [
         5,
         3,
         1.6,
         0.2
        ],
        [
         5,
         3.4,
         1.6,
         0.4
        ],
        [
         5.2,
         3.5,
         1.5,
         0.2
        ],
        [
         5.2,
         3.4,
         1.4,
         0.2
        ],
        [
         4.7,
         3.2,
         1.6,
         0.2
        ],
        [
         4.8,
         3.1,
         1.6,
         0.2
        ],
        [
         5.4,
         3.4,
         1.5,
         0.4
        ],
        [
         5.2,
         4.1,
         1.5,
         0.1
        ],
        [
         5.5,
         4.2,
         1.4,
         0.2
        ],
        [
         4.9,
         3.1,
         1.5,
         0.2
        ],
        [
         5,
         3.2,
         1.2,
         0.2
        ],
        [
         5.5,
         3.5,
         1.3,
         0.2
        ],
        [
         4.9,
         3.6,
         1.4,
         0.1
        ],
        [
         4.4,
         3,
         1.3,
         0.2
        ],
        [
         5.1,
         3.4,
         1.5,
         0.2
        ],
        [
         5,
         3.5,
         1.3,
         0.3
        ],
        [
         4.5,
         2.3,
         1.3,
         0.3
        ],
        [
         4.4,
         3.2,
         1.3,
         0.2
        ],
        [
         5,
         3.5,
         1.6,
         0.6
        ],
        [
         5.1,
         3.8,
         1.9,
         0.4
        ],
        [
         4.8,
         3,
         1.4,
         0.3
        ],
        [
         5.1,
         3.8,
         1.6,
         0.2
        ],
        [
         4.6,
         3.2,
         1.4,
         0.2
        ],
        [
         5.3,
         3.7,
         1.5,
         0.2
        ],
        [
         5,
         3.3,
         1.4,
         0.2
        ],
        [
         7,
         3.2,
         4.7,
         1.4
        ],
        [
         6.4,
         3.2,
         4.5,
         1.5
        ],
        [
         6.9,
         3.1,
         4.9,
         1.5
        ],
        [
         5.5,
         2.3,
         4,
         1.3
        ],
        [
         6.5,
         2.8,
         4.6,
         1.5
        ],
        [
         5.7,
         2.8,
         4.5,
         1.3
        ],
        [
         6.3,
         3.3,
         4.7,
         1.6
        ],
        [
         4.9,
         2.4,
         3.3,
         1
        ],
        [
         6.6,
         2.9,
         4.6,
         1.3
        ],
        [
         5.2,
         2.7,
         3.9,
         1.4
        ],
        [
         5,
         2,
         3.5,
         1
        ],
        [
         5.9,
         3,
         4.2,
         1.5
        ],
        [
         6,
         2.2,
         4,
         1
        ],
        [
         6.1,
         2.9,
         4.7,
         1.4
        ],
        [
         5.6,
         2.9,
         3.6,
         1.3
        ],
        [
         6.7,
         3.1,
         4.4,
         1.4
        ],
        [
         5.6,
         3,
         4.5,
         1.5
        ],
        [
         5.8,
         2.7,
         4.1,
         1
        ],
        [
         6.2,
         2.2,
         4.5,
         1.5
        ],
        [
         5.6,
         2.5,
         3.9,
         1.1
        ],
        [
         5.9,
         3.2,
         4.8,
         1.8
        ],
        [
         6.1,
         2.8,
         4,
         1.3
        ],
        [
         6.3,
         2.5,
         4.9,
         1.5
        ],
        [
         6.1,
         2.8,
         4.7,
         1.2
        ],
        [
         6.4,
         2.9,
         4.3,
         1.3
        ],
        [
         6.6,
         3,
         4.4,
         1.4
        ],
        [
         6.8,
         2.8,
         4.8,
         1.4
        ],
        [
         6.7,
         3,
         5,
         1.7
        ],
        [
         6,
         2.9,
         4.5,
         1.5
        ],
        [
         5.7,
         2.6,
         3.5,
         1
        ],
        [
         5.5,
         2.4,
         3.8,
         1.1
        ],
        [
         5.5,
         2.4,
         3.7,
         1
        ],
        [
         5.8,
         2.7,
         3.9,
         1.2
        ],
        [
         6,
         2.7,
         5.1,
         1.6
        ],
        [
         5.4,
         3,
         4.5,
         1.5
        ],
        [
         6,
         3.4,
         4.5,
         1.6
        ],
        [
         6.7,
         3.1,
         4.7,
         1.5
        ],
        [
         6.3,
         2.3,
         4.4,
         1.3
        ],
        [
         5.6,
         3,
         4.1,
         1.3
        ],
        [
         5.5,
         2.5,
         4,
         1.3
        ],
        [
         5.5,
         2.6,
         4.4,
         1.2
        ],
        [
         6.1,
         3,
         4.6,
         1.4
        ],
        [
         5.8,
         2.6,
         4,
         1.2
        ],
        [
         5,
         2.3,
         3.3,
         1
        ],
        [
         5.6,
         2.7,
         4.2,
         1.3
        ],
        [
         5.7,
         3,
         4.2,
         1.2
        ],
        [
         5.7,
         2.9,
         4.2,
         1.3
        ],
        [
         6.2,
         2.9,
         4.3,
         1.3
        ],
        [
         5.1,
         2.5,
         3,
         1.1
        ],
        [
         5.7,
         2.8,
         4.1,
         1.3
        ],
        [
         6.3,
         3.3,
         6,
         2.5
        ],
        [
         5.8,
         2.7,
         5.1,
         1.9
        ],
        [
         7.1,
         3,
         5.9,
         2.1
        ],
        [
         6.3,
         2.9,
         5.6,
         1.8
        ],
        [
         6.5,
         3,
         5.8,
         2.2
        ],
        [
         7.6,
         3,
         6.6,
         2.1
        ],
        [
         4.9,
         2.5,
         4.5,
         1.7
        ],
        [
         7.3,
         2.9,
         6.3,
         1.8
        ],
        [
         6.7,
         2.5,
         5.8,
         1.8
        ],
        [
         7.2,
         3.6,
         6.1,
         2.5
        ],
        [
         6.5,
         3.2,
         5.1,
         2
        ],
        [
         6.4,
         2.7,
         5.3,
         1.9
        ],
        [
         6.8,
         3,
         5.5,
         2.1
        ],
        [
         5.7,
         2.5,
         5,
         2
        ],
        [
         5.8,
         2.8,
         5.1,
         2.4
        ],
        [
         6.4,
         3.2,
         5.3,
         2.3
        ],
        [
         6.5,
         3,
         5.5,
         1.8
        ],
        [
         7.7,
         3.8,
         6.7,
         2.2
        ],
        [
         7.7,
         2.6,
         6.9,
         2.3
        ],
        [
         6,
         2.2,
         5,
         1.5
        ],
        [
         6.9,
         3.2,
         5.7,
         2.3
        ],
        [
         5.6,
         2.8,
         4.9,
         2
        ],
        [
         7.7,
         2.8,
         6.7,
         2
        ],
        [
         6.3,
         2.7,
         4.9,
         1.8
        ],
        [
         6.7,
         3.3,
         5.7,
         2.1
        ],
        [
         7.2,
         3.2,
         6,
         1.8
        ],
        [
         6.2,
         2.8,
         4.8,
         1.8
        ],
        [
         6.1,
         3,
         4.9,
         1.8
        ],
        [
         6.4,
         2.8,
         5.6,
         2.1
        ],
        [
         7.2,
         3,
         5.8,
         1.6
        ],
        [
         7.4,
         2.8,
         6.1,
         1.9
        ],
        [
         7.9,
         3.8,
         6.4,
         2
        ],
        [
         6.4,
         2.8,
         5.6,
         2.2
        ],
        [
         6.3,
         2.8,
         5.1,
         1.5
        ],
        [
         6.1,
         2.6,
         5.6,
         1.4
        ],
        [
         7.7,
         3,
         6.1,
         2.3
        ],
        [
         6.3,
         3.4,
         5.6,
         2.4
        ],
        [
         6.4,
         3.1,
         5.5,
         1.8
        ],
        [
         6,
         3,
         4.8,
         1.8
        ],
        [
         6.9,
         3.1,
         5.4,
         2.1
        ],
        [
         6.7,
         3.1,
         5.6,
         2.4
        ],
        [
         6.9,
         3.1,
         5.1,
         2.3
        ],
        [
         5.8,
         2.7,
         5.1,
         1.9
        ],
        [
         6.8,
         3.2,
         5.9,
         2.3
        ],
        [
         6.7,
         3.3,
         5.7,
         2.5
        ],
        [
         6.7,
         3,
         5.2,
         2.3
        ],
        [
         6.3,
         2.5,
         5,
         1.9
        ],
        [
         6.5,
         3,
         5.2,
         2
        ],
        [
         6.2,
         3.4,
         5.4,
         2.3
        ],
        [
         5.9,
         3,
         5.1,
         1.8
        ]
       ],
       "data_module": "sklearn.datasets.data",
       "feature_names": [
        "sepal length (cm)",
        "sepal width (cm)",
        "petal length (cm)",
        "petal width (cm)"
       ],
       "filename": "iris.csv",
       "frame": null,
       "target": [
        0,
        0,
        0,
        0,
        0,
        0,
        0,
        0,
        0,
        0,
        0,
        0,
        0,
        0,
        0,
        0,
        0,
        0,
        0,
        0,
        0,
        0,
        0,
        0,
        0,
        0,
        0,
        0,
        0,
        0,
        0,
        0,
        0,
        0,
        0,
        0,
        0,
        0,
        0,
        0,
        0,
        0,
        0,
        0,
        0,
        0,
        0,
        0,
        0,
        0,
        1,
        1,
        1,
        1,
        1,
        1,
        1,
        1,
        1,
        1,
        1,
        1,
        1,
        1,
        1,
        1,
        1,
        1,
        1,
        1,
        1,
        1,
        1,
        1,
        1,
        1,
        1,
        1,
        1,
        1,
        1,
        1,
        1,
        1,
        1,
        1,
        1,
        1,
        1,
        1,
        1,
        1,
        1,
        1,
        1,
        1,
        1,
        1,
        1,
        1,
        2,
        2,
        2,
        2,
        2,
        2,
        2,
        2,
        2,
        2,
        2,
        2,
        2,
        2,
        2,
        2,
        2,
        2,
        2,
        2,
        2,
        2,
        2,
        2,
        2,
        2,
        2,
        2,
        2,
        2,
        2,
        2,
        2,
        2,
        2,
        2,
        2,
        2,
        2,
        2,
        2,
        2,
        2,
        2,
        2,
        2,
        2,
        2,
        2,
        2
       ],
       "target_names": [
        "setosa",
        "versicolor",
        "virginica"
       ]
      },
      "text/plain": [
       "<IPython.core.display.JSON object>"
      ]
     },
     "execution_count": 6,
     "metadata": {
      "application/json": {
       "expanded": false,
       "root": "root"
      }
     },
     "output_type": "execute_result"
    }
   ],
   "source": [
    "JSON(iris)"
   ]
  },
  {
   "cell_type": "code",
   "execution_count": 7,
   "id": "0fa89a23-b81a-4ba1-8493-967944af6f8e",
   "metadata": {},
   "outputs": [],
   "source": [
    "X = iris.data\n",
    "Y = iris.target"
   ]
  },
  {
   "cell_type": "code",
   "execution_count": 8,
   "id": "ce27f6c7-a2a3-459e-897a-6373dcf5c918",
   "metadata": {},
   "outputs": [
    {
     "data": {
      "text/plain": [
       "array([0, 0, 0, 0, 0, 0, 0, 0, 0, 0, 0, 0, 0, 0, 0, 0, 0, 0, 0, 0, 0, 0,\n",
       "       0, 0, 0, 0, 0, 0, 0, 0, 0, 0, 0, 0, 0, 0, 0, 0, 0, 0, 0, 0, 0, 0,\n",
       "       0, 0, 0, 0, 0, 0, 1, 1, 1, 1, 1, 1, 1, 1, 1, 1, 1, 1, 1, 1, 1, 1,\n",
       "       1, 1, 1, 1, 1, 1, 1, 1, 1, 1, 1, 1, 1, 1, 1, 1, 1, 1, 1, 1, 1, 1,\n",
       "       1, 1, 1, 1, 1, 1, 1, 1, 1, 1, 1, 1, 2, 2, 2, 2, 2, 2, 2, 2, 2, 2,\n",
       "       2, 2, 2, 2, 2, 2, 2, 2, 2, 2, 2, 2, 2, 2, 2, 2, 2, 2, 2, 2, 2, 2,\n",
       "       2, 2, 2, 2, 2, 2, 2, 2, 2, 2, 2, 2, 2, 2, 2, 2, 2, 2])"
      ]
     },
     "execution_count": 8,
     "metadata": {},
     "output_type": "execute_result"
    }
   ],
   "source": [
    "Y"
   ]
  },
  {
   "cell_type": "markdown",
   "id": "eabe759f-ce3a-45eb-ac2d-358529dfe231",
   "metadata": {},
   "source": [
    "use to_categorical to modify each class\n",
    "\n",
    "0 -> [1, 0, 0]\n",
    "\n",
    "1 -> [0, 1, 0]\n",
    "\n",
    "2 -> [0, 0, 1]"
   ]
  },
  {
   "cell_type": "code",
   "execution_count": 11,
   "id": "3b28d200-0f3f-4772-992c-cb56e89be1e6",
   "metadata": {
    "tags": []
   },
   "outputs": [],
   "source": [
    "Y = to_categorical(Y)"
   ]
  },
  {
   "cell_type": "code",
   "execution_count": 22,
   "id": "e0c365d5-d856-4d65-a6b0-20651543a204",
   "metadata": {},
   "outputs": [
    {
     "name": "stdout",
     "output_type": "stream",
     "text": [
      "X_train: (100, 4)\n",
      "x_test: (100, 3) \n",
      "y_train: (100, 3)  \n",
      "y_test: (50, 3)\n"
     ]
    }
   ],
   "source": [
    "X_train, X_test, y_train, y_test = train_test_split(\n",
    "    X, Y, test_size=1 / 3, random_state=42\n",
    ")\n",
    "\n",
    "print(\n",
    "    f\"X_train: {X_train.shape}\\nx_test: {x_test.shape} \\ny_train: {y_train.shape}  \\ny_test: {y_test.shape}\"\n",
    ")"
   ]
  },
  {
   "cell_type": "code",
   "execution_count": 23,
   "id": "7767892f-0f73-4618-8694-e357d4c7083f",
   "metadata": {},
   "outputs": [],
   "source": [
    "scaler = MinMaxScaler()\n",
    "scaler.fit(X_train)\n",
    "\n",
    "scaled_X_train = scaler.transform(X_train)\n",
    "scaled_X_test = scaler.transform(X_test)"
   ]
  },
  {
   "cell_type": "code",
   "execution_count": 28,
   "id": "a9d95979-f5a0-40e5-a3df-283ced1c2bfe",
   "metadata": {},
   "outputs": [
    {
     "name": "stdout",
     "output_type": "stream",
     "text": [
      "Model: \"sequential_1\"\n",
      "_________________________________________________________________\n",
      " Layer (type)                Output Shape              Param #   \n",
      "=================================================================\n",
      " dense_3 (Dense)             (None, 8)                 40        \n",
      "                                                                 \n",
      " dense_4 (Dense)             (None, 8)                 72        \n",
      "                                                                 \n",
      " dense_5 (Dense)             (None, 3)                 27        \n",
      "                                                                 \n",
      "=================================================================\n",
      "Total params: 139\n",
      "Trainable params: 139\n",
      "Non-trainable params: 0\n",
      "_________________________________________________________________\n"
     ]
    }
   ],
   "source": [
    "model = Sequential()\n",
    "\n",
    "model.add(Dense(8, input_dim=4, activation=\"relu\"))\n",
    "model.add(Dense(8, input_dim=4, activation=\"relu\"))\n",
    "model.add(Dense(3, activation=\"softmax\"))\n",
    "model.compile(loss=\"categorical_crossentropy\", optimizer=\"adam\", metrics=[\"accuracy\"])\n",
    "\n",
    "model.summary()"
   ]
  },
  {
   "cell_type": "code",
   "execution_count": 29,
   "id": "b015c508-43c5-4073-ae82-632d53b93952",
   "metadata": {
    "collapsed": true,
    "jupyter": {
     "outputs_hidden": true
    },
    "tags": []
   },
   "outputs": [
    {
     "name": "stdout",
     "output_type": "stream",
     "text": [
      "Epoch 1/150\n",
      "4/4 [==============================] - 0s 4ms/step - loss: 1.1086 - accuracy: 0.3400\n",
      "Epoch 2/150\n",
      "4/4 [==============================] - 0s 2ms/step - loss: 1.0975 - accuracy: 0.3400\n",
      "Epoch 3/150\n",
      "4/4 [==============================] - 0s 1ms/step - loss: 1.0860 - accuracy: 0.3300\n",
      "Epoch 4/150\n",
      "4/4 [==============================] - 0s 2ms/step - loss: 1.0763 - accuracy: 0.3100\n",
      "Epoch 5/150\n",
      "4/4 [==============================] - 0s 2ms/step - loss: 1.0669 - accuracy: 0.3200\n",
      "Epoch 6/150\n",
      "4/4 [==============================] - 0s 2ms/step - loss: 1.0569 - accuracy: 0.3600\n",
      "Epoch 7/150\n",
      "4/4 [==============================] - 0s 2ms/step - loss: 1.0481 - accuracy: 0.3500\n",
      "Epoch 8/150\n",
      "4/4 [==============================] - 0s 2ms/step - loss: 1.0389 - accuracy: 0.4000\n",
      "Epoch 9/150\n",
      "4/4 [==============================] - 0s 2ms/step - loss: 1.0285 - accuracy: 0.4000\n",
      "Epoch 10/150\n",
      "4/4 [==============================] - 0s 2ms/step - loss: 1.0188 - accuracy: 0.4100\n",
      "Epoch 11/150\n",
      "4/4 [==============================] - 0s 1ms/step - loss: 1.0090 - accuracy: 0.4400\n",
      "Epoch 12/150\n",
      "4/4 [==============================] - 0s 2ms/step - loss: 0.9992 - accuracy: 0.4300\n",
      "Epoch 13/150\n",
      "4/4 [==============================] - 0s 2ms/step - loss: 0.9889 - accuracy: 0.4100\n",
      "Epoch 14/150\n",
      "4/4 [==============================] - 0s 2ms/step - loss: 0.9797 - accuracy: 0.3800\n",
      "Epoch 15/150\n",
      "4/4 [==============================] - 0s 2ms/step - loss: 0.9708 - accuracy: 0.3700\n",
      "Epoch 16/150\n",
      "4/4 [==============================] - 0s 2ms/step - loss: 0.9625 - accuracy: 0.4200\n",
      "Epoch 17/150\n",
      "4/4 [==============================] - 0s 3ms/step - loss: 0.9550 - accuracy: 0.5600\n",
      "Epoch 18/150\n",
      "4/4 [==============================] - 0s 2ms/step - loss: 0.9474 - accuracy: 0.5900\n",
      "Epoch 19/150\n",
      "4/4 [==============================] - 0s 2ms/step - loss: 0.9394 - accuracy: 0.6100\n",
      "Epoch 20/150\n",
      "4/4 [==============================] - 0s 1ms/step - loss: 0.9311 - accuracy: 0.6400\n",
      "Epoch 21/150\n",
      "4/4 [==============================] - 0s 2ms/step - loss: 0.9232 - accuracy: 0.6400\n",
      "Epoch 22/150\n",
      "4/4 [==============================] - 0s 2ms/step - loss: 0.9151 - accuracy: 0.6400\n",
      "Epoch 23/150\n",
      "4/4 [==============================] - 0s 2ms/step - loss: 0.9070 - accuracy: 0.6400\n",
      "Epoch 24/150\n",
      "4/4 [==============================] - 0s 2ms/step - loss: 0.8984 - accuracy: 0.6400\n",
      "Epoch 25/150\n",
      "4/4 [==============================] - 0s 2ms/step - loss: 0.8902 - accuracy: 0.6400\n",
      "Epoch 26/150\n",
      "4/4 [==============================] - 0s 1ms/step - loss: 0.8821 - accuracy: 0.6400\n",
      "Epoch 27/150\n",
      "4/4 [==============================] - 0s 2ms/step - loss: 0.8737 - accuracy: 0.6400\n",
      "Epoch 28/150\n",
      "4/4 [==============================] - 0s 2ms/step - loss: 0.8651 - accuracy: 0.6400\n",
      "Epoch 29/150\n",
      "4/4 [==============================] - 0s 2ms/step - loss: 0.8565 - accuracy: 0.6400\n",
      "Epoch 30/150\n",
      "4/4 [==============================] - 0s 2ms/step - loss: 0.8480 - accuracy: 0.6400\n",
      "Epoch 31/150\n",
      "4/4 [==============================] - 0s 2ms/step - loss: 0.8396 - accuracy: 0.6400\n",
      "Epoch 32/150\n",
      "4/4 [==============================] - 0s 2ms/step - loss: 0.8308 - accuracy: 0.6400\n",
      "Epoch 33/150\n",
      "4/4 [==============================] - 0s 2ms/step - loss: 0.8220 - accuracy: 0.6400\n",
      "Epoch 34/150\n",
      "4/4 [==============================] - 0s 1ms/step - loss: 0.8136 - accuracy: 0.6500\n",
      "Epoch 35/150\n",
      "4/4 [==============================] - 0s 2ms/step - loss: 0.8049 - accuracy: 0.6500\n",
      "Epoch 36/150\n",
      "4/4 [==============================] - 0s 1ms/step - loss: 0.7962 - accuracy: 0.6500\n",
      "Epoch 37/150\n",
      "4/4 [==============================] - 0s 2ms/step - loss: 0.7874 - accuracy: 0.6500\n",
      "Epoch 38/150\n",
      "4/4 [==============================] - 0s 2ms/step - loss: 0.7787 - accuracy: 0.6500\n",
      "Epoch 39/150\n",
      "4/4 [==============================] - 0s 2ms/step - loss: 0.7701 - accuracy: 0.6500\n",
      "Epoch 40/150\n",
      "4/4 [==============================] - 0s 1ms/step - loss: 0.7613 - accuracy: 0.6500\n",
      "Epoch 41/150\n",
      "4/4 [==============================] - 0s 2ms/step - loss: 0.7530 - accuracy: 0.6500\n",
      "Epoch 42/150\n",
      "4/4 [==============================] - 0s 1ms/step - loss: 0.7443 - accuracy: 0.6500\n",
      "Epoch 43/150\n",
      "4/4 [==============================] - 0s 2ms/step - loss: 0.7354 - accuracy: 0.6500\n",
      "Epoch 44/150\n",
      "4/4 [==============================] - 0s 1ms/step - loss: 0.7272 - accuracy: 0.6500\n",
      "Epoch 45/150\n",
      "4/4 [==============================] - 0s 2ms/step - loss: 0.7187 - accuracy: 0.6500\n",
      "Epoch 46/150\n",
      "4/4 [==============================] - 0s 1ms/step - loss: 0.7106 - accuracy: 0.6500\n",
      "Epoch 47/150\n",
      "4/4 [==============================] - 0s 2ms/step - loss: 0.7026 - accuracy: 0.6500\n",
      "Epoch 48/150\n",
      "4/4 [==============================] - 0s 2ms/step - loss: 0.6950 - accuracy: 0.6500\n",
      "Epoch 49/150\n",
      "4/4 [==============================] - 0s 2ms/step - loss: 0.6878 - accuracy: 0.6500\n",
      "Epoch 50/150\n",
      "4/4 [==============================] - 0s 2ms/step - loss: 0.6801 - accuracy: 0.6500\n",
      "Epoch 51/150\n",
      "4/4 [==============================] - 0s 2ms/step - loss: 0.6728 - accuracy: 0.6600\n",
      "Epoch 52/150\n",
      "4/4 [==============================] - 0s 2ms/step - loss: 0.6650 - accuracy: 0.6600\n",
      "Epoch 53/150\n",
      "4/4 [==============================] - 0s 2ms/step - loss: 0.6572 - accuracy: 0.6600\n",
      "Epoch 54/150\n",
      "4/4 [==============================] - 0s 2ms/step - loss: 0.6497 - accuracy: 0.6500\n",
      "Epoch 55/150\n",
      "4/4 [==============================] - 0s 1ms/step - loss: 0.6424 - accuracy: 0.6500\n",
      "Epoch 56/150\n",
      "4/4 [==============================] - 0s 1ms/step - loss: 0.6353 - accuracy: 0.6500\n",
      "Epoch 57/150\n",
      "4/4 [==============================] - 0s 1ms/step - loss: 0.6279 - accuracy: 0.6500\n",
      "Epoch 58/150\n",
      "4/4 [==============================] - 0s 2ms/step - loss: 0.6209 - accuracy: 0.6500\n",
      "Epoch 59/150\n",
      "4/4 [==============================] - 0s 2ms/step - loss: 0.6146 - accuracy: 0.6600\n",
      "Epoch 60/150\n",
      "4/4 [==============================] - 0s 2ms/step - loss: 0.6072 - accuracy: 0.6600\n",
      "Epoch 61/150\n",
      "4/4 [==============================] - 0s 1ms/step - loss: 0.6008 - accuracy: 0.6700\n",
      "Epoch 62/150\n",
      "4/4 [==============================] - 0s 2ms/step - loss: 0.5944 - accuracy: 0.6700\n",
      "Epoch 63/150\n",
      "4/4 [==============================] - 0s 1ms/step - loss: 0.5882 - accuracy: 0.6700\n",
      "Epoch 64/150\n",
      "4/4 [==============================] - 0s 1ms/step - loss: 0.5822 - accuracy: 0.6700\n",
      "Epoch 65/150\n",
      "4/4 [==============================] - 0s 2ms/step - loss: 0.5764 - accuracy: 0.6800\n",
      "Epoch 66/150\n",
      "4/4 [==============================] - 0s 1ms/step - loss: 0.5710 - accuracy: 0.6900\n",
      "Epoch 67/150\n",
      "4/4 [==============================] - 0s 2ms/step - loss: 0.5649 - accuracy: 0.6900\n",
      "Epoch 68/150\n",
      "4/4 [==============================] - 0s 1ms/step - loss: 0.5590 - accuracy: 0.6900\n",
      "Epoch 69/150\n",
      "4/4 [==============================] - 0s 2ms/step - loss: 0.5544 - accuracy: 0.6700\n",
      "Epoch 70/150\n",
      "4/4 [==============================] - 0s 2ms/step - loss: 0.5499 - accuracy: 0.6700\n",
      "Epoch 71/150\n",
      "4/4 [==============================] - 0s 2ms/step - loss: 0.5453 - accuracy: 0.6700\n",
      "Epoch 72/150\n",
      "4/4 [==============================] - 0s 1ms/step - loss: 0.5405 - accuracy: 0.6700\n",
      "Epoch 73/150\n",
      "4/4 [==============================] - 0s 2ms/step - loss: 0.5356 - accuracy: 0.6800\n",
      "Epoch 74/150\n",
      "4/4 [==============================] - 0s 2ms/step - loss: 0.5313 - accuracy: 0.6900\n",
      "Epoch 75/150\n",
      "4/4 [==============================] - 0s 1ms/step - loss: 0.5270 - accuracy: 0.7000\n",
      "Epoch 76/150\n",
      "4/4 [==============================] - 0s 1ms/step - loss: 0.5228 - accuracy: 0.7000\n",
      "Epoch 77/150\n",
      "4/4 [==============================] - 0s 2ms/step - loss: 0.5190 - accuracy: 0.6900\n",
      "Epoch 78/150\n",
      "4/4 [==============================] - 0s 2ms/step - loss: 0.5156 - accuracy: 0.6900\n",
      "Epoch 79/150\n",
      "4/4 [==============================] - 0s 2ms/step - loss: 0.5121 - accuracy: 0.6800\n",
      "Epoch 80/150\n",
      "4/4 [==============================] - 0s 2ms/step - loss: 0.5089 - accuracy: 0.6800\n",
      "Epoch 81/150\n",
      "4/4 [==============================] - 0s 1ms/step - loss: 0.5057 - accuracy: 0.6800\n",
      "Epoch 82/150\n",
      "4/4 [==============================] - 0s 1ms/step - loss: 0.5020 - accuracy: 0.6900\n",
      "Epoch 83/150\n",
      "4/4 [==============================] - 0s 2ms/step - loss: 0.4983 - accuracy: 0.6900\n",
      "Epoch 84/150\n",
      "4/4 [==============================] - 0s 2ms/step - loss: 0.4937 - accuracy: 0.7200\n",
      "Epoch 85/150\n",
      "4/4 [==============================] - 0s 2ms/step - loss: 0.4897 - accuracy: 0.7400\n",
      "Epoch 86/150\n",
      "4/4 [==============================] - 0s 1ms/step - loss: 0.4857 - accuracy: 0.7900\n",
      "Epoch 87/150\n",
      "4/4 [==============================] - 0s 2ms/step - loss: 0.4822 - accuracy: 0.8000\n",
      "Epoch 88/150\n",
      "4/4 [==============================] - 0s 1ms/step - loss: 0.4790 - accuracy: 0.8300\n",
      "Epoch 89/150\n",
      "4/4 [==============================] - 0s 1ms/step - loss: 0.4763 - accuracy: 0.8900\n",
      "Epoch 90/150\n",
      "4/4 [==============================] - 0s 1ms/step - loss: 0.4728 - accuracy: 0.9000\n",
      "Epoch 91/150\n",
      "4/4 [==============================] - 0s 1ms/step - loss: 0.4693 - accuracy: 0.9000\n",
      "Epoch 92/150\n",
      "4/4 [==============================] - 0s 1ms/step - loss: 0.4665 - accuracy: 0.9000\n",
      "Epoch 93/150\n",
      "4/4 [==============================] - 0s 2ms/step - loss: 0.4631 - accuracy: 0.9100\n",
      "Epoch 94/150\n",
      "4/4 [==============================] - 0s 1ms/step - loss: 0.4601 - accuracy: 0.9000\n",
      "Epoch 95/150\n",
      "4/4 [==============================] - 0s 2ms/step - loss: 0.4567 - accuracy: 0.9100\n",
      "Epoch 96/150\n",
      "4/4 [==============================] - 0s 1ms/step - loss: 0.4544 - accuracy: 0.9100\n",
      "Epoch 97/150\n",
      "4/4 [==============================] - 0s 1ms/step - loss: 0.4519 - accuracy: 0.9100\n",
      "Epoch 98/150\n",
      "4/4 [==============================] - 0s 1ms/step - loss: 0.4486 - accuracy: 0.9100\n",
      "Epoch 99/150\n",
      "4/4 [==============================] - 0s 2ms/step - loss: 0.4449 - accuracy: 0.9100\n",
      "Epoch 100/150\n",
      "4/4 [==============================] - 0s 1ms/step - loss: 0.4418 - accuracy: 0.9100\n",
      "Epoch 101/150\n",
      "4/4 [==============================] - 0s 2ms/step - loss: 0.4393 - accuracy: 0.9100\n",
      "Epoch 102/150\n",
      "4/4 [==============================] - 0s 2ms/step - loss: 0.4367 - accuracy: 0.9100\n",
      "Epoch 103/150\n",
      "4/4 [==============================] - 0s 1ms/step - loss: 0.4339 - accuracy: 0.9100\n",
      "Epoch 104/150\n",
      "4/4 [==============================] - 0s 2ms/step - loss: 0.4315 - accuracy: 0.9100\n",
      "Epoch 105/150\n",
      "4/4 [==============================] - 0s 1ms/step - loss: 0.4285 - accuracy: 0.9100\n",
      "Epoch 106/150\n",
      "4/4 [==============================] - 0s 1ms/step - loss: 0.4259 - accuracy: 0.9100\n",
      "Epoch 107/150\n",
      "4/4 [==============================] - 0s 1ms/step - loss: 0.4233 - accuracy: 0.9100\n",
      "Epoch 108/150\n",
      "4/4 [==============================] - 0s 1ms/step - loss: 0.4207 - accuracy: 0.9100\n",
      "Epoch 109/150\n",
      "4/4 [==============================] - 0s 2ms/step - loss: 0.4179 - accuracy: 0.9100\n",
      "Epoch 110/150\n",
      "4/4 [==============================] - 0s 2ms/step - loss: 0.4154 - accuracy: 0.9100\n",
      "Epoch 111/150\n",
      "4/4 [==============================] - 0s 1ms/step - loss: 0.4132 - accuracy: 0.9200\n",
      "Epoch 112/150\n",
      "4/4 [==============================] - 0s 2ms/step - loss: 0.4105 - accuracy: 0.9200\n",
      "Epoch 113/150\n",
      "4/4 [==============================] - 0s 2ms/step - loss: 0.4076 - accuracy: 0.9100\n",
      "Epoch 114/150\n",
      "4/4 [==============================] - 0s 1ms/step - loss: 0.4050 - accuracy: 0.9200\n",
      "Epoch 115/150\n",
      "4/4 [==============================] - 0s 1ms/step - loss: 0.4028 - accuracy: 0.9300\n",
      "Epoch 116/150\n",
      "4/4 [==============================] - 0s 1ms/step - loss: 0.4002 - accuracy: 0.9300\n",
      "Epoch 117/150\n",
      "4/4 [==============================] - 0s 2ms/step - loss: 0.3976 - accuracy: 0.9300\n",
      "Epoch 118/150\n",
      "4/4 [==============================] - 0s 2ms/step - loss: 0.3950 - accuracy: 0.9300\n",
      "Epoch 119/150\n",
      "4/4 [==============================] - 0s 1ms/step - loss: 0.3924 - accuracy: 0.9300\n",
      "Epoch 120/150\n",
      "4/4 [==============================] - 0s 1ms/step - loss: 0.3898 - accuracy: 0.9300\n",
      "Epoch 121/150\n",
      "4/4 [==============================] - 0s 2ms/step - loss: 0.3874 - accuracy: 0.9300\n",
      "Epoch 122/150\n",
      "4/4 [==============================] - 0s 1ms/step - loss: 0.3846 - accuracy: 0.9300\n",
      "Epoch 123/150\n",
      "4/4 [==============================] - 0s 2ms/step - loss: 0.3820 - accuracy: 0.9400\n",
      "Epoch 124/150\n",
      "4/4 [==============================] - 0s 2ms/step - loss: 0.3805 - accuracy: 0.9500\n",
      "Epoch 125/150\n",
      "4/4 [==============================] - 0s 1ms/step - loss: 0.3787 - accuracy: 0.9500\n",
      "Epoch 126/150\n",
      "4/4 [==============================] - 0s 2ms/step - loss: 0.3778 - accuracy: 0.9400\n",
      "Epoch 127/150\n",
      "4/4 [==============================] - 0s 2ms/step - loss: 0.3757 - accuracy: 0.9400\n",
      "Epoch 128/150\n",
      "4/4 [==============================] - 0s 2ms/step - loss: 0.3729 - accuracy: 0.9400\n",
      "Epoch 129/150\n",
      "4/4 [==============================] - 0s 2ms/step - loss: 0.3697 - accuracy: 0.9400\n",
      "Epoch 130/150\n",
      "4/4 [==============================] - 0s 2ms/step - loss: 0.3661 - accuracy: 0.9500\n",
      "Epoch 131/150\n",
      "4/4 [==============================] - 0s 1ms/step - loss: 0.3633 - accuracy: 0.9400\n",
      "Epoch 132/150\n",
      "4/4 [==============================] - 0s 1ms/step - loss: 0.3601 - accuracy: 0.9400\n",
      "Epoch 133/150\n",
      "4/4 [==============================] - 0s 2ms/step - loss: 0.3583 - accuracy: 0.9400\n",
      "Epoch 134/150\n",
      "4/4 [==============================] - 0s 2ms/step - loss: 0.3567 - accuracy: 0.9400\n",
      "Epoch 135/150\n",
      "4/4 [==============================] - 0s 2ms/step - loss: 0.3545 - accuracy: 0.9300\n",
      "Epoch 136/150\n",
      "4/4 [==============================] - 0s 2ms/step - loss: 0.3518 - accuracy: 0.9400\n",
      "Epoch 137/150\n",
      "4/4 [==============================] - 0s 2ms/step - loss: 0.3489 - accuracy: 0.9400\n",
      "Epoch 138/150\n",
      "4/4 [==============================] - 0s 1ms/step - loss: 0.3463 - accuracy: 0.9400\n",
      "Epoch 139/150\n",
      "4/4 [==============================] - 0s 2ms/step - loss: 0.3441 - accuracy: 0.9400\n",
      "Epoch 140/150\n",
      "4/4 [==============================] - 0s 1ms/step - loss: 0.3414 - accuracy: 0.9400\n",
      "Epoch 141/150\n",
      "4/4 [==============================] - 0s 2ms/step - loss: 0.3393 - accuracy: 0.9400\n",
      "Epoch 142/150\n",
      "4/4 [==============================] - 0s 1ms/step - loss: 0.3370 - accuracy: 0.9400\n",
      "Epoch 143/150\n",
      "4/4 [==============================] - 0s 2ms/step - loss: 0.3349 - accuracy: 0.9400\n",
      "Epoch 144/150\n",
      "4/4 [==============================] - 0s 1ms/step - loss: 0.3324 - accuracy: 0.9400\n",
      "Epoch 145/150\n",
      "4/4 [==============================] - 0s 1ms/step - loss: 0.3299 - accuracy: 0.9400\n",
      "Epoch 146/150\n",
      "4/4 [==============================] - 0s 1ms/step - loss: 0.3277 - accuracy: 0.9400\n",
      "Epoch 147/150\n",
      "4/4 [==============================] - 0s 2ms/step - loss: 0.3254 - accuracy: 0.9400\n",
      "Epoch 148/150\n",
      "4/4 [==============================] - 0s 1ms/step - loss: 0.3230 - accuracy: 0.9500\n",
      "Epoch 149/150\n",
      "4/4 [==============================] - 0s 1ms/step - loss: 0.3204 - accuracy: 0.9500\n",
      "Epoch 150/150\n",
      "4/4 [==============================] - 0s 1ms/step - loss: 0.3185 - accuracy: 0.9500\n"
     ]
    },
    {
     "data": {
      "text/plain": [
       "<keras.callbacks.History at 0x21db5d5e700>"
      ]
     },
     "execution_count": 29,
     "metadata": {},
     "output_type": "execute_result"
    }
   ],
   "source": [
    "model.fit(scaled_X_train, y_train, epochs=150, verbose=True)"
   ]
  },
  {
   "cell_type": "code",
   "execution_count": 43,
   "id": "1e25e735-8a55-464f-8206-b8fd5320a271",
   "metadata": {},
   "outputs": [
    {
     "name": "stdout",
     "output_type": "stream",
     "text": [
      "2/2 [==============================] - 0s 2ms/step\n"
     ]
    },
    {
     "data": {
      "text/plain": [
       "array([1, 0, 2, 1, 1, 0, 1, 2, 2, 1, 2, 0, 0, 0, 0, 1, 2, 1, 1, 2, 0, 2,\n",
       "       0, 2, 1, 2, 2, 2, 0, 0, 0, 0, 1, 0, 0, 2, 1, 0, 0, 0, 2, 1, 1, 0,\n",
       "       0, 1, 2, 2, 1, 2], dtype=int64)"
      ]
     },
     "execution_count": 43,
     "metadata": {},
     "output_type": "execute_result"
    }
   ],
   "source": [
    "predictions = model.predict(scaled_X_test).argmax(axis=1)\n",
    "predictions"
   ]
  },
  {
   "cell_type": "code",
   "execution_count": 37,
   "id": "37fd3852-23f5-4b4f-a634-a9f9bad2484d",
   "metadata": {},
   "outputs": [
    {
     "data": {
      "text/plain": [
       "array([1, 0, 2, 1, 1, 0, 1, 2, 1, 1, 2, 0, 0, 0, 0, 1, 2, 1, 1, 2, 0, 2,\n",
       "       0, 2, 2, 2, 2, 2, 0, 0, 0, 0, 1, 0, 0, 2, 1, 0, 0, 0, 2, 1, 1, 0,\n",
       "       0, 1, 2, 2, 1, 2], dtype=int64)"
      ]
     },
     "execution_count": 37,
     "metadata": {},
     "output_type": "execute_result"
    }
   ],
   "source": [
    "y_test.argmax(axis=1)"
   ]
  },
  {
   "cell_type": "code",
   "execution_count": 44,
   "id": "fd08dd5e-3982-4782-9f1b-c329b9841a01",
   "metadata": {},
   "outputs": [
    {
     "name": "stdout",
     "output_type": "stream",
     "text": [
      "2/2 [==============================] - 0s 1ms/step\n"
     ]
    },
    {
     "data": {
      "text/plain": [
       "array([[19,  0,  0],\n",
       "       [ 0, 14,  1],\n",
       "       [ 0,  1, 15]], dtype=int64)"
      ]
     },
     "execution_count": 44,
     "metadata": {},
     "output_type": "execute_result"
    }
   ],
   "source": [
    "confusion_matrix(y_test.argmax(axis=1), model.predict(scaled_X_test).argmax(axis=1))"
   ]
  },
  {
   "cell_type": "code",
   "execution_count": 46,
   "id": "50b9fe05-b744-4b86-86e7-9e69b9e91dee",
   "metadata": {},
   "outputs": [
    {
     "name": "stdout",
     "output_type": "stream",
     "text": [
      "2/2 [==============================] - 0s 2ms/step\n",
      "              precision    recall  f1-score   support\n",
      "\n",
      "           0       1.00      1.00      1.00        19\n",
      "           1       0.93      0.93      0.93        15\n",
      "           2       0.94      0.94      0.94        16\n",
      "\n",
      "    accuracy                           0.96        50\n",
      "   macro avg       0.96      0.96      0.96        50\n",
      "weighted avg       0.96      0.96      0.96        50\n",
      "\n"
     ]
    }
   ],
   "source": [
    "print(\n",
    "    classification_report(\n",
    "        y_test.argmax(axis=1), model.predict(scaled_X_test).argmax(axis=1)\n",
    "    )\n",
    ")"
   ]
  },
  {
   "cell_type": "code",
   "execution_count": 47,
   "id": "e69c6bed-542c-493f-8993-bd7646dee9f8",
   "metadata": {},
   "outputs": [
    {
     "name": "stdout",
     "output_type": "stream",
     "text": [
      "2/2 [==============================] - 0s 1000us/step\n"
     ]
    },
    {
     "data": {
      "text/plain": [
       "0.96"
      ]
     },
     "execution_count": 47,
     "metadata": {},
     "output_type": "execute_result"
    }
   ],
   "source": [
    "accuracy_score(y_test.argmax(axis=1), model.predict(scaled_X_test).argmax(axis=1))"
   ]
  },
  {
   "cell_type": "code",
   "execution_count": 49,
   "id": "5f7deb85-f45e-4db5-b85f-a36a01d10dfc",
   "metadata": {},
   "outputs": [],
   "source": [
    "model.save(\"first_nlp_model.h5\")  # save weights"
   ]
  },
  {
   "cell_type": "code",
   "execution_count": 51,
   "id": "6c4618fb-2a3d-4051-ac6f-0ba5bd3a5ffb",
   "metadata": {},
   "outputs": [
    {
     "data": {
      "text/plain": [
       "<keras.engine.sequential.Sequential at 0x21db4726d00>"
      ]
     },
     "execution_count": 51,
     "metadata": {},
     "output_type": "execute_result"
    }
   ],
   "source": [
    "first_model = load_model(\"first_nlp_model.h5\")\n",
    "first_model"
   ]
  }
 ],
 "metadata": {
  "kernelspec": {
   "display_name": "Python 3 (ipykernel)",
   "language": "python",
   "name": "python3"
  },
  "language_info": {
   "codemirror_mode": {
    "name": "ipython",
    "version": 3
   },
   "file_extension": ".py",
   "mimetype": "text/x-python",
   "name": "python",
   "nbconvert_exporter": "python",
   "pygments_lexer": "ipython3",
   "version": "3.9.13"
  }
 },
 "nbformat": 4,
 "nbformat_minor": 5
}
