{
 "cells": [
  {
   "cell_type": "code",
   "execution_count": 26,
   "id": "4e6edfcd-eba8-44ec-bcf9-6e8d55b199e3",
   "metadata": {},
   "outputs": [
    {
     "name": "stdout",
     "output_type": "stream",
     "text": [
      "The lab_black extension is already loaded. To reload it, use:\n",
      "  %reload_ext lab_black\n"
     ]
    }
   ],
   "source": [
    "%load_ext lab_black\n",
    "import pandas as pd\n",
    "from sklearn.datasets import load_iris\n",
    "from IPython.display import JSON\n",
    "from keras.utils import to_categorical\n",
    "from sklearn.model_selection import train_test_split\n",
    "from sklearn.preprocessing import MinMaxScaler\n",
    "from keras.models import Sequential\n",
    "from keras.layers import Dense\n",
    "\n",
    "iris = load_iris()"
   ]
  },
  {
   "cell_type": "code",
   "execution_count": 6,
   "id": "738c2578-3693-4e17-93f8-cc80b207c48c",
   "metadata": {},
   "outputs": [
    {
     "data": {
      "application/json": {
       "DESCR": ".. _iris_dataset:\n\nIris plants dataset\n--------------------\n\n**Data Set Characteristics:**\n\n    :Number of Instances: 150 (50 in each of three classes)\n    :Number of Attributes: 4 numeric, predictive attributes and the class\n    :Attribute Information:\n        - sepal length in cm\n        - sepal width in cm\n        - petal length in cm\n        - petal width in cm\n        - class:\n                - Iris-Setosa\n                - Iris-Versicolour\n                - Iris-Virginica\n                \n    :Summary Statistics:\n\n    ============== ==== ==== ======= ===== ====================\n                    Min  Max   Mean    SD   Class Correlation\n    ============== ==== ==== ======= ===== ====================\n    sepal length:   4.3  7.9   5.84   0.83    0.7826\n    sepal width:    2.0  4.4   3.05   0.43   -0.4194\n    petal length:   1.0  6.9   3.76   1.76    0.9490  (high!)\n    petal width:    0.1  2.5   1.20   0.76    0.9565  (high!)\n    ============== ==== ==== ======= ===== ====================\n\n    :Missing Attribute Values: None\n    :Class Distribution: 33.3% for each of 3 classes.\n    :Creator: R.A. Fisher\n    :Donor: Michael Marshall (MARSHALL%PLU@io.arc.nasa.gov)\n    :Date: July, 1988\n\nThe famous Iris database, first used by Sir R.A. Fisher. The dataset is taken\nfrom Fisher's paper. Note that it's the same as in R, but not as in the UCI\nMachine Learning Repository, which has two wrong data points.\n\nThis is perhaps the best known database to be found in the\npattern recognition literature.  Fisher's paper is a classic in the field and\nis referenced frequently to this day.  (See Duda & Hart, for example.)  The\ndata set contains 3 classes of 50 instances each, where each class refers to a\ntype of iris plant.  One class is linearly separable from the other 2; the\nlatter are NOT linearly separable from each other.\n\n.. topic:: References\n\n   - Fisher, R.A. \"The use of multiple measurements in taxonomic problems\"\n     Annual Eugenics, 7, Part II, 179-188 (1936); also in \"Contributions to\n     Mathematical Statistics\" (John Wiley, NY, 1950).\n   - Duda, R.O., & Hart, P.E. (1973) Pattern Classification and Scene Analysis.\n     (Q327.D83) John Wiley & Sons.  ISBN 0-471-22361-1.  See page 218.\n   - Dasarathy, B.V. (1980) \"Nosing Around the Neighborhood: A New System\n     Structure and Classification Rule for Recognition in Partially Exposed\n     Environments\".  IEEE Transactions on Pattern Analysis and Machine\n     Intelligence, Vol. PAMI-2, No. 1, 67-71.\n   - Gates, G.W. (1972) \"The Reduced Nearest Neighbor Rule\".  IEEE Transactions\n     on Information Theory, May 1972, 431-433.\n   - See also: 1988 MLC Proceedings, 54-64.  Cheeseman et al\"s AUTOCLASS II\n     conceptual clustering system finds 3 classes in the data.\n   - Many, many more ...",
       "data": [
        [
         5.1,
         3.5,
         1.4,
         0.2
        ],
        [
         4.9,
         3,
         1.4,
         0.2
        ],
        [
         4.7,
         3.2,
         1.3,
         0.2
        ],
        [
         4.6,
         3.1,
         1.5,
         0.2
        ],
        [
         5,
         3.6,
         1.4,
         0.2
        ],
        [
         5.4,
         3.9,
         1.7,
         0.4
        ],
        [
         4.6,
         3.4,
         1.4,
         0.3
        ],
        [
         5,
         3.4,
         1.5,
         0.2
        ],
        [
         4.4,
         2.9,
         1.4,
         0.2
        ],
        [
         4.9,
         3.1,
         1.5,
         0.1
        ],
        [
         5.4,
         3.7,
         1.5,
         0.2
        ],
        [
         4.8,
         3.4,
         1.6,
         0.2
        ],
        [
         4.8,
         3,
         1.4,
         0.1
        ],
        [
         4.3,
         3,
         1.1,
         0.1
        ],
        [
         5.8,
         4,
         1.2,
         0.2
        ],
        [
         5.7,
         4.4,
         1.5,
         0.4
        ],
        [
         5.4,
         3.9,
         1.3,
         0.4
        ],
        [
         5.1,
         3.5,
         1.4,
         0.3
        ],
        [
         5.7,
         3.8,
         1.7,
         0.3
        ],
        [
         5.1,
         3.8,
         1.5,
         0.3
        ],
        [
         5.4,
         3.4,
         1.7,
         0.2
        ],
        [
         5.1,
         3.7,
         1.5,
         0.4
        ],
        [
         4.6,
         3.6,
         1,
         0.2
        ],
        [
         5.1,
         3.3,
         1.7,
         0.5
        ],
        [
         4.8,
         3.4,
         1.9,
         0.2
        ],
        [
         5,
         3,
         1.6,
         0.2
        ],
        [
         5,
         3.4,
         1.6,
         0.4
        ],
        [
         5.2,
         3.5,
         1.5,
         0.2
        ],
        [
         5.2,
         3.4,
         1.4,
         0.2
        ],
        [
         4.7,
         3.2,
         1.6,
         0.2
        ],
        [
         4.8,
         3.1,
         1.6,
         0.2
        ],
        [
         5.4,
         3.4,
         1.5,
         0.4
        ],
        [
         5.2,
         4.1,
         1.5,
         0.1
        ],
        [
         5.5,
         4.2,
         1.4,
         0.2
        ],
        [
         4.9,
         3.1,
         1.5,
         0.2
        ],
        [
         5,
         3.2,
         1.2,
         0.2
        ],
        [
         5.5,
         3.5,
         1.3,
         0.2
        ],
        [
         4.9,
         3.6,
         1.4,
         0.1
        ],
        [
         4.4,
         3,
         1.3,
         0.2
        ],
        [
         5.1,
         3.4,
         1.5,
         0.2
        ],
        [
         5,
         3.5,
         1.3,
         0.3
        ],
        [
         4.5,
         2.3,
         1.3,
         0.3
        ],
        [
         4.4,
         3.2,
         1.3,
         0.2
        ],
        [
         5,
         3.5,
         1.6,
         0.6
        ],
        [
         5.1,
         3.8,
         1.9,
         0.4
        ],
        [
         4.8,
         3,
         1.4,
         0.3
        ],
        [
         5.1,
         3.8,
         1.6,
         0.2
        ],
        [
         4.6,
         3.2,
         1.4,
         0.2
        ],
        [
         5.3,
         3.7,
         1.5,
         0.2
        ],
        [
         5,
         3.3,
         1.4,
         0.2
        ],
        [
         7,
         3.2,
         4.7,
         1.4
        ],
        [
         6.4,
         3.2,
         4.5,
         1.5
        ],
        [
         6.9,
         3.1,
         4.9,
         1.5
        ],
        [
         5.5,
         2.3,
         4,
         1.3
        ],
        [
         6.5,
         2.8,
         4.6,
         1.5
        ],
        [
         5.7,
         2.8,
         4.5,
         1.3
        ],
        [
         6.3,
         3.3,
         4.7,
         1.6
        ],
        [
         4.9,
         2.4,
         3.3,
         1
        ],
        [
         6.6,
         2.9,
         4.6,
         1.3
        ],
        [
         5.2,
         2.7,
         3.9,
         1.4
        ],
        [
         5,
         2,
         3.5,
         1
        ],
        [
         5.9,
         3,
         4.2,
         1.5
        ],
        [
         6,
         2.2,
         4,
         1
        ],
        [
         6.1,
         2.9,
         4.7,
         1.4
        ],
        [
         5.6,
         2.9,
         3.6,
         1.3
        ],
        [
         6.7,
         3.1,
         4.4,
         1.4
        ],
        [
         5.6,
         3,
         4.5,
         1.5
        ],
        [
         5.8,
         2.7,
         4.1,
         1
        ],
        [
         6.2,
         2.2,
         4.5,
         1.5
        ],
        [
         5.6,
         2.5,
         3.9,
         1.1
        ],
        [
         5.9,
         3.2,
         4.8,
         1.8
        ],
        [
         6.1,
         2.8,
         4,
         1.3
        ],
        [
         6.3,
         2.5,
         4.9,
         1.5
        ],
        [
         6.1,
         2.8,
         4.7,
         1.2
        ],
        [
         6.4,
         2.9,
         4.3,
         1.3
        ],
        [
         6.6,
         3,
         4.4,
         1.4
        ],
        [
         6.8,
         2.8,
         4.8,
         1.4
        ],
        [
         6.7,
         3,
         5,
         1.7
        ],
        [
         6,
         2.9,
         4.5,
         1.5
        ],
        [
         5.7,
         2.6,
         3.5,
         1
        ],
        [
         5.5,
         2.4,
         3.8,
         1.1
        ],
        [
         5.5,
         2.4,
         3.7,
         1
        ],
        [
         5.8,
         2.7,
         3.9,
         1.2
        ],
        [
         6,
         2.7,
         5.1,
         1.6
        ],
        [
         5.4,
         3,
         4.5,
         1.5
        ],
        [
         6,
         3.4,
         4.5,
         1.6
        ],
        [
         6.7,
         3.1,
         4.7,
         1.5
        ],
        [
         6.3,
         2.3,
         4.4,
         1.3
        ],
        [
         5.6,
         3,
         4.1,
         1.3
        ],
        [
         5.5,
         2.5,
         4,
         1.3
        ],
        [
         5.5,
         2.6,
         4.4,
         1.2
        ],
        [
         6.1,
         3,
         4.6,
         1.4
        ],
        [
         5.8,
         2.6,
         4,
         1.2
        ],
        [
         5,
         2.3,
         3.3,
         1
        ],
        [
         5.6,
         2.7,
         4.2,
         1.3
        ],
        [
         5.7,
         3,
         4.2,
         1.2
        ],
        [
         5.7,
         2.9,
         4.2,
         1.3
        ],
        [
         6.2,
         2.9,
         4.3,
         1.3
        ],
        [
         5.1,
         2.5,
         3,
         1.1
        ],
        [
         5.7,
         2.8,
         4.1,
         1.3
        ],
        [
         6.3,
         3.3,
         6,
         2.5
        ],
        [
         5.8,
         2.7,
         5.1,
         1.9
        ],
        [
         7.1,
         3,
         5.9,
         2.1
        ],
        [
         6.3,
         2.9,
         5.6,
         1.8
        ],
        [
         6.5,
         3,
         5.8,
         2.2
        ],
        [
         7.6,
         3,
         6.6,
         2.1
        ],
        [
         4.9,
         2.5,
         4.5,
         1.7
        ],
        [
         7.3,
         2.9,
         6.3,
         1.8
        ],
        [
         6.7,
         2.5,
         5.8,
         1.8
        ],
        [
         7.2,
         3.6,
         6.1,
         2.5
        ],
        [
         6.5,
         3.2,
         5.1,
         2
        ],
        [
         6.4,
         2.7,
         5.3,
         1.9
        ],
        [
         6.8,
         3,
         5.5,
         2.1
        ],
        [
         5.7,
         2.5,
         5,
         2
        ],
        [
         5.8,
         2.8,
         5.1,
         2.4
        ],
        [
         6.4,
         3.2,
         5.3,
         2.3
        ],
        [
         6.5,
         3,
         5.5,
         1.8
        ],
        [
         7.7,
         3.8,
         6.7,
         2.2
        ],
        [
         7.7,
         2.6,
         6.9,
         2.3
        ],
        [
         6,
         2.2,
         5,
         1.5
        ],
        [
         6.9,
         3.2,
         5.7,
         2.3
        ],
        [
         5.6,
         2.8,
         4.9,
         2
        ],
        [
         7.7,
         2.8,
         6.7,
         2
        ],
        [
         6.3,
         2.7,
         4.9,
         1.8
        ],
        [
         6.7,
         3.3,
         5.7,
         2.1
        ],
        [
         7.2,
         3.2,
         6,
         1.8
        ],
        [
         6.2,
         2.8,
         4.8,
         1.8
        ],
        [
         6.1,
         3,
         4.9,
         1.8
        ],
        [
         6.4,
         2.8,
         5.6,
         2.1
        ],
        [
         7.2,
         3,
         5.8,
         1.6
        ],
        [
         7.4,
         2.8,
         6.1,
         1.9
        ],
        [
         7.9,
         3.8,
         6.4,
         2
        ],
        [
         6.4,
         2.8,
         5.6,
         2.2
        ],
        [
         6.3,
         2.8,
         5.1,
         1.5
        ],
        [
         6.1,
         2.6,
         5.6,
         1.4
        ],
        [
         7.7,
         3,
         6.1,
         2.3
        ],
        [
         6.3,
         3.4,
         5.6,
         2.4
        ],
        [
         6.4,
         3.1,
         5.5,
         1.8
        ],
        [
         6,
         3,
         4.8,
         1.8
        ],
        [
         6.9,
         3.1,
         5.4,
         2.1
        ],
        [
         6.7,
         3.1,
         5.6,
         2.4
        ],
        [
         6.9,
         3.1,
         5.1,
         2.3
        ],
        [
         5.8,
         2.7,
         5.1,
         1.9
        ],
        [
         6.8,
         3.2,
         5.9,
         2.3
        ],
        [
         6.7,
         3.3,
         5.7,
         2.5
        ],
        [
         6.7,
         3,
         5.2,
         2.3
        ],
        [
         6.3,
         2.5,
         5,
         1.9
        ],
        [
         6.5,
         3,
         5.2,
         2
        ],
        [
         6.2,
         3.4,
         5.4,
         2.3
        ],
        [
         5.9,
         3,
         5.1,
         1.8
        ]
       ],
       "data_module": "sklearn.datasets.data",
       "feature_names": [
        "sepal length (cm)",
        "sepal width (cm)",
        "petal length (cm)",
        "petal width (cm)"
       ],
       "filename": "iris.csv",
       "frame": null,
       "target": [
        0,
        0,
        0,
        0,
        0,
        0,
        0,
        0,
        0,
        0,
        0,
        0,
        0,
        0,
        0,
        0,
        0,
        0,
        0,
        0,
        0,
        0,
        0,
        0,
        0,
        0,
        0,
        0,
        0,
        0,
        0,
        0,
        0,
        0,
        0,
        0,
        0,
        0,
        0,
        0,
        0,
        0,
        0,
        0,
        0,
        0,
        0,
        0,
        0,
        0,
        1,
        1,
        1,
        1,
        1,
        1,
        1,
        1,
        1,
        1,
        1,
        1,
        1,
        1,
        1,
        1,
        1,
        1,
        1,
        1,
        1,
        1,
        1,
        1,
        1,
        1,
        1,
        1,
        1,
        1,
        1,
        1,
        1,
        1,
        1,
        1,
        1,
        1,
        1,
        1,
        1,
        1,
        1,
        1,
        1,
        1,
        1,
        1,
        1,
        1,
        2,
        2,
        2,
        2,
        2,
        2,
        2,
        2,
        2,
        2,
        2,
        2,
        2,
        2,
        2,
        2,
        2,
        2,
        2,
        2,
        2,
        2,
        2,
        2,
        2,
        2,
        2,
        2,
        2,
        2,
        2,
        2,
        2,
        2,
        2,
        2,
        2,
        2,
        2,
        2,
        2,
        2,
        2,
        2,
        2,
        2,
        2,
        2,
        2,
        2
       ],
       "target_names": [
        "setosa",
        "versicolor",
        "virginica"
       ]
      },
      "text/plain": [
       "<IPython.core.display.JSON object>"
      ]
     },
     "execution_count": 6,
     "metadata": {
      "application/json": {
       "expanded": false,
       "root": "root"
      }
     },
     "output_type": "execute_result"
    }
   ],
   "source": [
    "JSON(iris)"
   ]
  },
  {
   "cell_type": "code",
   "execution_count": 7,
   "id": "0fa89a23-b81a-4ba1-8493-967944af6f8e",
   "metadata": {},
   "outputs": [],
   "source": [
    "X = iris.data\n",
    "Y = iris.target"
   ]
  },
  {
   "cell_type": "code",
   "execution_count": 8,
   "id": "ce27f6c7-a2a3-459e-897a-6373dcf5c918",
   "metadata": {},
   "outputs": [
    {
     "data": {
      "text/plain": [
       "array([0, 0, 0, 0, 0, 0, 0, 0, 0, 0, 0, 0, 0, 0, 0, 0, 0, 0, 0, 0, 0, 0,\n",
       "       0, 0, 0, 0, 0, 0, 0, 0, 0, 0, 0, 0, 0, 0, 0, 0, 0, 0, 0, 0, 0, 0,\n",
       "       0, 0, 0, 0, 0, 0, 1, 1, 1, 1, 1, 1, 1, 1, 1, 1, 1, 1, 1, 1, 1, 1,\n",
       "       1, 1, 1, 1, 1, 1, 1, 1, 1, 1, 1, 1, 1, 1, 1, 1, 1, 1, 1, 1, 1, 1,\n",
       "       1, 1, 1, 1, 1, 1, 1, 1, 1, 1, 1, 1, 2, 2, 2, 2, 2, 2, 2, 2, 2, 2,\n",
       "       2, 2, 2, 2, 2, 2, 2, 2, 2, 2, 2, 2, 2, 2, 2, 2, 2, 2, 2, 2, 2, 2,\n",
       "       2, 2, 2, 2, 2, 2, 2, 2, 2, 2, 2, 2, 2, 2, 2, 2, 2, 2])"
      ]
     },
     "execution_count": 8,
     "metadata": {},
     "output_type": "execute_result"
    }
   ],
   "source": [
    "Y"
   ]
  },
  {
   "cell_type": "markdown",
   "id": "eabe759f-ce3a-45eb-ac2d-358529dfe231",
   "metadata": {},
   "source": [
    "use to_categorical to modify each class\n",
    "\n",
    "0 -> [1, 0, 0]\n",
    "\n",
    "1 -> [0, 1, 0]\n",
    "\n",
    "2 -> [0, 0, 1]"
   ]
  },
  {
   "cell_type": "code",
   "execution_count": 11,
   "id": "3b28d200-0f3f-4772-992c-cb56e89be1e6",
   "metadata": {
    "tags": []
   },
   "outputs": [],
   "source": [
    "Y = to_categorical(Y)"
   ]
  },
  {
   "cell_type": "code",
   "execution_count": 22,
   "id": "e0c365d5-d856-4d65-a6b0-20651543a204",
   "metadata": {},
   "outputs": [
    {
     "name": "stdout",
     "output_type": "stream",
     "text": [
      "X_train: (100, 4)\n",
      "x_test: (100, 3) \n",
      "y_train: (100, 3)  \n",
      "y_test: (50, 3)\n"
     ]
    }
   ],
   "source": [
    "X_train, X_test, y_train, y_test = train_test_split(\n",
    "    X, Y, test_size=1 / 3, random_state=42\n",
    ")\n",
    "\n",
    "print(\n",
    "    f\"X_train: {X_train.shape}\\nx_test: {x_test.shape} \\ny_train: {y_train.shape}  \\ny_test: {y_test.shape}\"\n",
    ")"
   ]
  },
  {
   "cell_type": "code",
   "execution_count": 23,
   "id": "7767892f-0f73-4618-8694-e357d4c7083f",
   "metadata": {},
   "outputs": [],
   "source": [
    "scaler = MinMaxScaler()\n",
    "scaler.fit(X_train)\n",
    "\n",
    "scaled_X_train = scaler.transform(X_train)\n",
    "scaled_X_test = scaler.transform(X_test)"
   ]
  }
 ],
 "metadata": {
  "kernelspec": {
   "display_name": "Python 3.9.13 64-bit",
   "language": "python",
   "name": "python3"
  },
  "language_info": {
   "codemirror_mode": {
    "name": "ipython",
    "version": 3
   },
   "file_extension": ".py",
   "mimetype": "text/x-python",
   "name": "python",
   "nbconvert_exporter": "python",
   "pygments_lexer": "ipython3",
   "version": "3.9.13"
  },
  "vscode": {
   "interpreter": {
    "hash": "f13af0e12e2b7a5d187f1f521d7f9b9658dbbe45e45b787d155911d708d69613"
   }
  }
 },
 "nbformat": 4,
 "nbformat_minor": 5
}
