{
 "cells": [
  {
   "cell_type": "code",
   "execution_count": 1,
   "metadata": {},
   "outputs": [],
   "source": [
    "import spacy"
   ]
  },
  {
   "cell_type": "code",
   "execution_count": 3,
   "metadata": {},
   "outputs": [],
   "source": [
    "nlp = spacy.load(\"en_core_web_sm\")"
   ]
  },
  {
   "cell_type": "code",
   "execution_count": 4,
   "metadata": {},
   "outputs": [],
   "source": [
    "text = nlp(\"A song can make or ruin a person’s day if they let it get to them.\")"
   ]
  },
  {
   "cell_type": "code",
   "execution_count": 7,
   "metadata": {},
   "outputs": [
    {
     "name": "stdout",
     "output_type": "stream",
     "text": [
      "make, VB, VERB\n"
     ]
    }
   ],
   "source": [
    "print(f\"{text[3]}, {text[3].tag_}, {text[3].pos_}\")"
   ]
  },
  {
   "cell_type": "code",
   "execution_count": 16,
   "metadata": {},
   "outputs": [
    {
     "name": "stdout",
     "output_type": "stream",
     "text": [
      "A          DT         DET        determiner\n",
      "song       NN         NOUN       noun, singular or mass\n",
      "can        MD         AUX        verb, modal auxiliary\n",
      "make       VB         VERB       verb, base form\n",
      "or         CC         CCONJ      conjunction, coordinating\n",
      "ruin       VB         VERB       verb, base form\n",
      "a          DT         DET        determiner\n",
      "person     NN         NOUN       noun, singular or mass\n",
      "’s         POS        PART       possessive ending\n",
      "day        NN         NOUN       noun, singular or mass\n",
      "if         IN         SCONJ      conjunction, subordinating or preposition\n",
      "they       PRP        PRON       pronoun, personal\n",
      "let        VBP        VERB       verb, non-3rd person singular present\n",
      "it         PRP        PRON       pronoun, personal\n",
      "get        VB         VERB       verb, base form\n",
      "to         IN         ADP        conjunction, subordinating or preposition\n",
      "them       PRP        PRON       pronoun, personal\n",
      ".          .          PUNCT      punctuation mark, sentence closer\n"
     ]
    }
   ],
   "source": [
    "for token in text:\n",
    "    print(f\"{token.text:{10}} {token.tag_:{10}} {token.pos_:{10}} {spacy.explain(token.tag_)}\")"
   ]
  }
 ],
 "metadata": {
  "kernelspec": {
   "display_name": "Python 3",
   "language": "python",
   "name": "python3"
  },
  "language_info": {
   "codemirror_mode": {
    "name": "ipython",
    "version": 3
   },
   "file_extension": ".py",
   "mimetype": "text/x-python",
   "name": "python",
   "nbconvert_exporter": "python",
   "pygments_lexer": "ipython3",
   "version": "3.8.3"
  }
 },
 "nbformat": 4,
 "nbformat_minor": 4
}
